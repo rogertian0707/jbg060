{
 "cells": [
  {
   "cell_type": "code",
   "execution_count": 2,
   "metadata": {},
   "outputs": [],
   "source": [
    "from random import shuffle\n",
    "import time\n",
    "import pandas as pd\n",
    "import numpy as np\n",
    "import tensorflow as tf\n",
    "from tensorflow.keras.models import Sequential\n",
    "from tensorflow.keras.layers import Dense, Dropout, LSTM, CuDNNLSTM, BatchNormalization\n",
    "# from tensorflow.keras.callbacks import TensorBoard\n",
    "# from tensorflow.keras.callbacks import ModelCheckpoint, ModelCheckpoint\n",
    "from sklearn import preprocessing\n",
    "import matplotlib.pyplot as plt\n",
    "from collections import deque\n",
    "from keras.callbacks import EarlyStopping"
   ]
  },
  {
   "cell_type": "markdown",
   "metadata": {},
   "source": [
    "# Preprocessing"
   ]
  },
  {
   "cell_type": "code",
   "execution_count": 3,
   "metadata": {},
   "outputs": [],
   "source": [
    "bok = pd.read_csv('../../../data/bokhoven.csv')"
   ]
  },
  {
   "cell_type": "code",
   "execution_count": 4,
   "metadata": {},
   "outputs": [],
   "source": [
    "bok.drop(['Unnamed: 0', 'datumBeginMeting'], axis=1, inplace=True) #don't need these"
   ]
  },
  {
   "cell_type": "code",
   "execution_count": 5,
   "metadata": {},
   "outputs": [],
   "source": [
    "#transform to timestamp and add features\n",
    "def AddColumns(df):\n",
    "    df['Begin'] = pd.to_datetime(df['Begin'])\n",
    "    #df['Date'] = pd.DatetimeIndex(df.Begin).normalize()\n",
    "    df['Weekday'] = df['Begin'].dt.day_name()\n",
    "    #df['Hour'] = df['Begin'].dt.hour\n",
    "    df['TimeOfDay'] = df['Begin'].dt.time\n",
    "    #df['Year'] = df['Begin'].dt.year\n",
    "    df['Month'] = df['Begin'].dt.month_name()\n",
    "    #df['Day'] = df['Begin'].dt.day\n",
    "    return df"
   ]
  },
  {
   "cell_type": "code",
   "execution_count": 6,
   "metadata": {},
   "outputs": [
    {
     "data": {
      "text/html": [
       "<div>\n",
       "<style scoped>\n",
       "    .dataframe tbody tr th:only-of-type {\n",
       "        vertical-align: middle;\n",
       "    }\n",
       "\n",
       "    .dataframe tbody tr th {\n",
       "        vertical-align: top;\n",
       "    }\n",
       "\n",
       "    .dataframe thead th {\n",
       "        text-align: right;\n",
       "    }\n",
       "</style>\n",
       "<table border=\"1\" class=\"dataframe\">\n",
       "  <thead>\n",
       "    <tr style=\"text-align: right;\">\n",
       "      <th></th>\n",
       "      <th>hstWaarde</th>\n",
       "      <th>Bokhoven</th>\n",
       "      <th>Begin</th>\n",
       "      <th>cumsum_previous_15</th>\n",
       "      <th>rain_-15_class</th>\n",
       "      <th>Weekday</th>\n",
       "      <th>TimeOfDay</th>\n",
       "      <th>Month</th>\n",
       "    </tr>\n",
       "  </thead>\n",
       "  <tbody>\n",
       "    <tr>\n",
       "      <th>63</th>\n",
       "      <td>260.0</td>\n",
       "      <td>0.0</td>\n",
       "      <td>2018-01-03 15:00:00</td>\n",
       "      <td>0.0</td>\n",
       "      <td>0</td>\n",
       "      <td>Wednesday</td>\n",
       "      <td>15:00:00</td>\n",
       "      <td>January</td>\n",
       "    </tr>\n",
       "    <tr>\n",
       "      <th>64</th>\n",
       "      <td>0.0</td>\n",
       "      <td>0.0</td>\n",
       "      <td>2018-01-03 16:00:00</td>\n",
       "      <td>0.0</td>\n",
       "      <td>0</td>\n",
       "      <td>Wednesday</td>\n",
       "      <td>16:00:00</td>\n",
       "      <td>January</td>\n",
       "    </tr>\n",
       "    <tr>\n",
       "      <th>65</th>\n",
       "      <td>0.0</td>\n",
       "      <td>0.0</td>\n",
       "      <td>2018-01-03 17:00:00</td>\n",
       "      <td>0.0</td>\n",
       "      <td>0</td>\n",
       "      <td>Wednesday</td>\n",
       "      <td>17:00:00</td>\n",
       "      <td>January</td>\n",
       "    </tr>\n",
       "    <tr>\n",
       "      <th>66</th>\n",
       "      <td>250.0</td>\n",
       "      <td>0.0</td>\n",
       "      <td>2018-01-03 18:00:00</td>\n",
       "      <td>0.0</td>\n",
       "      <td>0</td>\n",
       "      <td>Wednesday</td>\n",
       "      <td>18:00:00</td>\n",
       "      <td>January</td>\n",
       "    </tr>\n",
       "    <tr>\n",
       "      <th>67</th>\n",
       "      <td>300.0</td>\n",
       "      <td>0.0</td>\n",
       "      <td>2018-01-03 19:00:00</td>\n",
       "      <td>0.0</td>\n",
       "      <td>0</td>\n",
       "      <td>Wednesday</td>\n",
       "      <td>19:00:00</td>\n",
       "      <td>January</td>\n",
       "    </tr>\n",
       "    <tr>\n",
       "      <th>68</th>\n",
       "      <td>0.0</td>\n",
       "      <td>0.0</td>\n",
       "      <td>2018-01-03 20:00:00</td>\n",
       "      <td>0.0</td>\n",
       "      <td>0</td>\n",
       "      <td>Wednesday</td>\n",
       "      <td>20:00:00</td>\n",
       "      <td>January</td>\n",
       "    </tr>\n",
       "    <tr>\n",
       "      <th>69</th>\n",
       "      <td>220.0</td>\n",
       "      <td>0.0</td>\n",
       "      <td>2018-01-03 21:00:00</td>\n",
       "      <td>0.0</td>\n",
       "      <td>0</td>\n",
       "      <td>Wednesday</td>\n",
       "      <td>21:00:00</td>\n",
       "      <td>January</td>\n",
       "    </tr>\n",
       "  </tbody>\n",
       "</table>\n",
       "</div>"
      ],
      "text/plain": [
       "    hstWaarde  Bokhoven               Begin  cumsum_previous_15  \\\n",
       "63      260.0       0.0 2018-01-03 15:00:00                 0.0   \n",
       "64        0.0       0.0 2018-01-03 16:00:00                 0.0   \n",
       "65        0.0       0.0 2018-01-03 17:00:00                 0.0   \n",
       "66      250.0       0.0 2018-01-03 18:00:00                 0.0   \n",
       "67      300.0       0.0 2018-01-03 19:00:00                 0.0   \n",
       "68        0.0       0.0 2018-01-03 20:00:00                 0.0   \n",
       "69      220.0       0.0 2018-01-03 21:00:00                 0.0   \n",
       "\n",
       "    rain_-15_class    Weekday TimeOfDay    Month  \n",
       "63               0  Wednesday  15:00:00  January  \n",
       "64               0  Wednesday  16:00:00  January  \n",
       "65               0  Wednesday  17:00:00  January  \n",
       "66               0  Wednesday  18:00:00  January  \n",
       "67               0  Wednesday  19:00:00  January  \n",
       "68               0  Wednesday  20:00:00  January  \n",
       "69               0  Wednesday  21:00:00  January  "
      ]
     },
     "execution_count": 6,
     "metadata": {},
     "output_type": "execute_result"
    }
   ],
   "source": [
    "new_bok = AddColumns(bok)\n",
    "new_bok[63:70]"
   ]
  },
  {
   "cell_type": "code",
   "execution_count": 7,
   "metadata": {},
   "outputs": [],
   "source": [
    "def preprocess_df(df):\n",
    "    for col in df.columns:  # go through all of the columns\n",
    "        if col == \"hstWaarde\":  # normalize the flow column \n",
    "            df[col] = (df[col]-df[col].min())/(df[col].max()- df[col].min()) #scale between 0 and 1 using min-max normalization\n",
    "    df.dropna(inplace=True)  # cleanup again... jic. Those nasty NaNs love to creep in.\n",
    "    return df"
   ]
  },
  {
   "cell_type": "code",
   "execution_count": 8,
   "metadata": {},
   "outputs": [
    {
     "name": "stderr",
     "output_type": "stream",
     "text": [
      "/home/roger/anaconda3/lib/python3.7/site-packages/ipykernel_launcher.py:4: SettingWithCopyWarning: \n",
      "A value is trying to be set on a copy of a slice from a DataFrame.\n",
      "Try using .loc[row_indexer,col_indexer] = value instead\n",
      "\n",
      "See the caveats in the documentation: http://pandas.pydata.org/pandas-docs/stable/indexing.html#indexing-view-versus-copy\n",
      "  after removing the cwd from sys.path.\n",
      "/home/roger/anaconda3/lib/python3.7/site-packages/ipykernel_launcher.py:5: SettingWithCopyWarning: \n",
      "A value is trying to be set on a copy of a slice from a DataFrame\n",
      "\n",
      "See the caveats in the documentation: http://pandas.pydata.org/pandas-docs/stable/indexing.html#indexing-view-versus-copy\n",
      "  \"\"\"\n"
     ]
    }
   ],
   "source": [
    "#extract dry days\n",
    "cleaned_data = new_bok[new_bok['rain_-15_class'] == 0]\n",
    "preproc = preprocess_df(cleaned_data)"
   ]
  },
  {
   "cell_type": "code",
   "execution_count": 9,
   "metadata": {},
   "outputs": [],
   "source": [
    "#renew indices\n",
    "preproc_dry = preproc.reset_index(inplace=False)\n",
    "preproc_dry.drop(['index','Bokhoven', 'cumsum_previous_15', 'rain_-15_class'], axis = 1, inplace=True)"
   ]
  },
  {
   "cell_type": "code",
   "execution_count": 10,
   "metadata": {},
   "outputs": [
    {
     "name": "stderr",
     "output_type": "stream",
     "text": [
      "/home/roger/anaconda3/lib/python3.7/site-packages/pandas/plotting/_converter.py:129: FutureWarning: Using an implicitly registered datetime converter for a matplotlib plotting method. The converter was registered by pandas on import. Future versions of pandas will require you to explicitly register matplotlib converters.\n",
      "\n",
      "To register the converters:\n",
      "\t>>> from pandas.plotting import register_matplotlib_converters\n",
      "\t>>> register_matplotlib_converters()\n",
      "  warnings.warn(msg, FutureWarning)\n"
     ]
    },
    {
     "data": {
      "image/png": "[encoded data removed]",
      "text/plain": [
       "<Figure size 432x288 with 1 Axes>"
      ]
     },
     "metadata": {
      "needs_background": "light"
     },
     "output_type": "display_data"
    }
   ],
   "source": [
    "#check normalization results\n",
    "plt.plot(preproc_dry['Begin'], preproc_dry['hstWaarde']);"
   ]
  },
  {
   "cell_type": "code",
   "execution_count": 11,
   "metadata": {},
   "outputs": [],
   "source": [
    "#create and concat dummies\n",
    "dummies = pd.get_dummies(preproc_dry[['Weekday','TimeOfDay','Month']])\n",
    "preproc_dry.drop(['Weekday','TimeOfDay','Month'], axis = 1, inplace=True)\n",
    "main_df = pd.concat([preproc_dry, dummies], axis = 1)\n",
    "main_df.drop('Begin', axis=1, inplace=True)"
   ]
  },
  {
   "cell_type": "code",
   "execution_count": 12,
   "metadata": {},
   "outputs": [],
   "source": [
    "#split the data is 60% training, 20% validation and 20% test data\n",
    "train = main_df.iloc[:-int(0.4*len(main_df))]\n",
    "\n",
    "rest = main_df[main_df.index >= max(train.index)]\n",
    "rest = rest.reset_index()\n",
    "rest = rest.drop('index', axis = 1)\n",
    "\n",
    "test = rest[rest.index >= len(rest)//2]\n",
    "test = test.reset_index()\n",
    "test = test.drop('index', axis = 1)\n",
    "\n",
    "validation = rest[rest.index < len(rest)//2]\n",
    "validation = validation.reset_index()\n",
    "validation = validation.drop('index', axis = 1)"
   ]
  },
  {
   "cell_type": "code",
   "execution_count": 13,
   "metadata": {},
   "outputs": [
    {
     "data": {
      "text/plain": [
       "((5611, 44), (1871, 44), (1870, 44))"
      ]
     },
     "execution_count": 13,
     "metadata": {},
     "output_type": "execute_result"
    }
   ],
   "source": [
    "train.shape, test.shape, validation.shape"
   ]
  },
  {
   "cell_type": "code",
   "execution_count": 14,
   "metadata": {},
   "outputs": [],
   "source": [
    "#make sure to only predict using past data\n",
    "SEQ_LEN = 168  # how long of a preceeding sequence to collect for RNN (168 hours = 1 week)\n",
    "FUTURE_PERIOD_PREDICT = 24 #how far to predict ahead of time\n",
    "\n",
    "\n",
    "\n",
    "def sequential(df):\n",
    "    sequential_data = []  # this is a list that will CONTAIN the sequences\n",
    "    prev_days = deque(maxlen=SEQ_LEN)  # These will be our actual sequences. They are made with deque, which keeps the maximum length by popping out older values as new ones come in\n",
    "    for i in df.values:  # iterate over the values\n",
    "        prev_days.append([n for n in i[1:]])  # store all but the target\n",
    "        if len(prev_days) == SEQ_LEN:  # make sure we use the past week\n",
    "            sequential_data.append([np.array(prev_days), i[0]])  # append those bad boys!\n",
    "    shuffle(sequential_data)\n",
    "    \n",
    "    X = []\n",
    "    y = []\n",
    "\n",
    "    for seq, target in sequential_data:  # going over our new sequential data\n",
    "        X.append(seq)  # X is the sequences\n",
    "        y.append(target)  # y is the targets -> flow to be predicted\n",
    "\n",
    "    return np.array(X), np.array(y)  # return X and y...and make X a numpy array!"
   ]
  },
  {
   "cell_type": "code",
   "execution_count": 15,
   "metadata": {},
   "outputs": [],
   "source": [
    "train_x, train_y = sequential(train)\n",
    "validation_x, validation_y = sequential(validation)"
   ]
  },
  {
   "cell_type": "code",
   "execution_count": 16,
   "metadata": {},
   "outputs": [
    {
     "data": {
      "text/plain": [
       "((5444, 168, 43), (5444,))"
      ]
     },
     "execution_count": 16,
     "metadata": {},
     "output_type": "execute_result"
    }
   ],
   "source": [
    "train_x.shape, train_y.shape"
   ]
  },
  {
   "cell_type": "markdown",
   "metadata": {},
   "source": [
    "# Model Building"
   ]
  },
  {
   "cell_type": "markdown",
   "metadata": {
    "jupyter": {
     "source_hidden": true
    }
   },
   "source": [
    "EPOCHS = 10  # how many passes through our data\n",
    "BATCH_SIZE = 64  # how many batches? Try smaller batch if you're getting OOM (out of memory) errors.\n",
    "NAME = f\"{SEQ_LEN}-SEQ-{FUTURE_PERIOD_PREDICT}-PRED-{int(time.time())}\"\n",
    "\n",
    "model = Sequential()\n",
    "model.add(LSTM(128, input_shape=(train_x.shape[1:]), return_sequences=True))\n",
    "model.add(Dropout(0.2))\n",
    "model.add(BatchNormalization())\n",
    "\n",
    "model.add(LSTM(128, return_sequences=True))\n",
    "model.add(Dropout(0.1))\n",
    "model.add(BatchNormalization())\n",
    "\n",
    "model.add(LSTM(128))\n",
    "model.add(Dropout(0.2))\n",
    "model.add(BatchNormalization())\n",
    "\n",
    "model.add(Dense(32, activation='relu'))\n",
    "model.add(Dropout(0.2))\n",
    "\n",
    "model.add(Dense(2, activation='relu'))\n",
    "\n",
    "\n",
    "opt = tf.keras.optimizers.Adam(lr=0.001, decay=1e-6)\n",
    "\n",
    "# Compile model\n",
    "model.compile(\n",
    "    loss='sparse_categorical_crossentropy',\n",
    "    optimizer=opt,\n",
    "    metrics=['accuracy', 'mae']\n",
    ")\n",
    "\n",
    "early_stopping_monitor = EarlyStopping(patience = 3)\n",
    "\n",
    "# tensorboard = TensorBoard(log_dir=\"logs/{}\".format(NAME))\n",
    "\n",
    "# filepath = \"RNN_Final-{epoch:02d}-{val_acc:.3f}\"  # unique file name that will include the epoch and the validation acc for that epoch\n",
    "# checkpoint = ModelCheckpoint(\"models/{}.model\".format(filepath, monitor='val_acc', verbose=1, save_best_only=True, mode='max')) # saves only the best ones\n",
    "\n",
    "# Train model\n",
    "history = model.fit(\n",
    "    train_x, train_y,\n",
    "    batch_size=BATCH_SIZE,\n",
    "    epochs=EPOCHS,\n",
    "    validation_data=(validation_x, validation_y)#,\n",
    "#     callbacks=[tensorboard, checkpoint],\n",
    ")\n",
    "\n",
    "# Score model\n",
    "score = model.evaluate(validation_x, validation_y, verbose=0)\n",
    "print('Test loss:', score[0])\n",
    "print('Test accuracy:', score[1])\n",
    "# Save model\n",
    "# model.save(\"models/{}\".format(NAME))"
   ]
  },
  {
   "cell_type": "markdown",
   "metadata": {
    "jupyter": {
     "source_hidden": true
    }
   },
   "source": [
    "EPOCHS = 1  # how many passes through our data\n",
    "BATCH_SIZE = 64  # how many batches? Try smaller batch if you're getting OOM (out of memory) errors.\n",
    "NAME = f\"{SEQ_LEN}-SEQ-{FUTURE_PERIOD_PREDICT}-PRED-{int(time.time())}\"\n",
    "\n",
    "model = Sequential()\n",
    "model.add(LSTM(128, input_shape=(train_x.shape[1:]), return_sequences=True))\n",
    "model.add(Dropout(0.2))\n",
    "model.add(BatchNormalization())\n",
    "\n",
    "model.add(LSTM(128, return_sequences=True))\n",
    "model.add(Dropout(0.1))\n",
    "model.add(BatchNormalization())\n",
    "\n",
    "model.add(LSTM(128))\n",
    "model.add(Dropout(0.2))\n",
    "model.add(BatchNormalization())\n",
    "\n",
    "model.add(Dense(32, activation='relu'))\n",
    "model.add(Dropout(0.2))\n",
    "\n",
    "model.add(Dense(2, activation='relu'))\n",
    "\n",
    "\n",
    "opt = tf.keras.optimizers.Adam(lr=0.001, decay=1e-6)\n",
    "\n",
    "# Compile model\n",
    "model.compile(\n",
    "    loss='mean_absolute_error',\n",
    "    optimizer=opt,\n",
    "    metrics=['accuracy', 'mae']\n",
    ")\n",
    "\n",
    "early_stopping_monitor = EarlyStopping(patience = 3)\n",
    "\n",
    "# tensorboard = TensorBoard(log_dir=\"logs/{}\".format(NAME))\n",
    "\n",
    "# filepath = \"RNN_Final-{epoch:02d}-{val_acc:.3f}\"  # unique file name that will include the epoch and the validation acc for that epoch\n",
    "# checkpoint = ModelCheckpoint(\"models/{}.model\".format(filepath, monitor='val_acc', verbose=1, save_best_only=True, mode='max')) # saves only the best ones\n",
    "\n",
    "# Train model\n",
    "history = model.fit(\n",
    "    train_x, train_y,\n",
    "    batch_size=BATCH_SIZE,\n",
    "    epochs=EPOCHS,\n",
    "    validation_data=(validation_x, validation_y)#,\n",
    "#     callbacks=[tensorboard, checkpoint],\n",
    ")\n",
    "\n",
    "# Score model\n",
    "score = model.evaluate(validation_x, validation_y, verbose=0)\n",
    "print('Test loss:', score[0])\n",
    "print('Test accuracy:', score[1])\n",
    "# Save model\n",
    "# model.save(\"models/{}\".format(NAME))"
   ]
  },
  {
   "cell_type": "code",
   "execution_count": 21,
   "metadata": {},
   "outputs": [],
   "source": [
    "from sklearn.linear_model import Ridge\n",
    "from sklearn.model_selection import cross_val_score\n",
    "from sklearn.model_selection import train_test_split\n",
    "from sklearn.metrics import r2_score"
   ]
  },
  {
   "cell_type": "code",
   "execution_count": 31,
   "metadata": {},
   "outputs": [],
   "source": [
    "ridge_data = preproc.drop([\"Begin\",'Bokhoven', 'cumsum_previous_15', 'rain_-15_class'],axis=1)"
   ]
  },
  {
   "cell_type": "code",
   "execution_count": 32,
   "metadata": {},
   "outputs": [
    {
     "data": {
      "text/html": [
       "<div>\n",
       "<style scoped>\n",
       "    .dataframe tbody tr th:only-of-type {\n",
       "        vertical-align: middle;\n",
       "    }\n",
       "\n",
       "    .dataframe tbody tr th {\n",
       "        vertical-align: top;\n",
       "    }\n",
       "\n",
       "    .dataframe thead th {\n",
       "        text-align: right;\n",
       "    }\n",
       "</style>\n",
       "<table border=\"1\" class=\"dataframe\">\n",
       "  <thead>\n",
       "    <tr style=\"text-align: right;\">\n",
       "      <th></th>\n",
       "      <th>hstWaarde</th>\n",
       "      <th>Weekday</th>\n",
       "      <th>TimeOfDay</th>\n",
       "      <th>Month</th>\n",
       "    </tr>\n",
       "  </thead>\n",
       "  <tbody>\n",
       "    <tr>\n",
       "      <th>63</th>\n",
       "      <td>0.216667</td>\n",
       "      <td>Wednesday</td>\n",
       "      <td>15:00:00</td>\n",
       "      <td>January</td>\n",
       "    </tr>\n",
       "    <tr>\n",
       "      <th>64</th>\n",
       "      <td>0.000000</td>\n",
       "      <td>Wednesday</td>\n",
       "      <td>16:00:00</td>\n",
       "      <td>January</td>\n",
       "    </tr>\n",
       "    <tr>\n",
       "      <th>65</th>\n",
       "      <td>0.000000</td>\n",
       "      <td>Wednesday</td>\n",
       "      <td>17:00:00</td>\n",
       "      <td>January</td>\n",
       "    </tr>\n",
       "    <tr>\n",
       "      <th>66</th>\n",
       "      <td>0.208333</td>\n",
       "      <td>Wednesday</td>\n",
       "      <td>18:00:00</td>\n",
       "      <td>January</td>\n",
       "    </tr>\n",
       "    <tr>\n",
       "      <th>67</th>\n",
       "      <td>0.250000</td>\n",
       "      <td>Wednesday</td>\n",
       "      <td>19:00:00</td>\n",
       "      <td>January</td>\n",
       "    </tr>\n",
       "  </tbody>\n",
       "</table>\n",
       "</div>"
      ],
      "text/plain": [
       "    hstWaarde    Weekday TimeOfDay    Month\n",
       "63   0.216667  Wednesday  15:00:00  January\n",
       "64   0.000000  Wednesday  16:00:00  January\n",
       "65   0.000000  Wednesday  17:00:00  January\n",
       "66   0.208333  Wednesday  18:00:00  January\n",
       "67   0.250000  Wednesday  19:00:00  January"
      ]
     },
     "execution_count": 32,
     "metadata": {},
     "output_type": "execute_result"
    }
   ],
   "source": [
    "ridge_data.head()"
   ]
  },
  {
   "cell_type": "code",
   "execution_count": 38,
   "metadata": {},
   "outputs": [
    {
     "data": {
      "text/plain": [
       "Index(['hstWaarde', 'Weekday_Friday', 'Weekday_Monday', 'Weekday_Saturday',\n",
       "       'Weekday_Sunday', 'Weekday_Thursday', 'Weekday_Tuesday',\n",
       "       'Weekday_Wednesday', 'TimeOfDay_00:00:00', 'TimeOfDay_01:00:00',\n",
       "       'TimeOfDay_02:00:00', 'TimeOfDay_03:00:00', 'TimeOfDay_04:00:00',\n",
       "       'TimeOfDay_05:00:00', 'TimeOfDay_06:00:00', 'TimeOfDay_07:00:00',\n",
       "       'TimeOfDay_08:00:00', 'TimeOfDay_09:00:00', 'TimeOfDay_10:00:00',\n",
       "       'TimeOfDay_11:00:00', 'TimeOfDay_12:00:00', 'TimeOfDay_13:00:00',\n",
       "       'TimeOfDay_14:00:00', 'TimeOfDay_15:00:00', 'TimeOfDay_16:00:00',\n",
       "       'TimeOfDay_17:00:00', 'TimeOfDay_18:00:00', 'TimeOfDay_19:00:00',\n",
       "       'TimeOfDay_20:00:00', 'TimeOfDay_21:00:00', 'TimeOfDay_22:00:00',\n",
       "       'TimeOfDay_23:00:00', 'Month_April', 'Month_August', 'Month_December',\n",
       "       'Month_February', 'Month_January', 'Month_July', 'Month_June',\n",
       "       'Month_March', 'Month_May', 'Month_November', 'Month_October',\n",
       "       'Month_September'],\n",
       "      dtype='object')"
      ]
     },
     "execution_count": 38,
     "metadata": {},
     "output_type": "execute_result"
    }
   ],
   "source": [
    "main_df.columns"
   ]
  },
  {
   "cell_type": "code",
   "execution_count": 39,
   "metadata": {},
   "outputs": [],
   "source": [
    "X = main_df[['Weekday_Friday', 'Weekday_Monday', 'Weekday_Saturday',\n",
    "       'Weekday_Sunday', 'Weekday_Thursday', 'Weekday_Tuesday',\n",
    "       'Weekday_Wednesday', 'TimeOfDay_00:00:00', 'TimeOfDay_01:00:00',\n",
    "       'TimeOfDay_02:00:00', 'TimeOfDay_03:00:00', 'TimeOfDay_04:00:00',\n",
    "       'TimeOfDay_05:00:00', 'TimeOfDay_06:00:00', 'TimeOfDay_07:00:00',\n",
    "       'TimeOfDay_08:00:00', 'TimeOfDay_09:00:00', 'TimeOfDay_10:00:00',\n",
    "       'TimeOfDay_11:00:00', 'TimeOfDay_12:00:00', 'TimeOfDay_13:00:00',\n",
    "       'TimeOfDay_14:00:00', 'TimeOfDay_15:00:00', 'TimeOfDay_16:00:00',\n",
    "       'TimeOfDay_17:00:00', 'TimeOfDay_18:00:00', 'TimeOfDay_19:00:00',\n",
    "       'TimeOfDay_20:00:00', 'TimeOfDay_21:00:00', 'TimeOfDay_22:00:00',\n",
    "       'TimeOfDay_23:00:00', 'Month_April', 'Month_August', 'Month_December',\n",
    "       'Month_February', 'Month_January', 'Month_July', 'Month_June',\n",
    "       'Month_March', 'Month_May', 'Month_November', 'Month_October',\n",
    "       'Month_September']]\n",
    "y = main_df[[\"hstWaarde\"]]"
   ]
  },
  {
   "cell_type": "code",
   "execution_count": 41,
   "metadata": {},
   "outputs": [],
   "source": [
    "X_train, X_test, y_train, y_test = train_test_split(X, y, train_size=.8, shuffle=False, random_state=1)"
   ]
  },
  {
   "cell_type": "code",
   "execution_count": 42,
   "metadata": {},
   "outputs": [
    {
     "name": "stdout",
     "output_type": "stream",
     "text": [
      "0.00395493788803547\n"
     ]
    }
   ],
   "source": [
    "model = Ridge()\n",
    "model.fit(X_train, y_train)\n",
    "predictions = model.predict(X_test)\n",
    "score = r2_score(y_test, predictions)\n",
    "print(score)\n"
   ]
  },
  {
   "cell_type": "code",
   "execution_count": 43,
   "metadata": {},
   "outputs": [
    {
     "data": {
      "image/png": "[encoded data removed]",
      "text/plain": [
       "<Figure size 1080x360 with 1 Axes>"
      ]
     },
     "metadata": {
      "needs_background": "light"
     },
     "output_type": "display_data"
    }
   ],
   "source": [
    "fig, ax = plt.subplots(figsize=(15, 5))\n",
    "ax.plot(y_test, color='k', lw=3)\n",
    "ax.plot(predictions, color='r', lw=2)\n",
    "plt.show()\n"
   ]
  }
 ],
 "metadata": {
  "kernelspec": {
   "display_name": "Python 3",
   "language": "python",
   "name": "python3"
  },
  "language_info": {
   "codemirror_mode": {
    "name": "ipython",
    "version": 3
   },
   "file_extension": ".py",
   "mimetype": "text/x-python",
   "name": "python",
   "nbconvert_exporter": "python",
   "pygments_lexer": "ipython3",
   "version": "3.7.3"
  }
 },
 "nbformat": 4,
 "nbformat_minor": 4
}
