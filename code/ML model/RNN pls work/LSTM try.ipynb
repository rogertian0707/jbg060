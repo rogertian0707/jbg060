{
 "cells": [
  {
   "cell_type": "code",
   "execution_count": 4,
   "metadata": {},
   "outputs": [],
   "source": [
    "import pandas as pd\n",
    "import numpy\n",
    "import matplotlib.pyplot as plt\n",
    "from pandas import read_csv\n",
    "import math\n",
    "from keras.models import Sequential\n",
    "from keras.layers import Dense\n",
    "from keras.layers import LSTM\n",
    "from sklearn.preprocessing import MinMaxScaler\n",
    "from sklearn.metrics import mean_squared_error"
   ]
  },
  {
   "cell_type": "code",
   "execution_count": 8,
   "metadata": {},
   "outputs": [],
   "source": [
    "#transform to timestamp and add features\n",
    "def AddColumns(df):\n",
    "    df['Begin'] = pd.to_datetime(df['Begin'])\n",
    "    #df['Date'] = pd.DatetimeIndex(df.Begin).normalize()\n",
    "    df['Weekday'] = df['Begin'].dt.day_name()\n",
    "    #df['Hour'] = df['Begin'].dt.hour\n",
    "    df['TimeOfDay'] = df['Begin'].dt.time\n",
    "    #df['Year'] = df['Begin'].dt.year\n",
    "    df['Month'] = df['Begin'].dt.month_name()\n",
    "    #df['Day'] = df['Begin'].dt.day\n",
    "    return df\n",
    "\n",
    "\n",
    "def DryHours(df):\n",
    "    '''\n",
    "    Input:      - df with data per pump\n",
    "                - string of the pump name (to access the rain column)\n",
    "    Output:     - df with only dry hours according to our definition\n",
    "    '''\n",
    "    dry = df[df['rain_-15_class'] == 0]\n",
    "    return dry\n",
    "\n",
    "\n",
    "def preprocess_df(df):\n",
    "    for col in df.columns:  # go through all of the columns\n",
    "        if col == \"hstWaarde\":  # normalize the flow column \n",
    "            df[col] = (df[col]-df[col].min())/(df[col].max()- df[col].min()) #scale between 0 and 1 using min-max normalization\n",
    "    df.dropna(inplace=True)  # cleanup again... jic. Those nasty NaNs love to creep in.\n",
    "    return df"
   ]
  },
  {
   "cell_type": "markdown",
   "metadata": {},
   "source": [
    "# dataaaaaa"
   ]
  },
  {
   "cell_type": "code",
   "execution_count": 6,
   "metadata": {},
   "outputs": [],
   "source": [
    "dataset = pd.read_csv('../../../data/new_haar.csv')\n",
    "dataset.drop(['Unnamed: 0', 'datumBeginMeting'], axis=1, inplace=True) #don't need these"
   ]
  },
  {
   "cell_type": "code",
   "execution_count": 11,
   "metadata": {},
   "outputs": [
    {
     "data": {
      "text/html": [
       "<div>\n",
       "<style scoped>\n",
       "    .dataframe tbody tr th:only-of-type {\n",
       "        vertical-align: middle;\n",
       "    }\n",
       "\n",
       "    .dataframe tbody tr th {\n",
       "        vertical-align: top;\n",
       "    }\n",
       "\n",
       "    .dataframe thead th {\n",
       "        text-align: right;\n",
       "    }\n",
       "</style>\n",
       "<table border=\"1\" class=\"dataframe\">\n",
       "  <thead>\n",
       "    <tr style=\"text-align: right;\">\n",
       "      <th></th>\n",
       "      <th>hstWaarde</th>\n",
       "    </tr>\n",
       "  </thead>\n",
       "  <tbody>\n",
       "    <tr>\n",
       "      <td>0</td>\n",
       "      <td>1200.0</td>\n",
       "    </tr>\n",
       "    <tr>\n",
       "      <td>1</td>\n",
       "      <td>260.0</td>\n",
       "    </tr>\n",
       "    <tr>\n",
       "      <td>2</td>\n",
       "      <td>0.0</td>\n",
       "    </tr>\n",
       "    <tr>\n",
       "      <td>3</td>\n",
       "      <td>0.0</td>\n",
       "    </tr>\n",
       "    <tr>\n",
       "      <td>4</td>\n",
       "      <td>250.0</td>\n",
       "    </tr>\n",
       "  </tbody>\n",
       "</table>\n",
       "</div>"
      ],
      "text/plain": [
       "   hstWaarde\n",
       "0     1200.0\n",
       "1      260.0\n",
       "2        0.0\n",
       "3        0.0\n",
       "4      250.0"
      ]
     },
     "execution_count": 11,
     "metadata": {},
     "output_type": "execute_result"
    }
   ],
   "source": [
    "# make it only dry\n",
    "dataset = DryHours(dataset)\n",
    "# reset the index\n",
    "dataset = dataset.reset_index()\n",
    "# only select the flow \n",
    "dataset = dataset[['hstWaarde']]\n",
    "dataset.head()"
   ]
  },
  {
   "cell_type": "code",
   "execution_count": 13,
   "metadata": {},
   "outputs": [
    {
     "data": {
      "text/plain": [
       "(0.0       4338\n",
       " 220.0     1080\n",
       " 240.0      983\n",
       " 260.0      444\n",
       " 200.0      382\n",
       "           ... \n",
       " 104.0        1\n",
       " 350.0        1\n",
       " 218.0        1\n",
       " 1120.0       1\n",
       " 92.0         1\n",
       " Name: hstWaarde, Length: 141, dtype: int64, 0.46856772521062867)"
      ]
     },
     "execution_count": 13,
     "metadata": {},
     "output_type": "execute_result"
    }
   ],
   "source": [
    "dataset['hstWaarde'].value_counts()"
   ]
  },
  {
   "cell_type": "markdown",
   "metadata": {},
   "source": [
    "# use multiple timestamps as separate features"
   ]
  },
  {
   "cell_type": "code",
   "execution_count": 15,
   "metadata": {},
   "outputs": [],
   "source": [
    "# convert an array of values into a dataset matrix\n",
    "def create_dataset(dataset, look_back): # lookback = how many timestamps back do you want\n",
    "\tdataX, dataY = [], []\n",
    "\tfor i in range(len(dataset)-look_back-1):\n",
    "\t\ta = dataset[i:(i+look_back), 0]\n",
    "\t\tdataX.append(a)\n",
    "\t\tdataY.append(dataset[i + look_back, 0])\n",
    "\treturn numpy.array(dataX), numpy.array(dataY)"
   ]
  },
  {
   "cell_type": "code",
   "execution_count": 17,
   "metadata": {},
   "outputs": [],
   "source": [
    "# fix random seed for reproducibility\n",
    "numpy.random.seed(7)"
   ]
  },
  {
   "cell_type": "code",
   "execution_count": 18,
   "metadata": {},
   "outputs": [],
   "source": [
    "# normalize the dataset\n",
    "scaler = MinMaxScaler(feature_range=(0, 1))\n",
    "dataset = scaler.fit_transform(dataset)"
   ]
  },
  {
   "cell_type": "code",
   "execution_count": 20,
   "metadata": {},
   "outputs": [],
   "source": [
    "# split into train and test sets\n",
    "train_size = int(len(dataset) * 0.67)\n",
    "test_size = len(dataset) - train_size\n",
    "train, test = dataset[0:train_size,:], dataset[train_size:len(dataset),:]"
   ]
  },
  {
   "cell_type": "code",
   "execution_count": 21,
   "metadata": {},
   "outputs": [
    {
     "data": {
      "text/plain": [
       "(6202, 3056)"
      ]
     },
     "execution_count": 21,
     "metadata": {},
     "output_type": "execute_result"
    }
   ],
   "source": [
    "len(train), len(test)"
   ]
  },
  {
   "cell_type": "code",
   "execution_count": 31,
   "metadata": {},
   "outputs": [],
   "source": [
    "# reshape into X=t and Y=t+1\n",
    "look_back = 24\n",
    "trainX, trainY = create_dataset(train, look_back)\n",
    "testX, testY = create_dataset(test, look_back)"
   ]
  },
  {
   "cell_type": "code",
   "execution_count": 32,
   "metadata": {},
   "outputs": [
    {
     "data": {
      "text/plain": [
       "((6177, 24), (6177,), (3031, 24), (3031,))"
      ]
     },
     "execution_count": 32,
     "metadata": {},
     "output_type": "execute_result"
    }
   ],
   "source": [
    "trainX.shape, trainY.shape, testX.shape, testY.shape"
   ]
  },
  {
   "cell_type": "code",
   "execution_count": 33,
   "metadata": {},
   "outputs": [
    {
     "data": {
      "text/plain": [
       "array([[1.        , 0.21666667, 0.        , ..., 0.2       , 0.        ,\n",
       "        0.16666667],\n",
       "       [0.21666667, 0.        , 0.        , ..., 0.        , 0.16666667,\n",
       "        0.05      ],\n",
       "       [0.        , 0.        , 0.20833333, ..., 0.16666667, 0.05      ,\n",
       "        0.        ],\n",
       "       ...,\n",
       "       [0.        , 0.        , 0.        , ..., 0.        , 0.2       ,\n",
       "        0.        ],\n",
       "       [0.        , 0.        , 0.        , ..., 0.2       , 0.        ,\n",
       "        0.2       ],\n",
       "       [0.        , 0.        , 0.18333333, ..., 0.        , 0.2       ,\n",
       "        0.08333333]])"
      ]
     },
     "execution_count": 33,
     "metadata": {},
     "output_type": "execute_result"
    }
   ],
   "source": [
    "trainX"
   ]
  },
  {
   "cell_type": "code",
   "execution_count": 34,
   "metadata": {},
   "outputs": [],
   "source": [
    "# reshape input to be [samples, time steps, features]\n",
    "trainX = numpy.reshape(trainX, (trainX.shape[0], 1, trainX.shape[1]))\n",
    "testX = numpy.reshape(testX, (testX.shape[0], 1, testX.shape[1]))"
   ]
  },
  {
   "cell_type": "code",
   "execution_count": 35,
   "metadata": {},
   "outputs": [
    {
     "data": {
      "text/plain": [
       "(6177, 1, 24)"
      ]
     },
     "execution_count": 35,
     "metadata": {},
     "output_type": "execute_result"
    }
   ],
   "source": [
    "trainX.shape"
   ]
  },
  {
   "cell_type": "code",
   "execution_count": 36,
   "metadata": {
    "scrolled": false
   },
   "outputs": [
    {
     "name": "stdout",
     "output_type": "stream",
     "text": [
      "WARNING:tensorflow:From C:\\Users\\20174994\\AppData\\Local\\Continuum\\anaconda3\\lib\\site-packages\\keras\\backend\\tensorflow_backend.py:422: The name tf.global_variables is deprecated. Please use tf.compat.v1.global_variables instead.\n",
      "\n",
      "Epoch 1/100\n",
      " - 7s - loss: 0.0160\n",
      "Epoch 2/100\n",
      " - 7s - loss: 0.0129\n",
      "Epoch 3/100\n",
      " - 7s - loss: 0.0124\n",
      "Epoch 4/100\n",
      " - 7s - loss: 0.0121\n",
      "Epoch 5/100\n",
      " - 7s - loss: 0.0118\n",
      "Epoch 6/100\n",
      " - 7s - loss: 0.0114\n",
      "Epoch 7/100\n",
      " - 7s - loss: 0.0112\n",
      "Epoch 8/100\n",
      " - 7s - loss: 0.0109\n",
      "Epoch 9/100\n",
      " - 7s - loss: 0.0108\n",
      "Epoch 10/100\n",
      " - 7s - loss: 0.0107\n",
      "Epoch 11/100\n",
      " - 7s - loss: 0.0106\n",
      "Epoch 12/100\n",
      " - 7s - loss: 0.0105\n",
      "Epoch 13/100\n",
      " - 7s - loss: 0.0104\n",
      "Epoch 14/100\n",
      " - 16s - loss: 0.0104\n",
      "Epoch 15/100\n",
      " - 19s - loss: 0.0104\n",
      "Epoch 16/100\n",
      " - 18s - loss: 0.0103\n",
      "Epoch 17/100\n",
      " - 12s - loss: 0.0103\n",
      "Epoch 18/100\n",
      " - 7s - loss: 0.0103\n",
      "Epoch 19/100\n",
      " - 8s - loss: 0.0103\n",
      "Epoch 20/100\n",
      " - 7s - loss: 0.0102\n",
      "Epoch 21/100\n",
      " - 7s - loss: 0.0102\n",
      "Epoch 22/100\n",
      " - 7s - loss: 0.0102\n",
      "Epoch 23/100\n",
      " - 7s - loss: 0.0101\n",
      "Epoch 24/100\n",
      " - 7s - loss: 0.0101\n",
      "Epoch 25/100\n",
      " - 7s - loss: 0.0101\n",
      "Epoch 26/100\n",
      " - 7s - loss: 0.0101\n",
      "Epoch 27/100\n",
      " - 7s - loss: 0.0101\n",
      "Epoch 28/100\n",
      " - 7s - loss: 0.0100\n",
      "Epoch 29/100\n",
      " - 7s - loss: 0.0101\n",
      "Epoch 30/100\n",
      " - 7s - loss: 0.0100\n",
      "Epoch 31/100\n",
      " - 7s - loss: 0.0100\n",
      "Epoch 32/100\n",
      " - 7s - loss: 0.0099\n",
      "Epoch 33/100\n",
      " - 7s - loss: 0.0100\n",
      "Epoch 34/100\n",
      " - 7s - loss: 0.0100\n",
      "Epoch 35/100\n",
      " - 7s - loss: 0.0099\n",
      "Epoch 36/100\n",
      " - 7s - loss: 0.0099\n",
      "Epoch 37/100\n",
      " - 7s - loss: 0.0099\n",
      "Epoch 38/100\n",
      " - 7s - loss: 0.0099\n",
      "Epoch 39/100\n",
      " - 7s - loss: 0.0099\n",
      "Epoch 40/100\n",
      " - 7s - loss: 0.0099\n",
      "Epoch 41/100\n",
      " - 7s - loss: 0.0098\n",
      "Epoch 42/100\n",
      " - 7s - loss: 0.0098\n",
      "Epoch 43/100\n",
      " - 7s - loss: 0.0098\n",
      "Epoch 44/100\n",
      " - 7s - loss: 0.0098\n",
      "Epoch 45/100\n",
      " - 7s - loss: 0.0099\n",
      "Epoch 46/100\n",
      " - 7s - loss: 0.0098\n",
      "Epoch 47/100\n",
      " - 7s - loss: 0.0098\n",
      "Epoch 48/100\n",
      " - 7s - loss: 0.0098\n",
      "Epoch 49/100\n",
      " - 7s - loss: 0.0097\n",
      "Epoch 50/100\n",
      " - 7s - loss: 0.0097\n",
      "Epoch 51/100\n",
      " - 7s - loss: 0.0097\n",
      "Epoch 52/100\n",
      " - 7s - loss: 0.0097\n",
      "Epoch 53/100\n",
      " - 7s - loss: 0.0097\n",
      "Epoch 54/100\n",
      " - 7s - loss: 0.0097\n",
      "Epoch 55/100\n",
      " - 7s - loss: 0.0097\n",
      "Epoch 56/100\n",
      " - 7s - loss: 0.0096\n",
      "Epoch 57/100\n",
      " - 8s - loss: 0.0097\n",
      "Epoch 58/100\n",
      " - 8s - loss: 0.0096\n",
      "Epoch 59/100\n",
      " - 8s - loss: 0.0097\n",
      "Epoch 60/100\n",
      " - 7s - loss: 0.0096\n",
      "Epoch 61/100\n",
      " - 7s - loss: 0.0096\n",
      "Epoch 62/100\n",
      " - 7s - loss: 0.0096\n",
      "Epoch 63/100\n",
      " - 7s - loss: 0.0096\n",
      "Epoch 64/100\n",
      " - 7s - loss: 0.0096\n",
      "Epoch 65/100\n",
      " - 7s - loss: 0.0096\n",
      "Epoch 66/100\n",
      " - 8s - loss: 0.0095\n",
      "Epoch 67/100\n",
      " - 8s - loss: 0.0095\n",
      "Epoch 68/100\n",
      " - 7s - loss: 0.0096\n",
      "Epoch 69/100\n",
      " - 7s - loss: 0.0095\n",
      "Epoch 70/100\n",
      " - 7s - loss: 0.0095\n",
      "Epoch 71/100\n",
      " - 7s - loss: 0.0095\n",
      "Epoch 72/100\n",
      " - 7s - loss: 0.0095\n",
      "Epoch 73/100\n",
      " - 8s - loss: 0.0095\n",
      "Epoch 74/100\n",
      " - 7s - loss: 0.0095\n",
      "Epoch 75/100\n",
      " - 8s - loss: 0.0095\n",
      "Epoch 76/100\n",
      " - 8s - loss: 0.0095\n",
      "Epoch 77/100\n",
      " - 8s - loss: 0.0095\n",
      "Epoch 78/100\n",
      " - 7s - loss: 0.0094\n",
      "Epoch 79/100\n",
      " - 7s - loss: 0.0094\n",
      "Epoch 80/100\n",
      " - 7s - loss: 0.0094\n",
      "Epoch 81/100\n",
      " - 7s - loss: 0.0094\n",
      "Epoch 82/100\n",
      " - 7s - loss: 0.0094\n",
      "Epoch 83/100\n",
      " - 7s - loss: 0.0094\n",
      "Epoch 84/100\n",
      " - 7s - loss: 0.0094\n",
      "Epoch 85/100\n",
      " - 7s - loss: 0.0094\n",
      "Epoch 86/100\n",
      " - 8s - loss: 0.0093\n",
      "Epoch 87/100\n",
      " - 8s - loss: 0.0093\n",
      "Epoch 88/100\n",
      " - 7s - loss: 0.0094\n",
      "Epoch 89/100\n",
      " - 7s - loss: 0.0093\n",
      "Epoch 90/100\n",
      " - 7s - loss: 0.0094\n",
      "Epoch 91/100\n",
      " - 7s - loss: 0.0093\n",
      "Epoch 92/100\n",
      " - 7s - loss: 0.0093\n",
      "Epoch 93/100\n",
      " - 7s - loss: 0.0093\n",
      "Epoch 94/100\n",
      " - 8s - loss: 0.0093\n",
      "Epoch 95/100\n",
      " - 7s - loss: 0.0093\n",
      "Epoch 96/100\n",
      " - 7s - loss: 0.0093\n",
      "Epoch 97/100\n",
      " - 7s - loss: 0.0093\n",
      "Epoch 98/100\n",
      " - 7s - loss: 0.0093\n",
      "Epoch 99/100\n",
      " - 7s - loss: 0.0093\n",
      "Epoch 100/100\n",
      " - 7s - loss: 0.0093\n"
     ]
    },
    {
     "data": {
      "text/plain": [
       "<keras.callbacks.callbacks.History at 0x20c010766d8>"
      ]
     },
     "execution_count": 36,
     "metadata": {},
     "output_type": "execute_result"
    }
   ],
   "source": [
    "# create and fit the LSTM network\n",
    "model = Sequential()\n",
    "model.add(LSTM(4, input_shape=(1, look_back)))\n",
    "model.add(Dense(1))\n",
    "model.compile(loss='mean_squared_error', optimizer='adam')\n",
    "model.fit(trainX, trainY, epochs=100, batch_size=1, verbose=2)"
   ]
  },
  {
   "cell_type": "code",
   "execution_count": 37,
   "metadata": {},
   "outputs": [],
   "source": [
    "# make predictions\n",
    "trainPredict = model.predict(trainX)\n",
    "testPredict = model.predict(testX)\n",
    "# invert predictions\n",
    "trainPredict = scaler.inverse_transform(trainPredict)\n",
    "trainY = scaler.inverse_transform([trainY])\n",
    "testPredict = scaler.inverse_transform(testPredict)\n",
    "testY = scaler.inverse_transform([testY])"
   ]
  },
  {
   "cell_type": "code",
   "execution_count": 38,
   "metadata": {},
   "outputs": [
    {
     "name": "stdout",
     "output_type": "stream",
     "text": [
      "Train Score: 114.38 RMSE\n",
      "Test Score: 141.94 RMSE\n"
     ]
    }
   ],
   "source": [
    "# calculate root mean squared error\n",
    "trainScore = math.sqrt(mean_squared_error(trainY[0], trainPredict[:,0]))\n",
    "print('Train Score: %.2f RMSE' % (trainScore))\n",
    "testScore = math.sqrt(mean_squared_error(testY[0], testPredict[:,0]))\n",
    "print('Test Score: %.2f RMSE' % (testScore))"
   ]
  },
  {
   "cell_type": "code",
   "execution_count": 39,
   "metadata": {},
   "outputs": [
    {
     "data": {
      "image/png": "[encoded data removed]",
      "text/plain": [
       "<Figure size 432x288 with 1 Axes>"
      ]
     },
     "metadata": {},
     "output_type": "display_data"
    }
   ],
   "source": [
    "# shift train predictions for plotting\n",
    "trainPredictPlot = numpy.empty_like(dataset)\n",
    "trainPredictPlot[:, :] = numpy.nan\n",
    "trainPredictPlot[look_back:len(trainPredict)+look_back, :] = trainPredict\n",
    "# shift test predictions for plotting\n",
    "testPredictPlot = numpy.empty_like(dataset)\n",
    "testPredictPlot[:, :] = numpy.nan\n",
    "testPredictPlot[len(trainPredict)+(look_back*2)+1:len(dataset)-1, :] = testPredict\n",
    "# plot baseline and predictions\n",
    "plt.plot(scaler.inverse_transform(dataset))\n",
    "plt.plot(trainPredictPlot)\n",
    "plt.plot(testPredictPlot)\n",
    "plt.show()"
   ]
  },
  {
   "cell_type": "code",
   "execution_count": null,
   "metadata": {},
   "outputs": [],
   "source": []
  },
  {
   "cell_type": "markdown",
   "metadata": {},
   "source": [
    "# use multiple timestamps as one feature"
   ]
  },
  {
   "cell_type": "code",
   "execution_count": null,
   "metadata": {},
   "outputs": [],
   "source": [
    "# convert an array of values into a dataset matrix\n",
    "def create_dataset(dataset, look_back=1):\n",
    "\tdataX, dataY = [], []\n",
    "\tfor i in range(len(dataset)-look_back-1):\n",
    "\t\ta = dataset[i:(i+look_back), 0]\n",
    "\t\tdataX.append(a)\n",
    "\t\tdataY.append(dataset[i + look_back, 0])\n",
    "\treturn numpy.array(dataX), numpy.array(dataY)\n",
    "# fix random seed for reproducibility\n",
    "numpy.random.seed(7)\n",
    "# load the dataset\n",
    "dataframe = read_csv('airline-passengers.csv', usecols=[1], engine='python')\n",
    "dataset = dataframe.values\n",
    "dataset = dataset.astype('float32')\n",
    "# normalize the dataset\n",
    "scaler = MinMaxScaler(feature_range=(0, 1))\n",
    "dataset = scaler.fit_transform(dataset)\n",
    "# split into train and test sets\n",
    "train_size = int(len(dataset) * 0.67)\n",
    "test_size = len(dataset) - train_size\n",
    "train, test = dataset[0:train_size,:], dataset[train_size:len(dataset),:]\n",
    "# reshape into X=t and Y=t+1\n",
    "look_back = 3\n",
    "trainX, trainY = create_dataset(train, look_back)\n",
    "testX, testY = create_dataset(test, look_back)\n",
    "# reshape input to be [samples, time steps, features]\n",
    "trainX = numpy.reshape(trainX, (trainX.shape[0], trainX.shape[1], 1))\n",
    "testX = numpy.reshape(testX, (testX.shape[0], testX.shape[1], 1))\n",
    "# create and fit the LSTM network\n",
    "model = Sequential()\n",
    "model.add(LSTM(4, input_shape=(look_back, 1)))\n",
    "model.add(Dense(1))\n",
    "model.compile(loss='mean_squared_error', optimizer='adam')\n",
    "model.fit(trainX, trainY, epochs=100, batch_size=1, verbose=2)\n",
    "# make predictions\n",
    "trainPredict = model.predict(trainX)\n",
    "testPredict = model.predict(testX)\n",
    "# invert predictions\n",
    "trainPredict = scaler.inverse_transform(trainPredict)\n",
    "trainY = scaler.inverse_transform([trainY])\n",
    "testPredict = scaler.inverse_transform(testPredict)\n",
    "testY = scaler.inverse_transform([testY])\n",
    "# calculate root mean squared error\n",
    "trainScore = math.sqrt(mean_squared_error(trainY[0], trainPredict[:,0]))\n",
    "print('Train Score: %.2f RMSE' % (trainScore))\n",
    "testScore = math.sqrt(mean_squared_error(testY[0], testPredict[:,0]))\n",
    "print('Test Score: %.2f RMSE' % (testScore))\n",
    "# shift train predictions for plotting\n",
    "trainPredictPlot = numpy.empty_like(dataset)\n",
    "trainPredictPlot[:, :] = numpy.nan\n",
    "trainPredictPlot[look_back:len(trainPredict)+look_back, :] = trainPredict\n",
    "# shift test predictions for plotting\n",
    "testPredictPlot = numpy.empty_like(dataset)\n",
    "testPredictPlot[:, :] = numpy.nan\n",
    "testPredictPlot[len(trainPredict)+(look_back*2)+1:len(dataset)-1, :] = testPredict\n",
    "# plot baseline and predictions\n",
    "plt.plot(scaler.inverse_transform(dataset))\n",
    "plt.plot(trainPredictPlot)\n",
    "plt.plot(testPredictPlot)\n",
    "plt.show()"
   ]
  }
 ],
 "metadata": {
  "kernelspec": {
   "display_name": "Python 3",
   "language": "python",
   "name": "python3"
  },
  "language_info": {
   "codemirror_mode": {
    "name": "ipython",
    "version": 3
   },
   "file_extension": ".py",
   "mimetype": "text/x-python",
   "name": "python",
   "nbconvert_exporter": "python",
   "pygments_lexer": "ipython3",
   "version": "3.6.4"
  }
 },
 "nbformat": 4,
 "nbformat_minor": 2
}
