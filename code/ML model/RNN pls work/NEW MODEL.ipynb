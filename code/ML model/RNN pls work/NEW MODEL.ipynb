{
 "cells": [
  {
   "cell_type": "code",
   "execution_count": 43,
   "metadata": {},
   "outputs": [],
   "source": [
    "import pandas as pd\n",
    "import numpy as np\n",
    "import matplotlib.pyplot as plt\n",
    "from pandas import read_csv\n",
    "import math\n",
    "from keras.models import Sequential\n",
    "from keras.layers import Dense\n",
    "from keras.layers import LSTM\n",
    "from sklearn.preprocessing import MinMaxScaler\n",
    "from sklearn.metrics import mean_squared_error\n",
    "from sklearn.model_selection import train_test_split\n",
    "import time"
   ]
  },
  {
   "attachments": {
    "image.png": {
     "image/png": "[encoded data removed]"
    }
   },
   "cell_type": "markdown",
   "metadata": {},
   "source": [
    "### General notes\n",
    "Need to save the original flow to compare predictions to\n",
    "\n",
    "Currently I use lags as separate features, tho it might be more beneficial to use sequences (aka sequence becomes a single feature), so a new prediction is made based on the sequence of 24 past values\n",
    "so use red data to predict the one blue datapoint\n",
    "![image.png](attachment:image.png)\n",
    "\n",
    "main issue: how to add extra features next to lags"
   ]
  },
  {
   "cell_type": "code",
   "execution_count": 16,
   "metadata": {},
   "outputs": [
    {
     "data": {
      "text/html": [
       "<div>\n",
       "<style scoped>\n",
       "    .dataframe tbody tr th:only-of-type {\n",
       "        vertical-align: middle;\n",
       "    }\n",
       "\n",
       "    .dataframe tbody tr th {\n",
       "        vertical-align: top;\n",
       "    }\n",
       "\n",
       "    .dataframe thead th {\n",
       "        text-align: right;\n",
       "    }\n",
       "</style>\n",
       "<table border=\"1\" class=\"dataframe\">\n",
       "  <thead>\n",
       "    <tr style=\"text-align: right;\">\n",
       "      <th></th>\n",
       "      <th>flow</th>\n",
       "      <th>rain_hour</th>\n",
       "      <th>Weekday</th>\n",
       "      <th>Hour</th>\n",
       "    </tr>\n",
       "  </thead>\n",
       "  <tbody>\n",
       "    <tr>\n",
       "      <td>0</td>\n",
       "      <td>1200.0</td>\n",
       "      <td>0.0583</td>\n",
       "      <td>Monday</td>\n",
       "      <td>0</td>\n",
       "    </tr>\n",
       "    <tr>\n",
       "      <td>1</td>\n",
       "      <td>940.0</td>\n",
       "      <td>0.0448</td>\n",
       "      <td>Monday</td>\n",
       "      <td>1</td>\n",
       "    </tr>\n",
       "    <tr>\n",
       "      <td>2</td>\n",
       "      <td>0.0</td>\n",
       "      <td>0.1409</td>\n",
       "      <td>Monday</td>\n",
       "      <td>2</td>\n",
       "    </tr>\n",
       "    <tr>\n",
       "      <td>3</td>\n",
       "      <td>280.0</td>\n",
       "      <td>0.0714</td>\n",
       "      <td>Monday</td>\n",
       "      <td>3</td>\n",
       "    </tr>\n",
       "    <tr>\n",
       "      <td>4</td>\n",
       "      <td>150.0</td>\n",
       "      <td>0.1340</td>\n",
       "      <td>Monday</td>\n",
       "      <td>4</td>\n",
       "    </tr>\n",
       "  </tbody>\n",
       "</table>\n",
       "</div>"
      ],
      "text/plain": [
       "     flow  rain_hour Weekday  Hour\n",
       "0  1200.0     0.0583  Monday     0\n",
       "1   940.0     0.0448  Monday     1\n",
       "2     0.0     0.1409  Monday     2\n",
       "3   280.0     0.0714  Monday     3\n",
       "4   150.0     0.1340  Monday     4"
      ]
     },
     "execution_count": 16,
     "metadata": {},
     "output_type": "execute_result"
    }
   ],
   "source": [
    "# new pickle data\n",
    "new_data = pd.read_pickle('../../../data/Bokhoven.pickle')\n",
    "\n",
    "# sort by time just in case\n",
    "new_data = new_data.sort_values(by='datetime')\n",
    "\n",
    "# drop everything unnecessary for now\n",
    "new_data = new_data[['flow', 'rain_hour', 'Weekday', 'Hour']] # removed month for now\n",
    "new_data.head()"
   ]
  },
  {
   "cell_type": "code",
   "execution_count": 17,
   "metadata": {},
   "outputs": [
    {
     "data": {
      "text/html": [
       "<div>\n",
       "<style scoped>\n",
       "    .dataframe tbody tr th:only-of-type {\n",
       "        vertical-align: middle;\n",
       "    }\n",
       "\n",
       "    .dataframe tbody tr th {\n",
       "        vertical-align: top;\n",
       "    }\n",
       "\n",
       "    .dataframe thead th {\n",
       "        text-align: right;\n",
       "    }\n",
       "</style>\n",
       "<table border=\"1\" class=\"dataframe\">\n",
       "  <thead>\n",
       "    <tr style=\"text-align: right;\">\n",
       "      <th></th>\n",
       "      <th>Weekday</th>\n",
       "      <th>Hour</th>\n",
       "      <th>norm_flow</th>\n",
       "      <th>norm_rain</th>\n",
       "    </tr>\n",
       "  </thead>\n",
       "  <tbody>\n",
       "    <tr>\n",
       "      <td>0</td>\n",
       "      <td>Monday</td>\n",
       "      <td>0</td>\n",
       "      <td>1.000000</td>\n",
       "      <td>0.002493</td>\n",
       "    </tr>\n",
       "    <tr>\n",
       "      <td>1</td>\n",
       "      <td>Monday</td>\n",
       "      <td>1</td>\n",
       "      <td>0.783333</td>\n",
       "      <td>0.001915</td>\n",
       "    </tr>\n",
       "    <tr>\n",
       "      <td>2</td>\n",
       "      <td>Monday</td>\n",
       "      <td>2</td>\n",
       "      <td>0.000000</td>\n",
       "      <td>0.006024</td>\n",
       "    </tr>\n",
       "    <tr>\n",
       "      <td>3</td>\n",
       "      <td>Monday</td>\n",
       "      <td>3</td>\n",
       "      <td>0.233333</td>\n",
       "      <td>0.003053</td>\n",
       "    </tr>\n",
       "    <tr>\n",
       "      <td>4</td>\n",
       "      <td>Monday</td>\n",
       "      <td>4</td>\n",
       "      <td>0.125000</td>\n",
       "      <td>0.005729</td>\n",
       "    </tr>\n",
       "  </tbody>\n",
       "</table>\n",
       "</div>"
      ],
      "text/plain": [
       "  Weekday  Hour  norm_flow  norm_rain\n",
       "0  Monday     0   1.000000   0.002493\n",
       "1  Monday     1   0.783333   0.001915\n",
       "2  Monday     2   0.000000   0.006024\n",
       "3  Monday     3   0.233333   0.003053\n",
       "4  Monday     4   0.125000   0.005729"
      ]
     },
     "execution_count": 17,
     "metadata": {},
     "output_type": "execute_result"
    }
   ],
   "source": [
    "# normalize flow and rain columns\n",
    "\n",
    "# first get numpy arrays of flow and rain so that the scaler can be applied\n",
    "flow = new_data['flow'].to_numpy().reshape(-1, 1)\n",
    "rain = new_data['rain_hour'].to_numpy().reshape(-1, 1)\n",
    "\n",
    "# apply the scaler\n",
    "scaler = MinMaxScaler(feature_range=(0, 1))\n",
    "flow = scaler.fit_transform(flow)\n",
    "rain = scaler.fit_transform(rain)\n",
    "\n",
    "# add columns back to df\n",
    "new_data['norm_flow'] = flow\n",
    "new_data['norm_rain'] = rain\n",
    "\n",
    "# drop old flow and rain cols from df - DON'T DROP, MAKE NEW DATASET INSTEAD\n",
    "# SAVE ORIGINAL FLOW IN A VARIABLE FOR LATER USE aka TO COMPARE WITH PREDICITONS!!!!!!!!!!!!!\n",
    "new_data = new_data.drop(['flow', 'rain_hour'], axis=1)\n",
    "\n",
    "new_data.head()"
   ]
  },
  {
   "cell_type": "code",
   "execution_count": 19,
   "metadata": {},
   "outputs": [],
   "source": [
    "# create lags of flow and rain as features for the model\n",
    "\n",
    "# flow\n",
    "flow_lags = 24\n",
    "# These are the \"time lags\"\n",
    "shifts = np.arange(1, flow_lags).astype(int)\n",
    "\n",
    "# Use a dictionary comprehension to create name: value pairs, one pair per shift\n",
    "shifted_data_hour = {\"flow_lag_{}_hour\".format(hour_shift): new_data.norm_flow.shift(hour_shift) for hour_shift in shifts}\n",
    "\n",
    "# Convert into a DataFrame for subsequent use\n",
    "flow_shifts = pd.DataFrame(shifted_data_hour)\n",
    "\n",
    "# rain\n",
    "rain_lags = 20\n",
    "# These are the \"time lags\"\n",
    "shifts = np.arange(1, rain_lags).astype(int)\n",
    "\n",
    "# Use a dictionary comprehension to create name: value pairs, one pair per shift\n",
    "shifted_data_rain = {\"rain_lag_{}_hour\".format(hour_shift): new_data.norm_rain.shift(hour_shift) for hour_shift in shifts}\n",
    "\n",
    "# Convert into a DataFrame for subsequent use\n",
    "rain_shifts = pd.DataFrame(shifted_data_rain)\n",
    "\n",
    "# combine the shifted data with old data\n",
    "new_data_shifted = pd.concat([new_data,flow_shifts,rain_shifts], axis=1)"
   ]
  },
  {
   "cell_type": "code",
   "execution_count": 20,
   "metadata": {},
   "outputs": [
    {
     "data": {
      "text/html": [
       "<div>\n",
       "<style scoped>\n",
       "    .dataframe tbody tr th:only-of-type {\n",
       "        vertical-align: middle;\n",
       "    }\n",
       "\n",
       "    .dataframe tbody tr th {\n",
       "        vertical-align: top;\n",
       "    }\n",
       "\n",
       "    .dataframe thead th {\n",
       "        text-align: right;\n",
       "    }\n",
       "</style>\n",
       "<table border=\"1\" class=\"dataframe\">\n",
       "  <thead>\n",
       "    <tr style=\"text-align: right;\">\n",
       "      <th></th>\n",
       "      <th>Weekday</th>\n",
       "      <th>Hour</th>\n",
       "      <th>norm_flow</th>\n",
       "      <th>norm_rain</th>\n",
       "      <th>flow_lag_1_hour</th>\n",
       "      <th>flow_lag_2_hour</th>\n",
       "      <th>flow_lag_3_hour</th>\n",
       "      <th>flow_lag_4_hour</th>\n",
       "      <th>flow_lag_5_hour</th>\n",
       "      <th>flow_lag_6_hour</th>\n",
       "      <th>...</th>\n",
       "      <th>rain_lag_10_hour</th>\n",
       "      <th>rain_lag_11_hour</th>\n",
       "      <th>rain_lag_12_hour</th>\n",
       "      <th>rain_lag_13_hour</th>\n",
       "      <th>rain_lag_14_hour</th>\n",
       "      <th>rain_lag_15_hour</th>\n",
       "      <th>rain_lag_16_hour</th>\n",
       "      <th>rain_lag_17_hour</th>\n",
       "      <th>rain_lag_18_hour</th>\n",
       "      <th>rain_lag_19_hour</th>\n",
       "    </tr>\n",
       "  </thead>\n",
       "  <tbody>\n",
       "    <tr>\n",
       "      <td>0</td>\n",
       "      <td>Monday</td>\n",
       "      <td>0</td>\n",
       "      <td>1.000000</td>\n",
       "      <td>0.002493</td>\n",
       "      <td>NaN</td>\n",
       "      <td>NaN</td>\n",
       "      <td>NaN</td>\n",
       "      <td>NaN</td>\n",
       "      <td>NaN</td>\n",
       "      <td>NaN</td>\n",
       "      <td>...</td>\n",
       "      <td>NaN</td>\n",
       "      <td>NaN</td>\n",
       "      <td>NaN</td>\n",
       "      <td>NaN</td>\n",
       "      <td>NaN</td>\n",
       "      <td>NaN</td>\n",
       "      <td>NaN</td>\n",
       "      <td>NaN</td>\n",
       "      <td>NaN</td>\n",
       "      <td>NaN</td>\n",
       "    </tr>\n",
       "    <tr>\n",
       "      <td>1</td>\n",
       "      <td>Monday</td>\n",
       "      <td>1</td>\n",
       "      <td>0.783333</td>\n",
       "      <td>0.001915</td>\n",
       "      <td>1.000000</td>\n",
       "      <td>NaN</td>\n",
       "      <td>NaN</td>\n",
       "      <td>NaN</td>\n",
       "      <td>NaN</td>\n",
       "      <td>NaN</td>\n",
       "      <td>...</td>\n",
       "      <td>NaN</td>\n",
       "      <td>NaN</td>\n",
       "      <td>NaN</td>\n",
       "      <td>NaN</td>\n",
       "      <td>NaN</td>\n",
       "      <td>NaN</td>\n",
       "      <td>NaN</td>\n",
       "      <td>NaN</td>\n",
       "      <td>NaN</td>\n",
       "      <td>NaN</td>\n",
       "    </tr>\n",
       "    <tr>\n",
       "      <td>2</td>\n",
       "      <td>Monday</td>\n",
       "      <td>2</td>\n",
       "      <td>0.000000</td>\n",
       "      <td>0.006024</td>\n",
       "      <td>0.783333</td>\n",
       "      <td>1.000000</td>\n",
       "      <td>NaN</td>\n",
       "      <td>NaN</td>\n",
       "      <td>NaN</td>\n",
       "      <td>NaN</td>\n",
       "      <td>...</td>\n",
       "      <td>NaN</td>\n",
       "      <td>NaN</td>\n",
       "      <td>NaN</td>\n",
       "      <td>NaN</td>\n",
       "      <td>NaN</td>\n",
       "      <td>NaN</td>\n",
       "      <td>NaN</td>\n",
       "      <td>NaN</td>\n",
       "      <td>NaN</td>\n",
       "      <td>NaN</td>\n",
       "    </tr>\n",
       "    <tr>\n",
       "      <td>3</td>\n",
       "      <td>Monday</td>\n",
       "      <td>3</td>\n",
       "      <td>0.233333</td>\n",
       "      <td>0.003053</td>\n",
       "      <td>0.000000</td>\n",
       "      <td>0.783333</td>\n",
       "      <td>1.000000</td>\n",
       "      <td>NaN</td>\n",
       "      <td>NaN</td>\n",
       "      <td>NaN</td>\n",
       "      <td>...</td>\n",
       "      <td>NaN</td>\n",
       "      <td>NaN</td>\n",
       "      <td>NaN</td>\n",
       "      <td>NaN</td>\n",
       "      <td>NaN</td>\n",
       "      <td>NaN</td>\n",
       "      <td>NaN</td>\n",
       "      <td>NaN</td>\n",
       "      <td>NaN</td>\n",
       "      <td>NaN</td>\n",
       "    </tr>\n",
       "    <tr>\n",
       "      <td>4</td>\n",
       "      <td>Monday</td>\n",
       "      <td>4</td>\n",
       "      <td>0.125000</td>\n",
       "      <td>0.005729</td>\n",
       "      <td>0.233333</td>\n",
       "      <td>0.000000</td>\n",
       "      <td>0.783333</td>\n",
       "      <td>1.0</td>\n",
       "      <td>NaN</td>\n",
       "      <td>NaN</td>\n",
       "      <td>...</td>\n",
       "      <td>NaN</td>\n",
       "      <td>NaN</td>\n",
       "      <td>NaN</td>\n",
       "      <td>NaN</td>\n",
       "      <td>NaN</td>\n",
       "      <td>NaN</td>\n",
       "      <td>NaN</td>\n",
       "      <td>NaN</td>\n",
       "      <td>NaN</td>\n",
       "      <td>NaN</td>\n",
       "    </tr>\n",
       "  </tbody>\n",
       "</table>\n",
       "<p>5 rows × 46 columns</p>\n",
       "</div>"
      ],
      "text/plain": [
       "  Weekday  Hour  norm_flow  norm_rain  flow_lag_1_hour  flow_lag_2_hour  \\\n",
       "0  Monday     0   1.000000   0.002493              NaN              NaN   \n",
       "1  Monday     1   0.783333   0.001915         1.000000              NaN   \n",
       "2  Monday     2   0.000000   0.006024         0.783333         1.000000   \n",
       "3  Monday     3   0.233333   0.003053         0.000000         0.783333   \n",
       "4  Monday     4   0.125000   0.005729         0.233333         0.000000   \n",
       "\n",
       "   flow_lag_3_hour  flow_lag_4_hour  flow_lag_5_hour  flow_lag_6_hour  ...  \\\n",
       "0              NaN              NaN              NaN              NaN  ...   \n",
       "1              NaN              NaN              NaN              NaN  ...   \n",
       "2              NaN              NaN              NaN              NaN  ...   \n",
       "3         1.000000              NaN              NaN              NaN  ...   \n",
       "4         0.783333              1.0              NaN              NaN  ...   \n",
       "\n",
       "   rain_lag_10_hour  rain_lag_11_hour  rain_lag_12_hour  rain_lag_13_hour  \\\n",
       "0               NaN               NaN               NaN               NaN   \n",
       "1               NaN               NaN               NaN               NaN   \n",
       "2               NaN               NaN               NaN               NaN   \n",
       "3               NaN               NaN               NaN               NaN   \n",
       "4               NaN               NaN               NaN               NaN   \n",
       "\n",
       "   rain_lag_14_hour  rain_lag_15_hour  rain_lag_16_hour  rain_lag_17_hour  \\\n",
       "0               NaN               NaN               NaN               NaN   \n",
       "1               NaN               NaN               NaN               NaN   \n",
       "2               NaN               NaN               NaN               NaN   \n",
       "3               NaN               NaN               NaN               NaN   \n",
       "4               NaN               NaN               NaN               NaN   \n",
       "\n",
       "   rain_lag_18_hour  rain_lag_19_hour  \n",
       "0               NaN               NaN  \n",
       "1               NaN               NaN  \n",
       "2               NaN               NaN  \n",
       "3               NaN               NaN  \n",
       "4               NaN               NaN  \n",
       "\n",
       "[5 rows x 46 columns]"
      ]
     },
     "execution_count": 20,
     "metadata": {},
     "output_type": "execute_result"
    }
   ],
   "source": [
    "new_data_shifted.head()"
   ]
  },
  {
   "cell_type": "code",
   "execution_count": 40,
   "metadata": {},
   "outputs": [
    {
     "name": "stdout",
     "output_type": "stream",
     "text": [
      "Shape before NAN removal:  (14399, 75)\n",
      "Shape after NAN removal:   (14376, 75)\n",
      "23 rows were removed\n"
     ]
    }
   ],
   "source": [
    "# get dummies for weekday and hour of the day and combine them with the data\n",
    "data_shift_dum = pd.get_dummies(new_data_shifted, columns = ['Weekday', 'Hour'])\n",
    "len1 = len(data_shift_dum)\n",
    "print('Shape before NAN removal: ', data_shift_dum.shape)\n",
    "\n",
    "# drop NAN's\n",
    "data_shift_dum.dropna(inplace=True)\n",
    "len2 = len(data_shift_dum)\n",
    "print('Shape after NAN removal:  ', data_shift_dum.shape)\n",
    "print(len1-len2, 'rows were removed')"
   ]
  },
  {
   "cell_type": "code",
   "execution_count": 42,
   "metadata": {},
   "outputs": [],
   "source": [
    "# create the X and y dataset\n",
    "X = data_shift_dum.iloc[:, 1:] # every columns exept current flow\n",
    "y = data_shift_dum.iloc[:, :1] # only the current flow columns\n",
    "\n",
    "# and make them into numpy arrays\n",
    "X = X.values\n",
    "y = y.values"
   ]
  },
  {
   "cell_type": "code",
   "execution_count": 45,
   "metadata": {},
   "outputs": [],
   "source": [
    "# split into train and test set\n",
    "# here don't shuffle the data, so should have first 80% in train and rest in test\n",
    "X_train, X_test, y_train, y_test = train_test_split(X, y, train_size=.8, test_size=.2, shuffle=False, random_state=1)"
   ]
  },
  {
   "cell_type": "code",
   "execution_count": 52,
   "metadata": {},
   "outputs": [
    {
     "data": {
      "text/plain": [
       "((11500, 1, 74), (2876, 1, 74))"
      ]
     },
     "execution_count": 52,
     "metadata": {},
     "output_type": "execute_result"
    }
   ],
   "source": [
    "# reshape X_train and X_test for the LSTM layer\n",
    "X_train = np.reshape(X_train, (X_train.shape[0], 1, X_train.shape[1]))\n",
    "X_test = np.reshape(X_test, (X_test.shape[0], 1, X_test.shape[1]))\n",
    "\n",
    "X_train.shape, X_test.shape"
   ]
  },
  {
   "cell_type": "markdown",
   "metadata": {},
   "source": [
    "#### Start with model"
   ]
  },
  {
   "cell_type": "code",
   "execution_count": 54,
   "metadata": {},
   "outputs": [
    {
     "name": "stdout",
     "output_type": "stream",
     "text": [
      "WARNING:tensorflow:From C:\\Users\\20174994\\AppData\\Local\\Continuum\\anaconda3\\lib\\site-packages\\keras\\backend\\tensorflow_backend.py:422: The name tf.global_variables is deprecated. Please use tf.compat.v1.global_variables instead.\n",
      "\n",
      "Epoch 1/10\n",
      " - 13s - loss: 0.0174\n",
      "Epoch 2/10\n",
      " - 12s - loss: 0.0144\n",
      "Epoch 3/10\n",
      " - 13s - loss: 0.0135\n",
      "Epoch 4/10\n",
      " - 13s - loss: 0.0128\n",
      "Epoch 5/10\n",
      " - 13s - loss: 0.0123\n",
      "Epoch 6/10\n",
      " - 13s - loss: 0.0118\n",
      "Epoch 7/10\n",
      " - 13s - loss: 0.0115\n",
      "Epoch 8/10\n",
      " - 12s - loss: 0.0113\n",
      "Epoch 9/10\n",
      " - 12s - loss: 0.0110\n",
      "Epoch 10/10\n",
      " - 12s - loss: 0.0109\n"
     ]
    },
    {
     "data": {
      "text/plain": [
       "<keras.callbacks.callbacks.History at 0x2c50c5f8b00>"
      ]
     },
     "execution_count": 54,
     "metadata": {},
     "output_type": "execute_result"
    }
   ],
   "source": [
    "model = Sequential()\n",
    "model.add(LSTM(4, input_shape=(1, 74)))\n",
    "model.add(Dense(1))\n",
    "model.compile(loss='mean_squared_error', optimizer='adam')\n",
    "model.fit(X_train, y_train, epochs=10, batch_size=1, verbose=2)"
   ]
  },
  {
   "cell_type": "code",
   "execution_count": 56,
   "metadata": {},
   "outputs": [],
   "source": [
    "# make predictions\n",
    "trainPredict = model.predict(X_train)\n",
    "testPredict = model.predict(X_test)"
   ]
  },
  {
   "cell_type": "code",
   "execution_count": 68,
   "metadata": {},
   "outputs": [],
   "source": [
    "# invert predictions\n",
    "\n",
    "trainPredict = scaler.inverse_transform(trainPredict)\n",
    "# reshape y_train so that can apply scaler\n",
    "y_train2 = np.reshape(y_train, (y_train.shape[0], ))\n",
    "trainY = scaler.inverse_transform([y_train2])\n",
    "\n",
    "testPredict = scaler.inverse_transform(testPredict)\n",
    "# same as before\n",
    "y_test2 = np.reshape(y_test, (y_test.shape[0], ))\n",
    "testY = scaler.inverse_transform([y_test2])"
   ]
  },
  {
   "cell_type": "code",
   "execution_count": 69,
   "metadata": {},
   "outputs": [
    {
     "name": "stdout",
     "output_type": "stream",
     "text": [
      "Train Score: 119.59 RMSE\n",
      "Test Score: 2.70 RMSE\n"
     ]
    }
   ],
   "source": [
    "# calculate root mean squared error\n",
    "trainScore = math.sqrt(mean_squared_error(trainY[0], trainPredict[:,0]))\n",
    "print('Train Score: %.2f RMSE' % (trainScore))\n",
    "testScore = math.sqrt(mean_squared_error(testY[0], testPredict[:,0]))\n",
    "print('Test Score: %.2f RMSE' % (testScore))"
   ]
  },
  {
   "cell_type": "markdown",
   "metadata": {},
   "source": [
    "### complete bullshit follows lol"
   ]
  },
  {
   "cell_type": "code",
   "execution_count": 85,
   "metadata": {},
   "outputs": [],
   "source": [
    "# shift train predictions for plotting\n",
    "trainPredictPlot = np.empty_like(data_shift_dum)\n",
    "trainPredictPlot[:, :] = np.nan\n",
    "trainPredictPlot[24:len(trainPredict)+24, :] = trainPredict"
   ]
  },
  {
   "cell_type": "code",
   "execution_count": 86,
   "metadata": {},
   "outputs": [
    {
     "data": {
      "image/png": "[encoded data removed]",
      "text/plain": [
       "<Figure size 1080x720 with 1 Axes>"
      ]
     },
     "metadata": {},
     "output_type": "display_data"
    }
   ],
   "source": [
    "fig = plt.figure(figsize=(15,10))\n",
    "plt.plot(final)\n",
    "plt.plot(trainPredictPlot)\n",
    "# plt.plot(testPredictPlot)\n",
    "plt.show()"
   ]
  },
  {
   "cell_type": "code",
   "execution_count": 84,
   "metadata": {},
   "outputs": [
    {
     "ename": "ValueError",
     "evalue": "could not broadcast input array from shape (2876,1) into shape (2826,75)",
     "output_type": "error",
     "traceback": [
      "\u001b[1;31m---------------------------------------------------------------------------\u001b[0m",
      "\u001b[1;31mValueError\u001b[0m                                Traceback (most recent call last)",
      "\u001b[1;32m<ipython-input-84-8f542babefe9>\u001b[0m in \u001b[0;36m<module>\u001b[1;34m()\u001b[0m\n\u001b[0;32m      6\u001b[0m \u001b[0mtestPredictPlot\u001b[0m \u001b[1;33m=\u001b[0m \u001b[0mnp\u001b[0m\u001b[1;33m.\u001b[0m\u001b[0mempty_like\u001b[0m\u001b[1;33m(\u001b[0m\u001b[0mdata_shift_dum\u001b[0m\u001b[1;33m)\u001b[0m\u001b[1;33m\u001b[0m\u001b[0m\n\u001b[0;32m      7\u001b[0m \u001b[0mtestPredictPlot\u001b[0m\u001b[1;33m[\u001b[0m\u001b[1;33m:\u001b[0m\u001b[1;33m,\u001b[0m \u001b[1;33m:\u001b[0m\u001b[1;33m]\u001b[0m \u001b[1;33m=\u001b[0m \u001b[0mnp\u001b[0m\u001b[1;33m.\u001b[0m\u001b[0mnan\u001b[0m\u001b[1;33m\u001b[0m\u001b[0m\n\u001b[1;32m----> 8\u001b[1;33m \u001b[0mtestPredictPlot\u001b[0m\u001b[1;33m[\u001b[0m\u001b[0mlen\u001b[0m\u001b[1;33m(\u001b[0m\u001b[0mtrainPredict\u001b[0m\u001b[1;33m)\u001b[0m\u001b[1;33m+\u001b[0m\u001b[1;33m(\u001b[0m\u001b[1;36m24\u001b[0m\u001b[1;33m*\u001b[0m\u001b[1;36m2\u001b[0m\u001b[1;33m)\u001b[0m\u001b[1;33m+\u001b[0m\u001b[1;36m1\u001b[0m\u001b[1;33m:\u001b[0m\u001b[0mlen\u001b[0m\u001b[1;33m(\u001b[0m\u001b[0mdata_shift_dum\u001b[0m\u001b[1;33m)\u001b[0m\u001b[1;33m-\u001b[0m\u001b[1;36m1\u001b[0m\u001b[1;33m,\u001b[0m \u001b[1;33m:\u001b[0m\u001b[1;33m]\u001b[0m \u001b[1;33m=\u001b[0m \u001b[0mtestPredict\u001b[0m\u001b[1;33m\u001b[0m\u001b[0m\n\u001b[0m\u001b[0;32m      9\u001b[0m \u001b[1;31m# plot baseline and predictions\u001b[0m\u001b[1;33m\u001b[0m\u001b[1;33m\u001b[0m\u001b[0m\n\u001b[0;32m     10\u001b[0m \u001b[0mfig\u001b[0m \u001b[1;33m=\u001b[0m \u001b[0mplt\u001b[0m\u001b[1;33m.\u001b[0m\u001b[0mfigure\u001b[0m\u001b[1;33m(\u001b[0m\u001b[0mfigsize\u001b[0m\u001b[1;33m=\u001b[0m\u001b[1;33m(\u001b[0m\u001b[1;36m15\u001b[0m\u001b[1;33m,\u001b[0m\u001b[1;36m10\u001b[0m\u001b[1;33m)\u001b[0m\u001b[1;33m)\u001b[0m\u001b[1;33m\u001b[0m\u001b[0m\n",
      "\u001b[1;31mValueError\u001b[0m: could not broadcast input array from shape (2876,1) into shape (2826,75)"
     ]
    }
   ],
   "source": [
    "# shift test predictions for plotting\n",
    "testPredictPlot = np.empty_like(data_shift_dum)\n",
    "testPredictPlot[:, :] = np.nan\n",
    "testPredictPlot[len(trainPredict)+(24*2)+1:len(data_shift_dum)-1, :] = testPredict\n",
    "# plot baseline and predictions\n",
    "fig = plt.figure(figsize=(15,10))\n",
    "plt.plot(final)\n",
    "plt.plot(trainPredictPlot)\n",
    "plt.plot(testPredictPlot)\n",
    "plt.show()"
   ]
  },
  {
   "cell_type": "code",
   "execution_count": 77,
   "metadata": {},
   "outputs": [
    {
     "data": {
      "text/plain": [
       "(14376, 1)"
      ]
     },
     "execution_count": 77,
     "metadata": {},
     "output_type": "execute_result"
    }
   ],
   "source": [
    "org_flow = new_data['norm_flow'].to_numpy().reshape(-1, 1)\n",
    "org_flow = scaler.inverse_transform(org_flow)\n",
    "final = org_flow[23:]\n",
    "final.shape"
   ]
  },
  {
   "cell_type": "code",
   "execution_count": 81,
   "metadata": {},
   "outputs": [
    {
     "data": {
      "text/plain": [
       "((11500, 1), (2876, 1))"
      ]
     },
     "execution_count": 81,
     "metadata": {},
     "output_type": "execute_result"
    }
   ],
   "source": [
    "trainPredict.shape, testPredict.shape"
   ]
  },
  {
   "cell_type": "code",
   "execution_count": 82,
   "metadata": {},
   "outputs": [
    {
     "data": {
      "image/png": "[encoded data removed]",
      "text/plain": [
       "<Figure size 1080x720 with 1 Axes>"
      ]
     },
     "metadata": {},
     "output_type": "display_data"
    }
   ],
   "source": [
    "fig = plt.figure(figsize=(15,10))\n",
    "plt.plot(final)\n",
    "plt.plot(trainPredict)\n",
    "plt.plot(testPredict)\n",
    "plt.show()"
   ]
  },
  {
   "cell_type": "code",
   "execution_count": null,
   "metadata": {},
   "outputs": [],
   "source": []
  }
 ],
 "metadata": {
  "kernelspec": {
   "display_name": "Python 3",
   "language": "python",
   "name": "python3"
  },
  "language_info": {
   "codemirror_mode": {
    "name": "ipython",
    "version": 3
   },
   "file_extension": ".py",
   "mimetype": "text/x-python",
   "name": "python",
   "nbconvert_exporter": "python",
   "pygments_lexer": "ipython3",
   "version": "3.6.4"
  }
 },
 "nbformat": 4,
 "nbformat_minor": 2
}
