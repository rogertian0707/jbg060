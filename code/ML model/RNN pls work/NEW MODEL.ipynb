{
 "cells": [
  {
   "cell_type": "code",
   "execution_count": 1,
   "metadata": {
    "scrolled": true
   },
   "outputs": [
    {
     "name": "stderr",
     "output_type": "stream",
     "text": [
      "C:\\Users\\maren\\Anaconda3\\lib\\site-packages\\h5py\\__init__.py:36: FutureWarning: Conversion of the second argument of issubdtype from `float` to `np.floating` is deprecated. In future, it will be treated as `np.float64 == np.dtype(float).type`.\n",
      "  from ._conv import register_converters as _register_converters\n",
      "Using TensorFlow backend.\n"
     ]
    }
   ],
   "source": [
    "import pandas as pd\n",
    "import numpy as np\n",
    "import matplotlib.pyplot as plt\n",
    "from pandas import read_csv\n",
    "import math\n",
    "from keras.models import Sequential\n",
    "from keras.layers import Dense, LeakyReLU\n",
    "from keras.layers import LSTM, Dropout, BatchNormalization\n",
    "from sklearn.preprocessing import MinMaxScaler\n",
    "from sklearn.metrics import mean_squared_error, mean_absolute_error\n",
    "from sklearn.model_selection import train_test_split\n",
    "import time\n",
    "from keras.callbacks import EarlyStopping"
   ]
  },
  {
   "attachments": {
    "image.png": {
     "image/png": "[encoded data removed]"
    }
   },
   "cell_type": "markdown",
   "metadata": {},
   "source": [
    "### General notes\n",
    "Need to save the original flow to compare predictions to > DONE\n",
    "\n",
    "Currently I use lags as separate features, tho it might be more beneficial to use sequences (aka sequence becomes a single feature), so a new prediction is made based on the sequence of 24 past values\n",
    "so use red data to predict the one blue datapoint\n",
    "![image.png](attachment:image.png)\n",
    "\n",
    "main issue: how to add extra features next to lags\n",
    "\n",
    "# to do:\n",
    "- do model without dummies\n",
    "- fix scaling back to original scale"
   ]
  },
  {
   "cell_type": "code",
   "execution_count": 35,
   "metadata": {},
   "outputs": [
    {
     "data": {
      "text/html": [
       "<div>\n",
       "<style scoped>\n",
       "    .dataframe tbody tr th:only-of-type {\n",
       "        vertical-align: middle;\n",
       "    }\n",
       "\n",
       "    .dataframe tbody tr th {\n",
       "        vertical-align: top;\n",
       "    }\n",
       "\n",
       "    .dataframe thead th {\n",
       "        text-align: right;\n",
       "    }\n",
       "</style>\n",
       "<table border=\"1\" class=\"dataframe\">\n",
       "  <thead>\n",
       "    <tr style=\"text-align: right;\">\n",
       "      <th></th>\n",
       "      <th>flow</th>\n",
       "      <th>rain_hour</th>\n",
       "      <th>level</th>\n",
       "    </tr>\n",
       "  </thead>\n",
       "  <tbody>\n",
       "    <tr>\n",
       "      <th>0</th>\n",
       "      <td>78200.2</td>\n",
       "      <td>0.0000</td>\n",
       "      <td>183594.268041</td>\n",
       "    </tr>\n",
       "    <tr>\n",
       "      <th>1</th>\n",
       "      <td>58077.5</td>\n",
       "      <td>0.0482</td>\n",
       "      <td>167662.429825</td>\n",
       "    </tr>\n",
       "    <tr>\n",
       "      <th>2</th>\n",
       "      <td>48555.5</td>\n",
       "      <td>0.3689</td>\n",
       "      <td>182493.419580</td>\n",
       "    </tr>\n",
       "    <tr>\n",
       "      <th>3</th>\n",
       "      <td>43946.1</td>\n",
       "      <td>0.0943</td>\n",
       "      <td>186665.067568</td>\n",
       "    </tr>\n",
       "    <tr>\n",
       "      <th>4</th>\n",
       "      <td>46307.2</td>\n",
       "      <td>0.0000</td>\n",
       "      <td>169907.055556</td>\n",
       "    </tr>\n",
       "  </tbody>\n",
       "</table>\n",
       "</div>"
      ],
      "text/plain": [
       "      flow  rain_hour          level\n",
       "0  78200.2     0.0000  183594.268041\n",
       "1  58077.5     0.0482  167662.429825\n",
       "2  48555.5     0.3689  182493.419580\n",
       "3  43946.1     0.0943  186665.067568\n",
       "4  46307.2     0.0000  169907.055556"
      ]
     },
     "execution_count": 35,
     "metadata": {},
     "output_type": "execute_result"
    }
   ],
   "source": [
    "# new pickle data\n",
    "data = pd.read_pickle('../../../data/model_data/Hertogenbosch (Helftheuvelweg).pickle')\n",
    "\n",
    "# sort by time just in case\n",
    "data = data.sort_values(by='datetime')\n",
    "\n",
    "# drop everything unnecessary for now\n",
    "new_data = data[['flow', 'rain_hour', 'level']]#, 'Weekday', 'Hour']] # removed month for now\n",
    "new_data.head()"
   ]
  },
  {
   "cell_type": "code",
   "execution_count": 3,
   "metadata": {},
   "outputs": [
    {
     "data": {
      "text/html": [
       "<div>\n",
       "<style scoped>\n",
       "    .dataframe tbody tr th:only-of-type {\n",
       "        vertical-align: middle;\n",
       "    }\n",
       "\n",
       "    .dataframe tbody tr th {\n",
       "        vertical-align: top;\n",
       "    }\n",
       "\n",
       "    .dataframe thead th {\n",
       "        text-align: right;\n",
       "    }\n",
       "</style>\n",
       "<table border=\"1\" class=\"dataframe\">\n",
       "  <thead>\n",
       "    <tr style=\"text-align: right;\">\n",
       "      <th></th>\n",
       "      <th>flow</th>\n",
       "    </tr>\n",
       "  </thead>\n",
       "  <tbody>\n",
       "    <tr>\n",
       "      <th>count</th>\n",
       "      <td>13630.000000</td>\n",
       "    </tr>\n",
       "    <tr>\n",
       "      <th>mean</th>\n",
       "      <td>28441.994417</td>\n",
       "    </tr>\n",
       "    <tr>\n",
       "      <th>std</th>\n",
       "      <td>19852.263441</td>\n",
       "    </tr>\n",
       "    <tr>\n",
       "      <th>min</th>\n",
       "      <td>0.000000</td>\n",
       "    </tr>\n",
       "    <tr>\n",
       "      <th>25%</th>\n",
       "      <td>17143.900000</td>\n",
       "    </tr>\n",
       "    <tr>\n",
       "      <th>50%</th>\n",
       "      <td>26947.300000</td>\n",
       "    </tr>\n",
       "    <tr>\n",
       "      <th>75%</th>\n",
       "      <td>33441.550000</td>\n",
       "    </tr>\n",
       "    <tr>\n",
       "      <th>max</th>\n",
       "      <td>210000.000000</td>\n",
       "    </tr>\n",
       "  </tbody>\n",
       "</table>\n",
       "</div>"
      ],
      "text/plain": [
       "                flow\n",
       "count   13630.000000\n",
       "mean    28441.994417\n",
       "std     19852.263441\n",
       "min         0.000000\n",
       "25%     17143.900000\n",
       "50%     26947.300000\n",
       "75%     33441.550000\n",
       "max    210000.000000"
      ]
     },
     "execution_count": 3,
     "metadata": {},
     "output_type": "execute_result"
    }
   ],
   "source": [
    "# basic metrics for original data\n",
    "data[['flow']].describe()"
   ]
  },
  {
   "cell_type": "code",
   "execution_count": 4,
   "metadata": {},
   "outputs": [
    {
     "name": "stderr",
     "output_type": "stream",
     "text": [
      "C:\\Users\\maren\\Anaconda3\\lib\\site-packages\\ipykernel_launcher.py:13: SettingWithCopyWarning: \n",
      "A value is trying to be set on a copy of a slice from a DataFrame.\n",
      "Try using .loc[row_indexer,col_indexer] = value instead\n",
      "\n",
      "See the caveats in the documentation: http://pandas.pydata.org/pandas-docs/stable/indexing.html#indexing-view-versus-copy\n",
      "  del sys.path[0]\n",
      "C:\\Users\\maren\\Anaconda3\\lib\\site-packages\\ipykernel_launcher.py:14: SettingWithCopyWarning: \n",
      "A value is trying to be set on a copy of a slice from a DataFrame.\n",
      "Try using .loc[row_indexer,col_indexer] = value instead\n",
      "\n",
      "See the caveats in the documentation: http://pandas.pydata.org/pandas-docs/stable/indexing.html#indexing-view-versus-copy\n",
      "  \n"
     ]
    },
    {
     "data": {
      "text/html": [
       "<div>\n",
       "<style scoped>\n",
       "    .dataframe tbody tr th:only-of-type {\n",
       "        vertical-align: middle;\n",
       "    }\n",
       "\n",
       "    .dataframe tbody tr th {\n",
       "        vertical-align: top;\n",
       "    }\n",
       "\n",
       "    .dataframe thead th {\n",
       "        text-align: right;\n",
       "    }\n",
       "</style>\n",
       "<table border=\"1\" class=\"dataframe\">\n",
       "  <thead>\n",
       "    <tr style=\"text-align: right;\">\n",
       "      <th></th>\n",
       "      <th>norm_flow</th>\n",
       "      <th>norm_rain</th>\n",
       "    </tr>\n",
       "  </thead>\n",
       "  <tbody>\n",
       "    <tr>\n",
       "      <th>0</th>\n",
       "      <td>0.372382</td>\n",
       "      <td>0.000000</td>\n",
       "    </tr>\n",
       "    <tr>\n",
       "      <th>1</th>\n",
       "      <td>0.276560</td>\n",
       "      <td>0.000358</td>\n",
       "    </tr>\n",
       "    <tr>\n",
       "      <th>2</th>\n",
       "      <td>0.231217</td>\n",
       "      <td>0.002737</td>\n",
       "    </tr>\n",
       "    <tr>\n",
       "      <th>3</th>\n",
       "      <td>0.209267</td>\n",
       "      <td>0.000700</td>\n",
       "    </tr>\n",
       "    <tr>\n",
       "      <th>4</th>\n",
       "      <td>0.220510</td>\n",
       "      <td>0.000000</td>\n",
       "    </tr>\n",
       "  </tbody>\n",
       "</table>\n",
       "</div>"
      ],
      "text/plain": [
       "   norm_flow  norm_rain\n",
       "0   0.372382   0.000000\n",
       "1   0.276560   0.000358\n",
       "2   0.231217   0.002737\n",
       "3   0.209267   0.000700\n",
       "4   0.220510   0.000000"
      ]
     },
     "execution_count": 4,
     "metadata": {},
     "output_type": "execute_result"
    }
   ],
   "source": [
    "# normalize flow and rain columns\n",
    "\n",
    "# first get numpy arrays of flow and rain so that the scaler can be applied\n",
    "flow = np.array(new_data['flow']).reshape(-1, 1)\n",
    "rain = np.array(new_data['rain_hour']).reshape(-1, 1)\n",
    "\n",
    "# apply the scaler\n",
    "scaler = MinMaxScaler(feature_range=(0, 1))\n",
    "flow = scaler.fit_transform(flow)\n",
    "rain = scaler.fit_transform(rain)\n",
    "\n",
    "# add columns back to df\n",
    "new_data['norm_flow'] = flow\n",
    "new_data['norm_rain'] = rain\n",
    "\n",
    "# drop old flow and rain cols from df \n",
    "new_data = new_data.drop(['flow', 'rain_hour'], axis=1)\n",
    "\n",
    "new_data.head()"
   ]
  },
  {
   "cell_type": "code",
   "execution_count": 5,
   "metadata": {},
   "outputs": [],
   "source": [
    "def CreateLags(df, cols, lag_num):\n",
    "    \"\"\"\n",
    "    Input:  df - df that you want to add lags to\n",
    "            cols - list of names of the columns (str)\n",
    "            lag_num - number of desired lags\n",
    "    Output: \n",
    "    \"\"\"\n",
    "    shift_dfs = []\n",
    "    for col in cols:\n",
    "        # These are the \"time lags\"\n",
    "        shifts = np.arange(1, lag_num+1).astype(int)\n",
    "        # Use a dictionary comprehension to create name: value pairs, one pair per shift\n",
    "        shifted_data_col = {col + \"_lag_{}_hour\".format(hour_shift): df[col].shift(hour_shift) for hour_shift in shifts}\n",
    "        # Convert into a DataFrame for subsequent use\n",
    "        col_shifts = pd.DataFrame(shifted_data_col)\n",
    "        shift_dfs.append(col_shifts)\n",
    "    # combine the shifted data with df\n",
    "    df_shifted = pd.concat([df] + shift_dfs, axis=1)\n",
    "\n",
    "    return df_shifted"
   ]
  },
  {
   "cell_type": "code",
   "execution_count": 6,
   "metadata": {},
   "outputs": [],
   "source": [
    "# # create lags of flow and rain as features for the model\n",
    "    \n",
    "# # flow\n",
    "# flow_lags = 24\n",
    "\n",
    "# shifts = np.arange(1, flow_lags).astype(int)\n",
    "\n",
    "# # Use a dictionary comprehension to create name: value pairs, one pair per shift\n",
    "# shifted_data_hour = {\"flow_lag_{}_hour\".format(hour_shift): new_data.norm_flow.shift(hour_shift) for hour_shift in shifts}\n",
    "\n",
    "# # Convert into a DataFrame for subsequent use\n",
    "# flow_shifts = pd.DataFrame(shifted_data_hour)\n",
    "\n",
    "# # rain\n",
    "# rain_lags = 20\n",
    "# # These are the \"time lags\"\n",
    "# shifts = np.arange(1, rain_lags).astype(int)\n",
    "\n",
    "# # Use a dictionary comprehension to create name: value pairs, one pair per shift\n",
    "# shifted_data_rain = {\"rain_lag_{}_hour\".format(hour_shift): new_data.norm_rain.shift(hour_shift) for hour_shift in shifts}\n",
    "\n",
    "# # Convert into a DataFrame for subsequent use\n",
    "# rain_shifts = pd.DataFrame(shifted_data_rain)\n",
    "\n",
    "# # combine the shifted data with old data\n",
    "# new_data_shifted = pd.concat([new_data,flow_shifts,rain_shifts], axis=1)\n",
    "\n",
    "new_data_shifted = CreateLags(new_data, ['norm_flow', 'norm_rain'], 24)"
   ]
  },
  {
   "cell_type": "code",
   "execution_count": 7,
   "metadata": {},
   "outputs": [
    {
     "data": {
      "text/html": [
       "<div>\n",
       "<style scoped>\n",
       "    .dataframe tbody tr th:only-of-type {\n",
       "        vertical-align: middle;\n",
       "    }\n",
       "\n",
       "    .dataframe tbody tr th {\n",
       "        vertical-align: top;\n",
       "    }\n",
       "\n",
       "    .dataframe thead th {\n",
       "        text-align: right;\n",
       "    }\n",
       "</style>\n",
       "<table border=\"1\" class=\"dataframe\">\n",
       "  <thead>\n",
       "    <tr style=\"text-align: right;\">\n",
       "      <th></th>\n",
       "      <th>norm_flow</th>\n",
       "      <th>norm_rain</th>\n",
       "      <th>norm_flow_lag_1_hour</th>\n",
       "      <th>norm_flow_lag_2_hour</th>\n",
       "      <th>norm_flow_lag_3_hour</th>\n",
       "      <th>norm_flow_lag_4_hour</th>\n",
       "      <th>norm_flow_lag_5_hour</th>\n",
       "      <th>norm_flow_lag_6_hour</th>\n",
       "      <th>norm_flow_lag_7_hour</th>\n",
       "      <th>norm_flow_lag_8_hour</th>\n",
       "      <th>...</th>\n",
       "      <th>norm_rain_lag_15_hour</th>\n",
       "      <th>norm_rain_lag_16_hour</th>\n",
       "      <th>norm_rain_lag_17_hour</th>\n",
       "      <th>norm_rain_lag_18_hour</th>\n",
       "      <th>norm_rain_lag_19_hour</th>\n",
       "      <th>norm_rain_lag_20_hour</th>\n",
       "      <th>norm_rain_lag_21_hour</th>\n",
       "      <th>norm_rain_lag_22_hour</th>\n",
       "      <th>norm_rain_lag_23_hour</th>\n",
       "      <th>norm_rain_lag_24_hour</th>\n",
       "    </tr>\n",
       "  </thead>\n",
       "  <tbody>\n",
       "    <tr>\n",
       "      <th>0</th>\n",
       "      <td>0.372382</td>\n",
       "      <td>0.000000</td>\n",
       "      <td>NaN</td>\n",
       "      <td>NaN</td>\n",
       "      <td>NaN</td>\n",
       "      <td>NaN</td>\n",
       "      <td>NaN</td>\n",
       "      <td>NaN</td>\n",
       "      <td>NaN</td>\n",
       "      <td>NaN</td>\n",
       "      <td>...</td>\n",
       "      <td>NaN</td>\n",
       "      <td>NaN</td>\n",
       "      <td>NaN</td>\n",
       "      <td>NaN</td>\n",
       "      <td>NaN</td>\n",
       "      <td>NaN</td>\n",
       "      <td>NaN</td>\n",
       "      <td>NaN</td>\n",
       "      <td>NaN</td>\n",
       "      <td>NaN</td>\n",
       "    </tr>\n",
       "    <tr>\n",
       "      <th>1</th>\n",
       "      <td>0.276560</td>\n",
       "      <td>0.000358</td>\n",
       "      <td>0.372382</td>\n",
       "      <td>NaN</td>\n",
       "      <td>NaN</td>\n",
       "      <td>NaN</td>\n",
       "      <td>NaN</td>\n",
       "      <td>NaN</td>\n",
       "      <td>NaN</td>\n",
       "      <td>NaN</td>\n",
       "      <td>...</td>\n",
       "      <td>NaN</td>\n",
       "      <td>NaN</td>\n",
       "      <td>NaN</td>\n",
       "      <td>NaN</td>\n",
       "      <td>NaN</td>\n",
       "      <td>NaN</td>\n",
       "      <td>NaN</td>\n",
       "      <td>NaN</td>\n",
       "      <td>NaN</td>\n",
       "      <td>NaN</td>\n",
       "    </tr>\n",
       "    <tr>\n",
       "      <th>2</th>\n",
       "      <td>0.231217</td>\n",
       "      <td>0.002737</td>\n",
       "      <td>0.276560</td>\n",
       "      <td>0.372382</td>\n",
       "      <td>NaN</td>\n",
       "      <td>NaN</td>\n",
       "      <td>NaN</td>\n",
       "      <td>NaN</td>\n",
       "      <td>NaN</td>\n",
       "      <td>NaN</td>\n",
       "      <td>...</td>\n",
       "      <td>NaN</td>\n",
       "      <td>NaN</td>\n",
       "      <td>NaN</td>\n",
       "      <td>NaN</td>\n",
       "      <td>NaN</td>\n",
       "      <td>NaN</td>\n",
       "      <td>NaN</td>\n",
       "      <td>NaN</td>\n",
       "      <td>NaN</td>\n",
       "      <td>NaN</td>\n",
       "    </tr>\n",
       "    <tr>\n",
       "      <th>3</th>\n",
       "      <td>0.209267</td>\n",
       "      <td>0.000700</td>\n",
       "      <td>0.231217</td>\n",
       "      <td>0.276560</td>\n",
       "      <td>0.372382</td>\n",
       "      <td>NaN</td>\n",
       "      <td>NaN</td>\n",
       "      <td>NaN</td>\n",
       "      <td>NaN</td>\n",
       "      <td>NaN</td>\n",
       "      <td>...</td>\n",
       "      <td>NaN</td>\n",
       "      <td>NaN</td>\n",
       "      <td>NaN</td>\n",
       "      <td>NaN</td>\n",
       "      <td>NaN</td>\n",
       "      <td>NaN</td>\n",
       "      <td>NaN</td>\n",
       "      <td>NaN</td>\n",
       "      <td>NaN</td>\n",
       "      <td>NaN</td>\n",
       "    </tr>\n",
       "    <tr>\n",
       "      <th>4</th>\n",
       "      <td>0.220510</td>\n",
       "      <td>0.000000</td>\n",
       "      <td>0.209267</td>\n",
       "      <td>0.231217</td>\n",
       "      <td>0.276560</td>\n",
       "      <td>0.372382</td>\n",
       "      <td>NaN</td>\n",
       "      <td>NaN</td>\n",
       "      <td>NaN</td>\n",
       "      <td>NaN</td>\n",
       "      <td>...</td>\n",
       "      <td>NaN</td>\n",
       "      <td>NaN</td>\n",
       "      <td>NaN</td>\n",
       "      <td>NaN</td>\n",
       "      <td>NaN</td>\n",
       "      <td>NaN</td>\n",
       "      <td>NaN</td>\n",
       "      <td>NaN</td>\n",
       "      <td>NaN</td>\n",
       "      <td>NaN</td>\n",
       "    </tr>\n",
       "  </tbody>\n",
       "</table>\n",
       "<p>5 rows × 50 columns</p>\n",
       "</div>"
      ],
      "text/plain": [
       "   norm_flow  norm_rain  norm_flow_lag_1_hour  norm_flow_lag_2_hour  \\\n",
       "0   0.372382   0.000000                   NaN                   NaN   \n",
       "1   0.276560   0.000358              0.372382                   NaN   \n",
       "2   0.231217   0.002737              0.276560              0.372382   \n",
       "3   0.209267   0.000700              0.231217              0.276560   \n",
       "4   0.220510   0.000000              0.209267              0.231217   \n",
       "\n",
       "   norm_flow_lag_3_hour  norm_flow_lag_4_hour  norm_flow_lag_5_hour  \\\n",
       "0                   NaN                   NaN                   NaN   \n",
       "1                   NaN                   NaN                   NaN   \n",
       "2                   NaN                   NaN                   NaN   \n",
       "3              0.372382                   NaN                   NaN   \n",
       "4              0.276560              0.372382                   NaN   \n",
       "\n",
       "   norm_flow_lag_6_hour  norm_flow_lag_7_hour  norm_flow_lag_8_hour  \\\n",
       "0                   NaN                   NaN                   NaN   \n",
       "1                   NaN                   NaN                   NaN   \n",
       "2                   NaN                   NaN                   NaN   \n",
       "3                   NaN                   NaN                   NaN   \n",
       "4                   NaN                   NaN                   NaN   \n",
       "\n",
       "           ...            norm_rain_lag_15_hour  norm_rain_lag_16_hour  \\\n",
       "0          ...                              NaN                    NaN   \n",
       "1          ...                              NaN                    NaN   \n",
       "2          ...                              NaN                    NaN   \n",
       "3          ...                              NaN                    NaN   \n",
       "4          ...                              NaN                    NaN   \n",
       "\n",
       "   norm_rain_lag_17_hour  norm_rain_lag_18_hour  norm_rain_lag_19_hour  \\\n",
       "0                    NaN                    NaN                    NaN   \n",
       "1                    NaN                    NaN                    NaN   \n",
       "2                    NaN                    NaN                    NaN   \n",
       "3                    NaN                    NaN                    NaN   \n",
       "4                    NaN                    NaN                    NaN   \n",
       "\n",
       "   norm_rain_lag_20_hour  norm_rain_lag_21_hour  norm_rain_lag_22_hour  \\\n",
       "0                    NaN                    NaN                    NaN   \n",
       "1                    NaN                    NaN                    NaN   \n",
       "2                    NaN                    NaN                    NaN   \n",
       "3                    NaN                    NaN                    NaN   \n",
       "4                    NaN                    NaN                    NaN   \n",
       "\n",
       "   norm_rain_lag_23_hour  norm_rain_lag_24_hour  \n",
       "0                    NaN                    NaN  \n",
       "1                    NaN                    NaN  \n",
       "2                    NaN                    NaN  \n",
       "3                    NaN                    NaN  \n",
       "4                    NaN                    NaN  \n",
       "\n",
       "[5 rows x 50 columns]"
      ]
     },
     "execution_count": 7,
     "metadata": {},
     "output_type": "execute_result"
    }
   ],
   "source": [
    "new_data_shifted.head()"
   ]
  },
  {
   "cell_type": "code",
   "execution_count": 8,
   "metadata": {},
   "outputs": [],
   "source": [
    "# # get dummies for weekday and hour of the day and combine them with the data\n",
    "# data_shift_dum = pd.get_dummies(new_data_shifted, columns = ['Weekday', 'Hour'])\n",
    "# len1 = len(data_shift_dum)\n",
    "# print('Shape before NAN removal: ', data_shift_dum.shape)"
   ]
  },
  {
   "cell_type": "code",
   "execution_count": 9,
   "metadata": {},
   "outputs": [],
   "source": [
    "# drop NAN's\n",
    "def DropNAN(df):\n",
    "    len1 = len(df)\n",
    "    print('Shape before NAN removal: ', df.shape)\n",
    "    df.dropna(inplace=True)\n",
    "    len2 = len(df)\n",
    "    print('Shape after NAN removal:  ', df.shape)\n",
    "    print(len1-len2, 'rows were removed')\n",
    "    \n",
    "    return df"
   ]
  },
  {
   "cell_type": "code",
   "execution_count": 10,
   "metadata": {},
   "outputs": [],
   "source": [
    "def GetXY(df):\n",
    "    # works assuming the predictor variable is the first column in df\n",
    "    \n",
    "    # create the X and y dataset\n",
    "    X = df.iloc[:, 1:] # every columns exept current flow\n",
    "    y = df.iloc[:, :1] # only the current flow columns\n",
    "    \n",
    "    # and make them into numpy arrays\n",
    "    X = X.values\n",
    "    y = y.values\n",
    "    \n",
    "    return X, y\n",
    "    "
   ]
  },
  {
   "cell_type": "code",
   "execution_count": 11,
   "metadata": {},
   "outputs": [],
   "source": [
    "# # create the X and y dataset\n",
    "# X = data_shift_dum.iloc[:, 1:] # every columns exept current flow\n",
    "# y = data_shift_dum.iloc[:, :1] # only the current flow columns\n",
    "\n",
    "# # and make them into numpy arrays\n",
    "# X = X.values\n",
    "# y = y.values"
   ]
  },
  {
   "cell_type": "code",
   "execution_count": 12,
   "metadata": {},
   "outputs": [
    {
     "name": "stdout",
     "output_type": "stream",
     "text": [
      "Shape before NAN removal:  (13630, 50)\n",
      "Shape after NAN removal:   (13606, 50)\n",
      "24 rows were removed\n"
     ]
    },
    {
     "data": {
      "text/html": [
       "<div>\n",
       "<style scoped>\n",
       "    .dataframe tbody tr th:only-of-type {\n",
       "        vertical-align: middle;\n",
       "    }\n",
       "\n",
       "    .dataframe tbody tr th {\n",
       "        vertical-align: top;\n",
       "    }\n",
       "\n",
       "    .dataframe thead th {\n",
       "        text-align: right;\n",
       "    }\n",
       "</style>\n",
       "<table border=\"1\" class=\"dataframe\">\n",
       "  <thead>\n",
       "    <tr style=\"text-align: right;\">\n",
       "      <th></th>\n",
       "      <th>norm_flow</th>\n",
       "      <th>norm_flow_lag_1_hour</th>\n",
       "      <th>norm_flow_lag_2_hour</th>\n",
       "      <th>norm_flow_lag_3_hour</th>\n",
       "      <th>norm_flow_lag_4_hour</th>\n",
       "      <th>norm_flow_lag_5_hour</th>\n",
       "      <th>norm_flow_lag_6_hour</th>\n",
       "      <th>norm_flow_lag_7_hour</th>\n",
       "      <th>norm_flow_lag_8_hour</th>\n",
       "      <th>norm_flow_lag_9_hour</th>\n",
       "      <th>...</th>\n",
       "      <th>norm_rain_lag_15_hour</th>\n",
       "      <th>norm_rain_lag_16_hour</th>\n",
       "      <th>norm_rain_lag_17_hour</th>\n",
       "      <th>norm_rain_lag_18_hour</th>\n",
       "      <th>norm_rain_lag_19_hour</th>\n",
       "      <th>norm_rain_lag_20_hour</th>\n",
       "      <th>norm_rain_lag_21_hour</th>\n",
       "      <th>norm_rain_lag_22_hour</th>\n",
       "      <th>norm_rain_lag_23_hour</th>\n",
       "      <th>norm_rain_lag_24_hour</th>\n",
       "    </tr>\n",
       "  </thead>\n",
       "  <tbody>\n",
       "    <tr>\n",
       "      <th>24</th>\n",
       "      <td>0.308624</td>\n",
       "      <td>0.416750</td>\n",
       "      <td>0.556805</td>\n",
       "      <td>0.712757</td>\n",
       "      <td>0.736824</td>\n",
       "      <td>0.624386</td>\n",
       "      <td>0.475200</td>\n",
       "      <td>0.348697</td>\n",
       "      <td>0.155275</td>\n",
       "      <td>0.176415</td>\n",
       "      <td>...</td>\n",
       "      <td>0.000000</td>\n",
       "      <td>0.0</td>\n",
       "      <td>0.0</td>\n",
       "      <td>0.0</td>\n",
       "      <td>0.0</td>\n",
       "      <td>0.0</td>\n",
       "      <td>0.0007</td>\n",
       "      <td>0.002737</td>\n",
       "      <td>0.000358</td>\n",
       "      <td>0.000000</td>\n",
       "    </tr>\n",
       "    <tr>\n",
       "      <th>25</th>\n",
       "      <td>0.203042</td>\n",
       "      <td>0.308624</td>\n",
       "      <td>0.416750</td>\n",
       "      <td>0.556805</td>\n",
       "      <td>0.712757</td>\n",
       "      <td>0.736824</td>\n",
       "      <td>0.624386</td>\n",
       "      <td>0.475200</td>\n",
       "      <td>0.348697</td>\n",
       "      <td>0.155275</td>\n",
       "      <td>...</td>\n",
       "      <td>0.000000</td>\n",
       "      <td>0.0</td>\n",
       "      <td>0.0</td>\n",
       "      <td>0.0</td>\n",
       "      <td>0.0</td>\n",
       "      <td>0.0</td>\n",
       "      <td>0.0000</td>\n",
       "      <td>0.000700</td>\n",
       "      <td>0.002737</td>\n",
       "      <td>0.000358</td>\n",
       "    </tr>\n",
       "    <tr>\n",
       "      <th>26</th>\n",
       "      <td>0.120231</td>\n",
       "      <td>0.203042</td>\n",
       "      <td>0.308624</td>\n",
       "      <td>0.416750</td>\n",
       "      <td>0.556805</td>\n",
       "      <td>0.712757</td>\n",
       "      <td>0.736824</td>\n",
       "      <td>0.624386</td>\n",
       "      <td>0.475200</td>\n",
       "      <td>0.348697</td>\n",
       "      <td>...</td>\n",
       "      <td>0.000000</td>\n",
       "      <td>0.0</td>\n",
       "      <td>0.0</td>\n",
       "      <td>0.0</td>\n",
       "      <td>0.0</td>\n",
       "      <td>0.0</td>\n",
       "      <td>0.0000</td>\n",
       "      <td>0.000000</td>\n",
       "      <td>0.000700</td>\n",
       "      <td>0.002737</td>\n",
       "    </tr>\n",
       "    <tr>\n",
       "      <th>27</th>\n",
       "      <td>0.092757</td>\n",
       "      <td>0.120231</td>\n",
       "      <td>0.203042</td>\n",
       "      <td>0.308624</td>\n",
       "      <td>0.416750</td>\n",
       "      <td>0.556805</td>\n",
       "      <td>0.712757</td>\n",
       "      <td>0.736824</td>\n",
       "      <td>0.624386</td>\n",
       "      <td>0.475200</td>\n",
       "      <td>...</td>\n",
       "      <td>0.000000</td>\n",
       "      <td>0.0</td>\n",
       "      <td>0.0</td>\n",
       "      <td>0.0</td>\n",
       "      <td>0.0</td>\n",
       "      <td>0.0</td>\n",
       "      <td>0.0000</td>\n",
       "      <td>0.000000</td>\n",
       "      <td>0.000000</td>\n",
       "      <td>0.000700</td>\n",
       "    </tr>\n",
       "    <tr>\n",
       "      <th>28</th>\n",
       "      <td>0.178081</td>\n",
       "      <td>0.092757</td>\n",
       "      <td>0.120231</td>\n",
       "      <td>0.203042</td>\n",
       "      <td>0.308624</td>\n",
       "      <td>0.416750</td>\n",
       "      <td>0.556805</td>\n",
       "      <td>0.712757</td>\n",
       "      <td>0.736824</td>\n",
       "      <td>0.624386</td>\n",
       "      <td>...</td>\n",
       "      <td>0.000835</td>\n",
       "      <td>0.0</td>\n",
       "      <td>0.0</td>\n",
       "      <td>0.0</td>\n",
       "      <td>0.0</td>\n",
       "      <td>0.0</td>\n",
       "      <td>0.0000</td>\n",
       "      <td>0.000000</td>\n",
       "      <td>0.000000</td>\n",
       "      <td>0.000000</td>\n",
       "    </tr>\n",
       "  </tbody>\n",
       "</table>\n",
       "<p>5 rows × 49 columns</p>\n",
       "</div>"
      ],
      "text/plain": [
       "    norm_flow  norm_flow_lag_1_hour  norm_flow_lag_2_hour  \\\n",
       "24   0.308624              0.416750              0.556805   \n",
       "25   0.203042              0.308624              0.416750   \n",
       "26   0.120231              0.203042              0.308624   \n",
       "27   0.092757              0.120231              0.203042   \n",
       "28   0.178081              0.092757              0.120231   \n",
       "\n",
       "    norm_flow_lag_3_hour  norm_flow_lag_4_hour  norm_flow_lag_5_hour  \\\n",
       "24              0.712757              0.736824              0.624386   \n",
       "25              0.556805              0.712757              0.736824   \n",
       "26              0.416750              0.556805              0.712757   \n",
       "27              0.308624              0.416750              0.556805   \n",
       "28              0.203042              0.308624              0.416750   \n",
       "\n",
       "    norm_flow_lag_6_hour  norm_flow_lag_7_hour  norm_flow_lag_8_hour  \\\n",
       "24              0.475200              0.348697              0.155275   \n",
       "25              0.624386              0.475200              0.348697   \n",
       "26              0.736824              0.624386              0.475200   \n",
       "27              0.712757              0.736824              0.624386   \n",
       "28              0.556805              0.712757              0.736824   \n",
       "\n",
       "    norm_flow_lag_9_hour          ...            norm_rain_lag_15_hour  \\\n",
       "24              0.176415          ...                         0.000000   \n",
       "25              0.155275          ...                         0.000000   \n",
       "26              0.348697          ...                         0.000000   \n",
       "27              0.475200          ...                         0.000000   \n",
       "28              0.624386          ...                         0.000835   \n",
       "\n",
       "    norm_rain_lag_16_hour  norm_rain_lag_17_hour  norm_rain_lag_18_hour  \\\n",
       "24                    0.0                    0.0                    0.0   \n",
       "25                    0.0                    0.0                    0.0   \n",
       "26                    0.0                    0.0                    0.0   \n",
       "27                    0.0                    0.0                    0.0   \n",
       "28                    0.0                    0.0                    0.0   \n",
       "\n",
       "    norm_rain_lag_19_hour  norm_rain_lag_20_hour  norm_rain_lag_21_hour  \\\n",
       "24                    0.0                    0.0                 0.0007   \n",
       "25                    0.0                    0.0                 0.0000   \n",
       "26                    0.0                    0.0                 0.0000   \n",
       "27                    0.0                    0.0                 0.0000   \n",
       "28                    0.0                    0.0                 0.0000   \n",
       "\n",
       "    norm_rain_lag_22_hour  norm_rain_lag_23_hour  norm_rain_lag_24_hour  \n",
       "24               0.002737               0.000358               0.000000  \n",
       "25               0.000700               0.002737               0.000358  \n",
       "26               0.000000               0.000700               0.002737  \n",
       "27               0.000000               0.000000               0.000700  \n",
       "28               0.000000               0.000000               0.000000  \n",
       "\n",
       "[5 rows x 49 columns]"
      ]
     },
     "execution_count": 12,
     "metadata": {},
     "output_type": "execute_result"
    }
   ],
   "source": [
    "ready_data = DropNAN(new_data_shifted)\n",
    "ready_data = ready_data.drop(['norm_rain'], axis=1)\n",
    "X, y = GetXY(ready_data)\n",
    "ready_data.head()"
   ]
  },
  {
   "cell_type": "code",
   "execution_count": 13,
   "metadata": {},
   "outputs": [
    {
     "data": {
      "text/plain": [
       "(13606, 48)"
      ]
     },
     "execution_count": 13,
     "metadata": {},
     "output_type": "execute_result"
    }
   ],
   "source": [
    "X.shape"
   ]
  },
  {
   "cell_type": "code",
   "execution_count": 14,
   "metadata": {},
   "outputs": [
    {
     "data": {
      "text/plain": [
       "10632"
      ]
     },
     "execution_count": 14,
     "metadata": {},
     "output_type": "execute_result"
    }
   ],
   "source": [
    "443*24"
   ]
  },
  {
   "cell_type": "code",
   "execution_count": 15,
   "metadata": {},
   "outputs": [
    {
     "data": {
      "text/plain": [
       "0.7814199617815669"
      ]
     },
     "execution_count": 15,
     "metadata": {},
     "output_type": "execute_result"
    }
   ],
   "source": [
    "10632/13606"
   ]
  },
  {
   "cell_type": "code",
   "execution_count": 16,
   "metadata": {},
   "outputs": [
    {
     "data": {
      "text/plain": [
       "Unnamed: 0                       10922\n",
       "day_ofthe_month                      1\n",
       "hour                                 2\n",
       "day_ofthe_year                      91\n",
       "day_ofthe_week                       0\n",
       "holiday                              0\n",
       "flow                           11751.3\n",
       "rain_hour                            0\n",
       "level                           208103\n",
       "rain_N_ago                           0\n",
       "dates              2019-04-01 02:00:00\n",
       "datetime           2019-04-01 02:00:00\n",
       "Date                        2019-04-01\n",
       "Weekday                         Monday\n",
       "Hour                                 2\n",
       "TimeOfDay                     02:00:00\n",
       "Year                              2019\n",
       "Month                            April\n",
       "Day                                  1\n",
       "DayofYear                           91\n",
       "Name: 10632, dtype: object"
      ]
     },
     "execution_count": 16,
     "metadata": {},
     "output_type": "execute_result"
    }
   ],
   "source": [
    "data.iloc[443*24]"
   ]
  },
  {
   "cell_type": "code",
   "execution_count": 17,
   "metadata": {},
   "outputs": [
    {
     "data": {
      "text/plain": [
       "3.7305555555555556"
      ]
     },
     "execution_count": 17,
     "metadata": {},
     "output_type": "execute_result"
    }
   ],
   "source": [
    "2686/24/30"
   ]
  },
  {
   "cell_type": "code",
   "execution_count": 18,
   "metadata": {},
   "outputs": [
    {
     "data": {
      "text/plain": [
       "18.897222222222222"
      ]
     },
     "execution_count": 18,
     "metadata": {},
     "output_type": "execute_result"
    }
   ],
   "source": [
    "13606/24/30"
   ]
  },
  {
   "cell_type": "code",
   "execution_count": 19,
   "metadata": {},
   "outputs": [
    {
     "data": {
      "text/plain": [
       "0.20316027088036118"
      ]
     },
     "execution_count": 19,
     "metadata": {},
     "output_type": "execute_result"
    }
   ],
   "source": [
    "90*24/10632"
   ]
  },
  {
   "cell_type": "code",
   "execution_count": 20,
   "metadata": {},
   "outputs": [],
   "source": [
    "# split into train and test set\n",
    "# here don't shuffle the data, so should have first 80% in train and rest in test\n",
    "X_train, X_test, y_train, y_test = train_test_split(X, y, train_size=.78, test_size=.22, shuffle=False, random_state=1)"
   ]
  },
  {
   "cell_type": "code",
   "execution_count": 21,
   "metadata": {},
   "outputs": [
    {
     "data": {
      "text/plain": [
       "(10612, 48)"
      ]
     },
     "execution_count": 21,
     "metadata": {},
     "output_type": "execute_result"
    }
   ],
   "source": [
    "X_train.shape"
   ]
  },
  {
   "cell_type": "code",
   "execution_count": 22,
   "metadata": {},
   "outputs": [
    {
     "data": {
      "text/plain": [
       "((10612, 24, 2), (2994, 24, 2))"
      ]
     },
     "execution_count": 22,
     "metadata": {},
     "output_type": "execute_result"
    }
   ],
   "source": [
    "n_hours = 24\n",
    "n_features = 2\n",
    "\n",
    "# reshape X_train and X_test for the LSTM layer\n",
    "X_train = np.reshape(X_train, (X_train.shape[0], n_hours, n_features))\n",
    "X_test = np.reshape(X_test, (X_test.shape[0], n_hours, n_features))\n",
    "\n",
    "X_train.shape, X_test.shape"
   ]
  },
  {
   "cell_type": "code",
   "execution_count": 23,
   "metadata": {},
   "outputs": [
    {
     "data": {
      "text/plain": [
       "24"
      ]
     },
     "execution_count": 23,
     "metadata": {},
     "output_type": "execute_result"
    }
   ],
   "source": [
    "n_hours"
   ]
  },
  {
   "cell_type": "markdown",
   "metadata": {},
   "source": [
    "#### Start with model"
   ]
  },
  {
   "cell_type": "code",
   "execution_count": 24,
   "metadata": {},
   "outputs": [
    {
     "name": "stdout",
     "output_type": "stream",
     "text": [
      "Train on 8489 samples, validate on 2123 samples\n",
      "Epoch 1/50\n",
      "8489/8489 [==============================] - 38s 4ms/step - loss: 0.0631 - mean_squared_error: 0.0122 - mean_absolute_error: 0.0631 - val_loss: 0.0588 - val_mean_squared_error: 0.0081 - val_mean_absolute_error: 0.0588\n",
      "Epoch 2/50\n",
      "8489/8489 [==============================] - 35s 4ms/step - loss: 0.0553 - mean_squared_error: 0.0085 - mean_absolute_error: 0.0553 - val_loss: 0.0563 - val_mean_squared_error: 0.0084 - val_mean_absolute_error: 0.0563\n",
      "Epoch 3/50\n",
      "8489/8489 [==============================] - 34s 4ms/step - loss: 0.0548 - mean_squared_error: 0.0084 - mean_absolute_error: 0.0548 - val_loss: 0.0548 - val_mean_squared_error: 0.0079 - val_mean_absolute_error: 0.0548\n",
      "Epoch 4/50\n",
      "8489/8489 [==============================] - 34s 4ms/step - loss: 0.0529 - mean_squared_error: 0.0074 - mean_absolute_error: 0.0529 - val_loss: 0.0516 - val_mean_squared_error: 0.0063 - val_mean_absolute_error: 0.0516\n",
      "Epoch 5/50\n",
      "8489/8489 [==============================] - 34s 4ms/step - loss: 0.0493 - mean_squared_error: 0.0060 - mean_absolute_error: 0.0493 - val_loss: 0.0780 - val_mean_squared_error: 0.0120 - val_mean_absolute_error: 0.0780\n",
      "Epoch 6/50\n",
      "8489/8489 [==============================] - 34s 4ms/step - loss: 0.0482 - mean_squared_error: 0.0056 - mean_absolute_error: 0.0482 - val_loss: 0.0625 - val_mean_squared_error: 0.0106 - val_mean_absolute_error: 0.0625\n",
      "Epoch 7/50\n",
      "8489/8489 [==============================] - 35s 4ms/step - loss: 0.0450 - mean_squared_error: 0.0050 - mean_absolute_error: 0.0450 - val_loss: 0.0545 - val_mean_squared_error: 0.0075 - val_mean_absolute_error: 0.0545\n",
      "Epoch 8/50\n",
      "8489/8489 [==============================] - 35s 4ms/step - loss: 0.0429 - mean_squared_error: 0.0043 - mean_absolute_error: 0.0429 - val_loss: 0.0587 - val_mean_squared_error: 0.0082 - val_mean_absolute_error: 0.0587\n",
      "Epoch 9/50\n",
      "8489/8489 [==============================] - 35s 4ms/step - loss: 0.0419 - mean_squared_error: 0.0042 - mean_absolute_error: 0.0419 - val_loss: 0.0669 - val_mean_squared_error: 0.0079 - val_mean_absolute_error: 0.0669\n",
      "Epoch 10/50\n",
      "8489/8489 [==============================] - 36s 4ms/step - loss: 0.0407 - mean_squared_error: 0.0040 - mean_absolute_error: 0.0407 - val_loss: 0.0520 - val_mean_squared_error: 0.0059 - val_mean_absolute_error: 0.0520\n",
      "Epoch 11/50\n",
      "8489/8489 [==============================] - 40s 5ms/step - loss: 0.0402 - mean_squared_error: 0.0039 - mean_absolute_error: 0.0402 - val_loss: 0.0829 - val_mean_squared_error: 0.0108 - val_mean_absolute_error: 0.0829\n",
      "Epoch 12/50\n",
      "8489/8489 [==============================] - 35s 4ms/step - loss: 0.0386 - mean_squared_error: 0.0037 - mean_absolute_error: 0.0386 - val_loss: 0.0420 - val_mean_squared_error: 0.0042 - val_mean_absolute_error: 0.0420\n",
      "Epoch 13/50\n",
      "8489/8489 [==============================] - 33s 4ms/step - loss: 0.0367 - mean_squared_error: 0.0032 - mean_absolute_error: 0.0367 - val_loss: 0.0580 - val_mean_squared_error: 0.0065 - val_mean_absolute_error: 0.0580\n",
      "Epoch 14/50\n",
      "8489/8489 [==============================] - 33s 4ms/step - loss: 0.0376 - mean_squared_error: 0.0036 - mean_absolute_error: 0.0376 - val_loss: 0.0449 - val_mean_squared_error: 0.0046 - val_mean_absolute_error: 0.0449\n",
      "Epoch 15/50\n",
      "8489/8489 [==============================] - 36s 4ms/step - loss: 0.0365 - mean_squared_error: 0.0034 - mean_absolute_error: 0.0365 - val_loss: 0.0442 - val_mean_squared_error: 0.0051 - val_mean_absolute_error: 0.0442\n",
      "Epoch 16/50\n",
      "8489/8489 [==============================] - 34s 4ms/step - loss: 0.0349 - mean_squared_error: 0.0032 - mean_absolute_error: 0.0349 - val_loss: 0.0387 - val_mean_squared_error: 0.0038 - val_mean_absolute_error: 0.0387\n",
      "Epoch 17/50\n",
      "8489/8489 [==============================] - 35s 4ms/step - loss: 0.0342 - mean_squared_error: 0.0031 - mean_absolute_error: 0.0342 - val_loss: 0.0400 - val_mean_squared_error: 0.0044 - val_mean_absolute_error: 0.0400\n",
      "Epoch 18/50\n",
      "8489/8489 [==============================] - 41s 5ms/step - loss: 0.0341 - mean_squared_error: 0.0030 - mean_absolute_error: 0.0341 - val_loss: 0.0462 - val_mean_squared_error: 0.0048 - val_mean_absolute_error: 0.0462\n",
      "Epoch 19/50\n",
      "8489/8489 [==============================] - 35s 4ms/step - loss: 0.0333 - mean_squared_error: 0.0029 - mean_absolute_error: 0.0333 - val_loss: 0.0453 - val_mean_squared_error: 0.0053 - val_mean_absolute_error: 0.0453\n",
      "Epoch 20/50\n",
      "8489/8489 [==============================] - 35s 4ms/step - loss: 0.0331 - mean_squared_error: 0.0030 - mean_absolute_error: 0.0331 - val_loss: 0.0381 - val_mean_squared_error: 0.0037 - val_mean_absolute_error: 0.0381\n",
      "Epoch 21/50\n",
      "8489/8489 [==============================] - 34s 4ms/step - loss: 0.0315 - mean_squared_error: 0.0027 - mean_absolute_error: 0.0315 - val_loss: 0.0390 - val_mean_squared_error: 0.0037 - val_mean_absolute_error: 0.0390\n",
      "Epoch 22/50\n",
      "8489/8489 [==============================] - 34s 4ms/step - loss: 0.0316 - mean_squared_error: 0.0026 - mean_absolute_error: 0.0316 - val_loss: 0.0386 - val_mean_squared_error: 0.0040 - val_mean_absolute_error: 0.0386\n",
      "Epoch 23/50\n",
      "8489/8489 [==============================] - 34s 4ms/step - loss: 0.0320 - mean_squared_error: 0.0029 - mean_absolute_error: 0.0320 - val_loss: 0.0375 - val_mean_squared_error: 0.0036 - val_mean_absolute_error: 0.0375\n",
      "Epoch 24/50\n",
      "8489/8489 [==============================] - 34s 4ms/step - loss: 0.0311 - mean_squared_error: 0.0027 - mean_absolute_error: 0.0311 - val_loss: 0.0372 - val_mean_squared_error: 0.0035 - val_mean_absolute_error: 0.0372\n",
      "Epoch 25/50\n",
      "8489/8489 [==============================] - 35s 4ms/step - loss: 0.0310 - mean_squared_error: 0.0026 - mean_absolute_error: 0.0310 - val_loss: 0.0357 - val_mean_squared_error: 0.0031 - val_mean_absolute_error: 0.0357\n",
      "Epoch 26/50\n",
      "8489/8489 [==============================] - 37s 4ms/step - loss: 0.0304 - mean_squared_error: 0.0026 - mean_absolute_error: 0.0304 - val_loss: 0.0356 - val_mean_squared_error: 0.0031 - val_mean_absolute_error: 0.0356\n",
      "Epoch 27/50\n",
      "8489/8489 [==============================] - 36s 4ms/step - loss: 0.0310 - mean_squared_error: 0.0028 - mean_absolute_error: 0.0310 - val_loss: 0.0378 - val_mean_squared_error: 0.0036 - val_mean_absolute_error: 0.0378\n",
      "Epoch 28/50\n",
      "8489/8489 [==============================] - 36s 4ms/step - loss: 0.0311 - mean_squared_error: 0.0028 - mean_absolute_error: 0.0311 - val_loss: 0.0353 - val_mean_squared_error: 0.0029 - val_mean_absolute_error: 0.0353\n",
      "Epoch 29/50\n",
      "8489/8489 [==============================] - 34s 4ms/step - loss: 0.0300 - mean_squared_error: 0.0026 - mean_absolute_error: 0.0300 - val_loss: 0.0367 - val_mean_squared_error: 0.0035 - val_mean_absolute_error: 0.0367\n",
      "Epoch 30/50\n",
      "8489/8489 [==============================] - 34s 4ms/step - loss: 0.0300 - mean_squared_error: 0.0025 - mean_absolute_error: 0.0300 - val_loss: 0.0351 - val_mean_squared_error: 0.0030 - val_mean_absolute_error: 0.0351\n",
      "Epoch 31/50\n",
      "8489/8489 [==============================] - 35s 4ms/step - loss: 0.0294 - mean_squared_error: 0.0024 - mean_absolute_error: 0.0294 - val_loss: 0.0357 - val_mean_squared_error: 0.0030 - val_mean_absolute_error: 0.0357\n",
      "Epoch 32/50\n",
      "8489/8489 [==============================] - 34s 4ms/step - loss: 0.0297 - mean_squared_error: 0.0025 - mean_absolute_error: 0.0297 - val_loss: 0.0347 - val_mean_squared_error: 0.0030 - val_mean_absolute_error: 0.0347\n",
      "Epoch 33/50\n",
      "8489/8489 [==============================] - 35s 4ms/step - loss: 0.0295 - mean_squared_error: 0.0024 - mean_absolute_error: 0.0295 - val_loss: 0.0345 - val_mean_squared_error: 0.0029 - val_mean_absolute_error: 0.0345\n",
      "Epoch 34/50\n",
      "8489/8489 [==============================] - 34s 4ms/step - loss: 0.0297 - mean_squared_error: 0.0024 - mean_absolute_error: 0.0297 - val_loss: 0.0354 - val_mean_squared_error: 0.0031 - val_mean_absolute_error: 0.0354\n",
      "Epoch 35/50\n",
      "8489/8489 [==============================] - 34s 4ms/step - loss: 0.0288 - mean_squared_error: 0.0023 - mean_absolute_error: 0.0288 - val_loss: 0.0388 - val_mean_squared_error: 0.0036 - val_mean_absolute_error: 0.0388\n",
      "Epoch 36/50\n"
     ]
    },
    {
     "name": "stdout",
     "output_type": "stream",
     "text": [
      "8489/8489 [==============================] - 34s 4ms/step - loss: 0.0287 - mean_squared_error: 0.0023 - mean_absolute_error: 0.0287 - val_loss: 0.0358 - val_mean_squared_error: 0.0029 - val_mean_absolute_error: 0.0358\n",
      "Epoch 37/50\n",
      "8489/8489 [==============================] - 33s 4ms/step - loss: 0.0285 - mean_squared_error: 0.0023 - mean_absolute_error: 0.0285 - val_loss: 0.0349 - val_mean_squared_error: 0.0030 - val_mean_absolute_error: 0.0349\n",
      "Epoch 38/50\n",
      "8489/8489 [==============================] - 33s 4ms/step - loss: 0.0288 - mean_squared_error: 0.0023 - mean_absolute_error: 0.0288 - val_loss: 0.0350 - val_mean_squared_error: 0.0030 - val_mean_absolute_error: 0.0350\n",
      "Epoch 39/50\n",
      "8489/8489 [==============================] - 33s 4ms/step - loss: 0.0283 - mean_squared_error: 0.0022 - mean_absolute_error: 0.0283 - val_loss: 0.0353 - val_mean_squared_error: 0.0031 - val_mean_absolute_error: 0.0353\n",
      "Epoch 40/50\n",
      "8489/8489 [==============================] - 34s 4ms/step - loss: 0.0282 - mean_squared_error: 0.0022 - mean_absolute_error: 0.0282 - val_loss: 0.0347 - val_mean_squared_error: 0.0029 - val_mean_absolute_error: 0.0347\n",
      "Epoch 41/50\n",
      "8489/8489 [==============================] - 33s 4ms/step - loss: 0.0286 - mean_squared_error: 0.0024 - mean_absolute_error: 0.0286 - val_loss: 0.0343 - val_mean_squared_error: 0.0029 - val_mean_absolute_error: 0.0343\n",
      "Epoch 42/50\n",
      "8489/8489 [==============================] - 33s 4ms/step - loss: 0.0284 - mean_squared_error: 0.0023 - mean_absolute_error: 0.0284 - val_loss: 0.0343 - val_mean_squared_error: 0.0028 - val_mean_absolute_error: 0.0343\n",
      "Epoch 43/50\n",
      "8489/8489 [==============================] - 34s 4ms/step - loss: 0.0278 - mean_squared_error: 0.0022 - mean_absolute_error: 0.0278 - val_loss: 0.0349 - val_mean_squared_error: 0.0030 - val_mean_absolute_error: 0.0349\n",
      "Epoch 44/50\n",
      "8489/8489 [==============================] - 33s 4ms/step - loss: 0.0283 - mean_squared_error: 0.0023 - mean_absolute_error: 0.0283 - val_loss: 0.0349 - val_mean_squared_error: 0.0028 - val_mean_absolute_error: 0.0349\n",
      "Epoch 45/50\n",
      "8489/8489 [==============================] - 33s 4ms/step - loss: 0.0278 - mean_squared_error: 0.0022 - mean_absolute_error: 0.0278 - val_loss: 0.0337 - val_mean_squared_error: 0.0029 - val_mean_absolute_error: 0.0337\n",
      "Epoch 46/50\n",
      "8489/8489 [==============================] - 33s 4ms/step - loss: 0.0279 - mean_squared_error: 0.0022 - mean_absolute_error: 0.0279 - val_loss: 0.0348 - val_mean_squared_error: 0.0028 - val_mean_absolute_error: 0.0348\n",
      "Epoch 47/50\n",
      "8489/8489 [==============================] - 33s 4ms/step - loss: 0.0284 - mean_squared_error: 0.0023 - mean_absolute_error: 0.0284 - val_loss: 0.0340 - val_mean_squared_error: 0.0027 - val_mean_absolute_error: 0.0340\n",
      "Epoch 48/50\n",
      "8489/8489 [==============================] - 33s 4ms/step - loss: 0.0277 - mean_squared_error: 0.0021 - mean_absolute_error: 0.0277 - val_loss: 0.0349 - val_mean_squared_error: 0.0030 - val_mean_absolute_error: 0.0349\n",
      "Epoch 49/50\n",
      "8489/8489 [==============================] - 33s 4ms/step - loss: 0.0277 - mean_squared_error: 0.0022 - mean_absolute_error: 0.0277 - val_loss: 0.0347 - val_mean_squared_error: 0.0028 - val_mean_absolute_error: 0.0347\n",
      "Epoch 50/50\n",
      "8489/8489 [==============================] - 33s 4ms/step - loss: 0.0275 - mean_squared_error: 0.0021 - mean_absolute_error: 0.0275 - val_loss: 0.0350 - val_mean_squared_error: 0.0029 - val_mean_absolute_error: 0.0350\n"
     ]
    }
   ],
   "source": [
    "model = Sequential()\n",
    "model.add(LSTM(256, input_shape=(n_hours, n_features), return_sequences=True))\n",
    "model.add(LeakyReLU(alpha=0.3))\n",
    "model.add(Dropout(0.4))\n",
    "model.add(BatchNormalization())\n",
    "model.add(LSTM(128))\n",
    "model.add(LeakyReLU(alpha=0.3))\n",
    "model.add(Dropout(0.3))\n",
    "model.add(Dense(1))\n",
    "model.compile(loss='mae', metrics = ['mse', 'mae'], optimizer='adamax')\n",
    "# model.fit(X_train, y_train, epochs=10, batch_size=1, verbose=2)\n",
    "history = model.fit(X_train, y_train, epochs=50, validation_split=0.2, verbose=1, shuffle=False)\n"
   ]
  },
  {
   "cell_type": "code",
   "execution_count": 25,
   "metadata": {},
   "outputs": [
    {
     "data": {
      "image/png": "[encoded data removed]",
      "text/plain": [
       "<Figure size 432x288 with 1 Axes>"
      ]
     },
     "metadata": {},
     "output_type": "display_data"
    }
   ],
   "source": [
    "# plot history\n",
    "plt.plot(history.history['loss'], label='train')\n",
    "plt.plot(history.history['val_loss'], label='validation')\n",
    "plt.legend()\n",
    "plt.show()"
   ]
  },
  {
   "cell_type": "code",
   "execution_count": 26,
   "metadata": {},
   "outputs": [],
   "source": [
    "# make predictions\n",
    "trainPredict = model.predict(X_train)\n",
    "testPredict = model.predict(X_test)"
   ]
  },
  {
   "cell_type": "code",
   "execution_count": 27,
   "metadata": {},
   "outputs": [
    {
     "data": {
      "text/plain": [
       "(10612, 1)"
      ]
     },
     "execution_count": 27,
     "metadata": {},
     "output_type": "execute_result"
    }
   ],
   "source": [
    "trainPredict.shape"
   ]
  },
  {
   "cell_type": "code",
   "execution_count": 28,
   "metadata": {},
   "outputs": [
    {
     "data": {
      "text/plain": [
       "(array([0.7832471], dtype=float32), array([-0.01096981], dtype=float32))"
      ]
     },
     "execution_count": 28,
     "metadata": {},
     "output_type": "execute_result"
    }
   ],
   "source": [
    "max(trainPredict), min(trainPredict)"
   ]
  },
  {
   "cell_type": "code",
   "execution_count": 29,
   "metadata": {},
   "outputs": [],
   "source": [
    "# invert predictions\n",
    "\n",
    "trainPredict2 = scaler.inverse_transform(trainPredict)\n",
    "# reshape y_train so that can apply scaler\n",
    "# y_train2 = np.reshape(y_train, (y_train.shape[0], ))\n",
    "trainY = scaler.inverse_transform(y_train)\n",
    "\n",
    "testPredict = scaler.inverse_transform(testPredict)\n",
    "# same as before\n",
    "# y_test2 = np.reshape(y_test, (y_test.shape[0], ))\n",
    "testY = scaler.inverse_transform(y_test)"
   ]
  },
  {
   "cell_type": "code",
   "execution_count": 30,
   "metadata": {},
   "outputs": [
    {
     "data": {
      "text/plain": [
       "(array([134.7963]), array([0.]))"
      ]
     },
     "execution_count": 30,
     "metadata": {},
     "output_type": "execute_result"
    }
   ],
   "source": [
    "# trainPredict2 = scaler.inverse_transform(trainPredict)\n",
    "# max(trainPredict2), min(trainPredict2)\n",
    "max(trainY), min(trainY)"
   ]
  },
  {
   "cell_type": "code",
   "execution_count": 31,
   "metadata": {},
   "outputs": [
    {
     "data": {
      "text/plain": [
       "(2994, 1)"
      ]
     },
     "execution_count": 31,
     "metadata": {},
     "output_type": "execute_result"
    }
   ],
   "source": [
    "testY.shape"
   ]
  },
  {
   "cell_type": "code",
   "execution_count": 32,
   "metadata": {},
   "outputs": [
    {
     "name": "stdout",
     "output_type": "stream",
     "text": [
      "Train Score: 22.34 RMSE\n",
      "Test Score: 6.49 RMSE\n",
      "Train Score: 18.23 MAE\n",
      "Test Score: 4.38 MAE\n"
     ]
    }
   ],
   "source": [
    "# calculate root mean squared error\n",
    "trainScore = math.sqrt(mean_squared_error(trainY[:,0], trainPredict[:,0]))\n",
    "print('Train Score: %.2f RMSE' % (trainScore))\n",
    "testScore = math.sqrt(mean_squared_error(testY[:,0], testPredict[:,0]))\n",
    "print('Test Score: %.2f RMSE' % (testScore))\n",
    "\n",
    "# calculate mean absolute error\n",
    "trainScore = round(mean_absolute_error(trainY[:,0], trainPredict[:,0]), 2)\n",
    "print(f'Train Score: {trainScore} MAE')\n",
    "testScore = round(mean_absolute_error(testY[:,0], testPredict[:,0]),2)\n",
    "print(f'Test Score: {testScore} MAE')"
   ]
  },
  {
   "cell_type": "code",
   "execution_count": 33,
   "metadata": {},
   "outputs": [
    {
     "data": {
      "text/plain": [
       "(6350, 6500)"
      ]
     },
     "execution_count": 33,
     "metadata": {},
     "output_type": "execute_result"
    },
    {
     "data": {
      "image/png": "[encoded data removed]",
      "text/plain": [
       "<Figure size 1080x720 with 1 Axes>"
      ]
     },
     "metadata": {},
     "output_type": "display_data"
    }
   ],
   "source": [
    "fig = plt.figure(figsize=(15,10))\n",
    "\n",
    "plt.plot(trainY, label='true')\n",
    "plt.plot(trainPredict2, label='predicted')\n",
    "# plt.plot(testPredict)\n",
    "plt.legend()\n",
    "plt.xlim(6350, 6500)"
   ]
  },
  {
   "cell_type": "markdown",
   "metadata": {},
   "source": [
    "### complete bullshit follows lol"
   ]
  },
  {
   "cell_type": "code",
   "execution_count": 34,
   "metadata": {},
   "outputs": [
    {
     "ename": "NameError",
     "evalue": "name 'data_shift_dum' is not defined",
     "output_type": "error",
     "traceback": [
      "\u001b[1;31m---------------------------------------------------------------------------\u001b[0m",
      "\u001b[1;31mNameError\u001b[0m                                 Traceback (most recent call last)",
      "\u001b[1;32m<ipython-input-34-8c993d5f4b64>\u001b[0m in \u001b[0;36m<module>\u001b[1;34m()\u001b[0m\n\u001b[0;32m      1\u001b[0m \u001b[1;31m# shift train predictions for plotting\u001b[0m\u001b[1;33m\u001b[0m\u001b[1;33m\u001b[0m\u001b[0m\n\u001b[1;32m----> 2\u001b[1;33m \u001b[0mtrainPredictPlot\u001b[0m \u001b[1;33m=\u001b[0m \u001b[0mnp\u001b[0m\u001b[1;33m.\u001b[0m\u001b[0mempty_like\u001b[0m\u001b[1;33m(\u001b[0m\u001b[0mdata_shift_dum\u001b[0m\u001b[1;33m)\u001b[0m\u001b[1;33m\u001b[0m\u001b[0m\n\u001b[0m\u001b[0;32m      3\u001b[0m \u001b[0mtrainPredictPlot\u001b[0m\u001b[1;33m[\u001b[0m\u001b[1;33m:\u001b[0m\u001b[1;33m,\u001b[0m \u001b[1;33m:\u001b[0m\u001b[1;33m]\u001b[0m \u001b[1;33m=\u001b[0m \u001b[0mnp\u001b[0m\u001b[1;33m.\u001b[0m\u001b[0mnan\u001b[0m\u001b[1;33m\u001b[0m\u001b[0m\n\u001b[0;32m      4\u001b[0m \u001b[0mtrainPredictPlot\u001b[0m\u001b[1;33m[\u001b[0m\u001b[1;36m24\u001b[0m\u001b[1;33m:\u001b[0m\u001b[0mlen\u001b[0m\u001b[1;33m(\u001b[0m\u001b[0mtrainPredict\u001b[0m\u001b[1;33m)\u001b[0m\u001b[1;33m+\u001b[0m\u001b[1;36m24\u001b[0m\u001b[1;33m,\u001b[0m \u001b[1;33m:\u001b[0m\u001b[1;33m]\u001b[0m \u001b[1;33m=\u001b[0m \u001b[0mtrainPredict\u001b[0m\u001b[1;33m\u001b[0m\u001b[0m\n",
      "\u001b[1;31mNameError\u001b[0m: name 'data_shift_dum' is not defined"
     ]
    }
   ],
   "source": [
    "# shift train predictions for plotting\n",
    "trainPredictPlot = np.empty_like(data_shift_dum)\n",
    "trainPredictPlot[:, :] = np.nan\n",
    "trainPredictPlot[24:len(trainPredict)+24, :] = trainPredict"
   ]
  },
  {
   "cell_type": "code",
   "execution_count": null,
   "metadata": {},
   "outputs": [],
   "source": [
    "fig = plt.figure(figsize=(15,10))\n",
    "plt.plot(final)\n",
    "plt.plot(trainPredictPlot)\n",
    "# plt.plot(testPredictPlot)\n",
    "plt.show()"
   ]
  },
  {
   "cell_type": "code",
   "execution_count": null,
   "metadata": {},
   "outputs": [],
   "source": [
    "# shift test predictions for plotting\n",
    "testPredictPlot = np.empty_like(data_shift_dum)\n",
    "testPredictPlot[:, :] = np.nan\n",
    "testPredictPlot[len(trainPredict)+(24*2)+1:len(data_shift_dum)-1, :] = testPredict\n",
    "# plot baseline and predictions\n",
    "fig = plt.figure(figsize=(15,10))\n",
    "plt.plot(final)\n",
    "plt.plot(trainPredictPlot)\n",
    "plt.plot(testPredictPlot)\n",
    "plt.show()"
   ]
  },
  {
   "cell_type": "code",
   "execution_count": null,
   "metadata": {},
   "outputs": [],
   "source": [
    "org_flow = new_data['norm_flow'].to_numpy().reshape(-1, 1)\n",
    "# org_flow = scaler.inverse_transform(org_flow)\n",
    "# final = org_flow[23:]\n",
    "# final.shape"
   ]
  },
  {
   "cell_type": "code",
   "execution_count": null,
   "metadata": {},
   "outputs": [],
   "source": [
    "trainPredict.shape, testPredict.shape"
   ]
  },
  {
   "cell_type": "code",
   "execution_count": null,
   "metadata": {},
   "outputs": [],
   "source": [
    "fig = plt.figure(figsize=(15,10))\n",
    "plt.plot(final)\n",
    "plt.plot(trainPredict)\n",
    "plt.plot(testPredict)\n",
    "plt.show()"
   ]
  },
  {
   "attachments": {
    "image.png": {
     "image/png": "[encoded data removed]"
    }
   },
   "cell_type": "markdown",
   "metadata": {},
   "source": [
    "# results\n",
    "- run without dummies i think\n",
    "![image.png](attachment:image.png)"
   ]
  },
  {
   "cell_type": "code",
   "execution_count": null,
   "metadata": {},
   "outputs": [],
   "source": [
    "for i in range(3, 0, -1):\n",
    "    print(i)"
   ]
  }
 ],
 "metadata": {
  "kernelspec": {
   "display_name": "Python 3",
   "language": "python",
   "name": "python3"
  },
  "language_info": {
   "codemirror_mode": {
    "name": "ipython",
    "version": 3
   },
   "file_extension": ".py",
   "mimetype": "text/x-python",
   "name": "python",
   "nbconvert_exporter": "python",
   "pygments_lexer": "ipython3",
   "version": "3.6.5"
  }
 },
 "nbformat": 4,
 "nbformat_minor": 2
}
