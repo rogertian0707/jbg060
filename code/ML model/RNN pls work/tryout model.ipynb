{
 "cells": [
  {
   "cell_type": "code",
   "execution_count": 19,
   "metadata": {},
   "outputs": [
    {
     "name": "stderr",
     "output_type": "stream",
     "text": [
      "Using TensorFlow backend.\n"
     ]
    }
   ],
   "source": [
    "from random import shuffle\n",
    "import time\n",
    "import pandas as pd\n",
    "import numpy as np\n",
    "import tensorflow as tf\n",
    "from tensorflow.keras.models import Sequential\n",
    "from tensorflow.keras.layers import Dense, Dropout, LSTM, CuDNNLSTM, BatchNormalization\n",
    "# from tensorflow.keras.callbacks import TensorBoard\n",
    "# from tensorflow.keras.callbacks import ModelCheckpoint, ModelCheckpoint\n",
    "from sklearn import preprocessing\n",
    "import matplotlib.pyplot as plt\n",
    "from collections import deque\n",
    "from keras.callbacks import EarlyStopping"
   ]
  },
  {
   "cell_type": "markdown",
   "metadata": {},
   "source": [
    "# Preprocessing"
   ]
  },
  {
   "cell_type": "code",
   "execution_count": 2,
   "metadata": {},
   "outputs": [],
   "source": [
    "bok = pd.read_csv('../../../data/bokhoven.csv')"
   ]
  },
  {
   "cell_type": "code",
   "execution_count": 3,
   "metadata": {},
   "outputs": [],
   "source": [
    "bok.drop(['Unnamed: 0', 'datumBeginMeting'], axis=1, inplace=True) #don't need these"
   ]
  },
  {
   "cell_type": "code",
   "execution_count": 4,
   "metadata": {},
   "outputs": [],
   "source": [
    "#transform to timestamp and add features\n",
    "def AddColumns(df):\n",
    "    df['Begin'] = pd.to_datetime(df['Begin'])\n",
    "    #df['Date'] = pd.DatetimeIndex(df.Begin).normalize()\n",
    "    df['Weekday'] = df['Begin'].dt.day_name()\n",
    "    #df['Hour'] = df['Begin'].dt.hour\n",
    "    df['TimeOfDay'] = df['Begin'].dt.time\n",
    "    #df['Year'] = df['Begin'].dt.year\n",
    "    df['Month'] = df['Begin'].dt.month_name()\n",
    "    #df['Day'] = df['Begin'].dt.day\n",
    "    return df"
   ]
  },
  {
   "cell_type": "code",
   "execution_count": 5,
   "metadata": {},
   "outputs": [
    {
     "data": {
      "text/html": [
       "<div>\n",
       "<style scoped>\n",
       "    .dataframe tbody tr th:only-of-type {\n",
       "        vertical-align: middle;\n",
       "    }\n",
       "\n",
       "    .dataframe tbody tr th {\n",
       "        vertical-align: top;\n",
       "    }\n",
       "\n",
       "    .dataframe thead th {\n",
       "        text-align: right;\n",
       "    }\n",
       "</style>\n",
       "<table border=\"1\" class=\"dataframe\">\n",
       "  <thead>\n",
       "    <tr style=\"text-align: right;\">\n",
       "      <th></th>\n",
       "      <th>hstWaarde</th>\n",
       "      <th>Bokhoven</th>\n",
       "      <th>Begin</th>\n",
       "      <th>cumsum_previous_15</th>\n",
       "      <th>rain_-15_class</th>\n",
       "      <th>Weekday</th>\n",
       "      <th>TimeOfDay</th>\n",
       "      <th>Month</th>\n",
       "    </tr>\n",
       "  </thead>\n",
       "  <tbody>\n",
       "    <tr>\n",
       "      <td>63</td>\n",
       "      <td>260.0</td>\n",
       "      <td>0.0</td>\n",
       "      <td>2018-01-03 15:00:00</td>\n",
       "      <td>0.0</td>\n",
       "      <td>0</td>\n",
       "      <td>Wednesday</td>\n",
       "      <td>15:00:00</td>\n",
       "      <td>January</td>\n",
       "    </tr>\n",
       "    <tr>\n",
       "      <td>64</td>\n",
       "      <td>0.0</td>\n",
       "      <td>0.0</td>\n",
       "      <td>2018-01-03 16:00:00</td>\n",
       "      <td>0.0</td>\n",
       "      <td>0</td>\n",
       "      <td>Wednesday</td>\n",
       "      <td>16:00:00</td>\n",
       "      <td>January</td>\n",
       "    </tr>\n",
       "    <tr>\n",
       "      <td>65</td>\n",
       "      <td>0.0</td>\n",
       "      <td>0.0</td>\n",
       "      <td>2018-01-03 17:00:00</td>\n",
       "      <td>0.0</td>\n",
       "      <td>0</td>\n",
       "      <td>Wednesday</td>\n",
       "      <td>17:00:00</td>\n",
       "      <td>January</td>\n",
       "    </tr>\n",
       "    <tr>\n",
       "      <td>66</td>\n",
       "      <td>250.0</td>\n",
       "      <td>0.0</td>\n",
       "      <td>2018-01-03 18:00:00</td>\n",
       "      <td>0.0</td>\n",
       "      <td>0</td>\n",
       "      <td>Wednesday</td>\n",
       "      <td>18:00:00</td>\n",
       "      <td>January</td>\n",
       "    </tr>\n",
       "    <tr>\n",
       "      <td>67</td>\n",
       "      <td>300.0</td>\n",
       "      <td>0.0</td>\n",
       "      <td>2018-01-03 19:00:00</td>\n",
       "      <td>0.0</td>\n",
       "      <td>0</td>\n",
       "      <td>Wednesday</td>\n",
       "      <td>19:00:00</td>\n",
       "      <td>January</td>\n",
       "    </tr>\n",
       "    <tr>\n",
       "      <td>68</td>\n",
       "      <td>0.0</td>\n",
       "      <td>0.0</td>\n",
       "      <td>2018-01-03 20:00:00</td>\n",
       "      <td>0.0</td>\n",
       "      <td>0</td>\n",
       "      <td>Wednesday</td>\n",
       "      <td>20:00:00</td>\n",
       "      <td>January</td>\n",
       "    </tr>\n",
       "    <tr>\n",
       "      <td>69</td>\n",
       "      <td>220.0</td>\n",
       "      <td>0.0</td>\n",
       "      <td>2018-01-03 21:00:00</td>\n",
       "      <td>0.0</td>\n",
       "      <td>0</td>\n",
       "      <td>Wednesday</td>\n",
       "      <td>21:00:00</td>\n",
       "      <td>January</td>\n",
       "    </tr>\n",
       "  </tbody>\n",
       "</table>\n",
       "</div>"
      ],
      "text/plain": [
       "    hstWaarde  Bokhoven               Begin  cumsum_previous_15  \\\n",
       "63      260.0       0.0 2018-01-03 15:00:00                 0.0   \n",
       "64        0.0       0.0 2018-01-03 16:00:00                 0.0   \n",
       "65        0.0       0.0 2018-01-03 17:00:00                 0.0   \n",
       "66      250.0       0.0 2018-01-03 18:00:00                 0.0   \n",
       "67      300.0       0.0 2018-01-03 19:00:00                 0.0   \n",
       "68        0.0       0.0 2018-01-03 20:00:00                 0.0   \n",
       "69      220.0       0.0 2018-01-03 21:00:00                 0.0   \n",
       "\n",
       "    rain_-15_class    Weekday TimeOfDay    Month  \n",
       "63               0  Wednesday  15:00:00  January  \n",
       "64               0  Wednesday  16:00:00  January  \n",
       "65               0  Wednesday  17:00:00  January  \n",
       "66               0  Wednesday  18:00:00  January  \n",
       "67               0  Wednesday  19:00:00  January  \n",
       "68               0  Wednesday  20:00:00  January  \n",
       "69               0  Wednesday  21:00:00  January  "
      ]
     },
     "execution_count": 5,
     "metadata": {},
     "output_type": "execute_result"
    }
   ],
   "source": [
    "new_bok = AddColumns(bok)\n",
    "new_bok[63:70]"
   ]
  },
  {
   "cell_type": "code",
   "execution_count": 6,
   "metadata": {},
   "outputs": [],
   "source": [
    "def preprocess_df(df):\n",
    "    for col in df.columns:  # go through all of the columns\n",
    "        if col == \"hstWaarde\":  # normalize the flow column \n",
    "            df[col] = (df[col]-df[col].min())/(df[col].max()- df[col].min()) #scale between 0 and 1 using min-max normalization\n",
    "    df.dropna(inplace=True)  # cleanup again... jic. Those nasty NaNs love to creep in.\n",
    "    return df"
   ]
  },
  {
   "cell_type": "code",
   "execution_count": 7,
   "metadata": {},
   "outputs": [
    {
     "name": "stderr",
     "output_type": "stream",
     "text": [
      "C:\\Users\\20174994\\AppData\\Local\\Continuum\\anaconda3\\lib\\site-packages\\ipykernel_launcher.py:4: SettingWithCopyWarning: \n",
      "A value is trying to be set on a copy of a slice from a DataFrame.\n",
      "Try using .loc[row_indexer,col_indexer] = value instead\n",
      "\n",
      "See the caveats in the documentation: http://pandas.pydata.org/pandas-docs/stable/user_guide/indexing.html#returning-a-view-versus-a-copy\n",
      "  after removing the cwd from sys.path.\n",
      "C:\\Users\\20174994\\AppData\\Local\\Continuum\\anaconda3\\lib\\site-packages\\ipykernel_launcher.py:5: SettingWithCopyWarning: \n",
      "A value is trying to be set on a copy of a slice from a DataFrame\n",
      "\n",
      "See the caveats in the documentation: http://pandas.pydata.org/pandas-docs/stable/user_guide/indexing.html#returning-a-view-versus-a-copy\n",
      "  \"\"\"\n"
     ]
    }
   ],
   "source": [
    "#extract dry days\n",
    "cleaned_data = new_bok[new_bok['rain_-15_class'] == 0]\n",
    "preproc = preprocess_df(cleaned_data)"
   ]
  },
  {
   "cell_type": "code",
   "execution_count": 8,
   "metadata": {},
   "outputs": [],
   "source": [
    "#renew indices\n",
    "preproc_dry = preproc.reset_index(inplace=False)\n",
    "preproc_dry.drop(['index','Bokhoven', 'cumsum_previous_15', 'rain_-15_class'], axis = 1, inplace=True)"
   ]
  },
  {
   "cell_type": "code",
   "execution_count": 9,
   "metadata": {},
   "outputs": [
    {
     "name": "stderr",
     "output_type": "stream",
     "text": [
      "C:\\Users\\20174994\\AppData\\Local\\Continuum\\anaconda3\\lib\\site-packages\\pandas\\plotting\\_matplotlib\\converter.py:103: FutureWarning: Using an implicitly registered datetime converter for a matplotlib plotting method. The converter was registered by pandas on import. Future versions of pandas will require you to explicitly register matplotlib converters.\n",
      "\n",
      "To register the converters:\n",
      "\t>>> from pandas.plotting import register_matplotlib_converters\n",
      "\t>>> register_matplotlib_converters()\n",
      "  warnings.warn(msg, FutureWarning)\n"
     ]
    },
    {
     "data": {
      "image/png": "[encoded data removed]",
      "text/plain": [
       "<Figure size 432x288 with 1 Axes>"
      ]
     },
     "metadata": {},
     "output_type": "display_data"
    }
   ],
   "source": [
    "#check normalization results\n",
    "plt.plot(preproc_dry['Begin'], preproc_dry['hstWaarde']);"
   ]
  },
  {
   "cell_type": "code",
   "execution_count": 10,
   "metadata": {},
   "outputs": [],
   "source": [
    "#create and concat dummies\n",
    "dummies = pd.get_dummies(preproc_dry[['Weekday','TimeOfDay','Month']])\n",
    "preproc_dry.drop(['Weekday','TimeOfDay','Month'], axis = 1, inplace=True)\n",
    "main_df = pd.concat([preproc_dry, dummies], axis = 1)\n",
    "main_df.drop('Begin', axis=1, inplace=True)"
   ]
  },
  {
   "cell_type": "code",
   "execution_count": 11,
   "metadata": {},
   "outputs": [],
   "source": [
    "#split the data is 60% training, 20% validation and 20% test data\n",
    "train = main_df.iloc[:-int(0.4*len(main_df))]\n",
    "\n",
    "rest = main_df[main_df.index >= max(train.index)]\n",
    "rest = rest.reset_index()\n",
    "rest = rest.drop('index', axis = 1)\n",
    "\n",
    "test = rest[rest.index >= len(rest)//2]\n",
    "test = test.reset_index()\n",
    "test = test.drop('index', axis = 1)\n",
    "\n",
    "validation = rest[rest.index < len(rest)//2]\n",
    "validation = validation.reset_index()\n",
    "validation = validation.drop('index', axis = 1)"
   ]
  },
  {
   "cell_type": "code",
   "execution_count": 12,
   "metadata": {},
   "outputs": [
    {
     "data": {
      "text/plain": [
       "((5611, 44), (1871, 44), (1870, 44))"
      ]
     },
     "execution_count": 12,
     "metadata": {},
     "output_type": "execute_result"
    }
   ],
   "source": [
    "train.shape, test.shape, validation.shape"
   ]
  },
  {
   "cell_type": "code",
   "execution_count": 13,
   "metadata": {},
   "outputs": [],
   "source": [
    "#make sure to only predict using past data\n",
    "SEQ_LEN = 168  # how long of a preceeding sequence to collect for RNN (168 hours = 1 week)\n",
    "FUTURE_PERIOD_PREDICT = 24 #how far to predict ahead of time\n",
    "\n",
    "\n",
    "\n",
    "def sequential(df):\n",
    "    sequential_data = []  # this is a list that will CONTAIN the sequences\n",
    "    prev_days = deque(maxlen=SEQ_LEN)  # These will be our actual sequences. They are made with deque, which keeps the maximum length by popping out older values as new ones come in\n",
    "    for i in df.values:  # iterate over the values\n",
    "        prev_days.append([n for n in i[1:]])  # store all but the target\n",
    "        if len(prev_days) == SEQ_LEN:  # make sure we use the past week\n",
    "            sequential_data.append([np.array(prev_days), i[0]])  # append those bad boys!\n",
    "    shuffle(sequential_data)\n",
    "    \n",
    "    X = []\n",
    "    y = []\n",
    "\n",
    "    for seq, target in sequential_data:  # going over our new sequential data\n",
    "        X.append(seq)  # X is the sequences\n",
    "        y.append(target)  # y is the targets -> flow to be predicted\n",
    "\n",
    "    return np.array(X), np.array(y)  # return X and y...and make X a numpy array!"
   ]
  },
  {
   "cell_type": "code",
   "execution_count": 14,
   "metadata": {},
   "outputs": [],
   "source": [
    "train_x, train_y = sequential(train)\n",
    "validation_x, validation_y = sequential(validation)"
   ]
  },
  {
   "cell_type": "code",
   "execution_count": 15,
   "metadata": {},
   "outputs": [
    {
     "data": {
      "text/plain": [
       "((5444, 168, 43), (5444,))"
      ]
     },
     "execution_count": 15,
     "metadata": {},
     "output_type": "execute_result"
    }
   ],
   "source": [
    "train_x.shape, train_y.shape"
   ]
  },
  {
   "cell_type": "markdown",
   "metadata": {},
   "source": [
    "# Model Building"
   ]
  },
  {
   "cell_type": "code",
   "execution_count": 17,
   "metadata": {},
   "outputs": [
    {
     "name": "stdout",
     "output_type": "stream",
     "text": [
      "Train on 5444 samples, validate on 1703 samples\n",
      "WARNING:tensorflow:From C:\\Users\\20174994\\AppData\\Local\\Continuum\\anaconda3\\lib\\site-packages\\tensorflow\\python\\ops\\math_grad.py:1250: add_dispatch_support.<locals>.wrapper (from tensorflow.python.ops.array_ops) is deprecated and will be removed in a future version.\n",
      "Instructions for updating:\n",
      "Use tf.where in 2.0, which has the same broadcast rule as np.where\n",
      "Epoch 1/10\n",
      "5444/5444 [==============================] - 86s 16ms/sample - loss: 0.4689 - acc: 0.4791 - mean_absolute_error: 0.5824 - val_loss: 0.5444 - val_acc: 0.4474 - val_mean_absolute_error: 0.1352\n",
      "Epoch 2/10\n",
      "5444/5444 [==============================] - 85s 16ms/sample - loss: 0.3322 - acc: 0.4774 - mean_absolute_error: 0.6166 - val_loss: 0.5173 - val_acc: 0.4474 - val_mean_absolute_error: 0.1837\n",
      "Epoch 3/10\n",
      "5444/5444 [==============================] - 85s 16ms/sample - loss: 0.3112 - acc: 0.4774 - mean_absolute_error: 0.7065 - val_loss: 0.6520 - val_acc: 0.4474 - val_mean_absolute_error: 0.1447\n",
      "Epoch 4/10\n",
      "5444/5444 [==============================] - 89s 16ms/sample - loss: 0.3160 - acc: 0.4776 - mean_absolute_error: 0.6507 - val_loss: 0.6476 - val_acc: 0.4474 - val_mean_absolute_error: 0.1576\n",
      "Epoch 5/10\n",
      "5444/5444 [==============================] - 85s 16ms/sample - loss: 0.3272 - acc: 0.4778 - mean_absolute_error: 0.6164 - val_loss: 0.6370 - val_acc: 0.4474 - val_mean_absolute_error: 0.1709\n",
      "Epoch 6/10\n",
      "5444/5444 [==============================] - 86s 16ms/sample - loss: 0.3339 - acc: 0.4780 - mean_absolute_error: 0.6194 - val_loss: 0.6337 - val_acc: 0.4474 - val_mean_absolute_error: 0.1795\n",
      "Epoch 7/10\n",
      "5444/5444 [==============================] - 86s 16ms/sample - loss: 0.2976 - acc: 0.4774 - mean_absolute_error: 0.8025 - val_loss: 0.4502 - val_acc: 0.4474 - val_mean_absolute_error: 0.7400\n",
      "Epoch 8/10\n",
      "5444/5444 [==============================] - 86s 16ms/sample - loss: 0.2643 - acc: 0.4776 - mean_absolute_error: 1.0514 - val_loss: 0.4530 - val_acc: 0.4474 - val_mean_absolute_error: 0.6088\n",
      "Epoch 9/10\n",
      "5444/5444 [==============================] - 88s 16ms/sample - loss: 0.2764 - acc: 0.4780 - mean_absolute_error: 1.0397 - val_loss: 0.4636 - val_acc: 0.4474 - val_mean_absolute_error: 0.6219\n",
      "Epoch 10/10\n",
      "5444/5444 [==============================] - 87s 16ms/sample - loss: 0.2798 - acc: 0.4781 - mean_absolute_error: 1.0415 - val_loss: 0.4835 - val_acc: 0.4474 - val_mean_absolute_error: 0.5491\n",
      "Test loss: 0.48353430728525953\n",
      "Test accuracy: 0.4474457\n"
     ]
    }
   ],
   "source": [
    "EPOCHS = 10  # how many passes through our data\n",
    "BATCH_SIZE = 64  # how many batches? Try smaller batch if you're getting OOM (out of memory) errors.\n",
    "NAME = f\"{SEQ_LEN}-SEQ-{FUTURE_PERIOD_PREDICT}-PRED-{int(time.time())}\"\n",
    "\n",
    "model = Sequential()\n",
    "model.add(LSTM(128, input_shape=(train_x.shape[1:]), return_sequences=True))\n",
    "model.add(Dropout(0.2))\n",
    "model.add(BatchNormalization())\n",
    "\n",
    "model.add(LSTM(128, return_sequences=True))\n",
    "model.add(Dropout(0.1))\n",
    "model.add(BatchNormalization())\n",
    "\n",
    "model.add(LSTM(128))\n",
    "model.add(Dropout(0.2))\n",
    "model.add(BatchNormalization())\n",
    "\n",
    "model.add(Dense(32, activation='relu'))\n",
    "model.add(Dropout(0.2))\n",
    "\n",
    "model.add(Dense(2, activation='relu'))\n",
    "\n",
    "\n",
    "opt = tf.keras.optimizers.Adam(lr=0.001, decay=1e-6)\n",
    "\n",
    "# Compile model\n",
    "model.compile(\n",
    "    loss='sparse_categorical_crossentropy',\n",
    "    optimizer=opt,\n",
    "    metrics=['accuracy', 'mae']\n",
    ")\n",
    "\n",
    "early_stopping_monitor = EarlyStopping(patience = 3)\n",
    "\n",
    "# tensorboard = TensorBoard(log_dir=\"logs/{}\".format(NAME))\n",
    "\n",
    "# filepath = \"RNN_Final-{epoch:02d}-{val_acc:.3f}\"  # unique file name that will include the epoch and the validation acc for that epoch\n",
    "# checkpoint = ModelCheckpoint(\"models/{}.model\".format(filepath, monitor='val_acc', verbose=1, save_best_only=True, mode='max')) # saves only the best ones\n",
    "\n",
    "# Train model\n",
    "history = model.fit(\n",
    "    train_x, train_y,\n",
    "    batch_size=BATCH_SIZE,\n",
    "    epochs=EPOCHS,\n",
    "    validation_data=(validation_x, validation_y)#,\n",
    "#     callbacks=[tensorboard, checkpoint],\n",
    ")\n",
    "\n",
    "# Score model\n",
    "score = model.evaluate(validation_x, validation_y, verbose=0)\n",
    "print('Test loss:', score[0])\n",
    "print('Test accuracy:', score[1])\n",
    "# Save model\n",
    "# model.save(\"models/{}\".format(NAME))"
   ]
  },
  {
   "cell_type": "code",
   "execution_count": 20,
   "metadata": {},
   "outputs": [
    {
     "name": "stdout",
     "output_type": "stream",
     "text": [
      "Train on 5444 samples, validate on 1703 samples\n",
      "5444/5444 [==============================] - 88s 16ms/sample - loss: 0.2362 - acc: 0.8573 - mean_absolute_error: 0.2362 - val_loss: 0.1159 - val_acc: 1.0000 - val_mean_absolute_error: 0.1159\n",
      "Test loss: 0.11592092617899967\n",
      "Test accuracy: 1.0\n"
     ]
    }
   ],
   "source": [
    "EPOCHS = 1  # how many passes through our data\n",
    "BATCH_SIZE = 64  # how many batches? Try smaller batch if you're getting OOM (out of memory) errors.\n",
    "NAME = f\"{SEQ_LEN}-SEQ-{FUTURE_PERIOD_PREDICT}-PRED-{int(time.time())}\"\n",
    "\n",
    "model = Sequential()\n",
    "model.add(LSTM(128, input_shape=(train_x.shape[1:]), return_sequences=True))\n",
    "model.add(Dropout(0.2))\n",
    "model.add(BatchNormalization())\n",
    "\n",
    "model.add(LSTM(128, return_sequences=True))\n",
    "model.add(Dropout(0.1))\n",
    "model.add(BatchNormalization())\n",
    "\n",
    "model.add(LSTM(128))\n",
    "model.add(Dropout(0.2))\n",
    "model.add(BatchNormalization())\n",
    "\n",
    "model.add(Dense(32, activation='relu'))\n",
    "model.add(Dropout(0.2))\n",
    "\n",
    "model.add(Dense(2, activation='relu'))\n",
    "\n",
    "\n",
    "opt = tf.keras.optimizers.Adam(lr=0.001, decay=1e-6)\n",
    "\n",
    "# Compile model\n",
    "model.compile(\n",
    "    loss='mean_absolute_error',\n",
    "    optimizer=opt,\n",
    "    metrics=['accuracy', 'mae']\n",
    ")\n",
    "\n",
    "early_stopping_monitor = EarlyStopping(patience = 3)\n",
    "\n",
    "# tensorboard = TensorBoard(log_dir=\"logs/{}\".format(NAME))\n",
    "\n",
    "# filepath = \"RNN_Final-{epoch:02d}-{val_acc:.3f}\"  # unique file name that will include the epoch and the validation acc for that epoch\n",
    "# checkpoint = ModelCheckpoint(\"models/{}.model\".format(filepath, monitor='val_acc', verbose=1, save_best_only=True, mode='max')) # saves only the best ones\n",
    "\n",
    "# Train model\n",
    "history = model.fit(\n",
    "    train_x, train_y,\n",
    "    batch_size=BATCH_SIZE,\n",
    "    epochs=EPOCHS,\n",
    "    validation_data=(validation_x, validation_y)#,\n",
    "#     callbacks=[tensorboard, checkpoint],\n",
    ")\n",
    "\n",
    "# Score model\n",
    "score = model.evaluate(validation_x, validation_y, verbose=0)\n",
    "print('Test loss:', score[0])\n",
    "print('Test accuracy:', score[1])\n",
    "# Save model\n",
    "# model.save(\"models/{}\".format(NAME))"
   ]
  }
 ],
 "metadata": {
  "kernelspec": {
   "display_name": "Python 3",
   "language": "python",
   "name": "python3"
  },
  "language_info": {
   "codemirror_mode": {
    "name": "ipython",
    "version": 3
   },
   "file_extension": ".py",
   "mimetype": "text/x-python",
   "name": "python",
   "nbconvert_exporter": "python",
   "pygments_lexer": "ipython3",
   "version": "3.6.4"
  }
 },
 "nbformat": 4,
 "nbformat_minor": 2
}
