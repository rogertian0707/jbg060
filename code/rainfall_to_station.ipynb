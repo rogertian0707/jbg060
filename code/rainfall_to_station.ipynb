{
 "cells": [
  {
   "cell_type": "code",
   "execution_count": 14,
   "metadata": {},
   "outputs": [],
   "source": [
    "import pandas as pd\n",
    "import glob\n",
    "import os\n",
    "pd.options.mode.chained_assignment = None \n",
    "import matplotlib as plt"
   ]
  },
  {
   "cell_type": "code",
   "execution_count": 2,
   "metadata": {},
   "outputs": [],
   "source": [
    "\n",
    "\n",
    "# PATHS\n",
    "\n",
    "#Den Bosch flow\n",
    "path = \"../data/sewer_data/data_pump/RG8150/\"\n",
    "path1 = \"../data_pumps/sewer_data_db/data_wwtp_flow/RG1876_flow/\"\n",
    "path2 = \"../data_pumps/sewer_data_db/data_wwtp_flow/RG1882_flow/\"\n",
    "\n",
    "\n",
    "#Bokhoven level\n",
    "path3 = \"../data/sewer_data/data_pump/RG8180_L0/\"\n",
    "#Bokhoven flow\n",
    "path4 = \"../data/sewer_data/data_pump/RG8180_Q0/\"\n",
    "\n",
    "\n",
    "#Haarsteeg level\n",
    "path5 = \"../data/sewer_data/data_pump/rg8170_N99/\"\n",
    "#Haarsteeg flow\n",
    "path6 = \"../data/sewer_data/data_pump/rg8170_99/\"\n",
    "\n",
    "\n",
    "#Helftheuvelweg level column 003 Helftheuvelweg *.csv\n",
    "path7 = \"../data/sewer_data_db/data_pump_level/\"\n",
    "#Helftheuvelweg flow \n",
    "path8 = \"../data/sewer_data_db/data_pump_flow/1210FIT301_99/\"\n",
    "\n",
    "\n",
    "#Engelerschans level column “004 Engelerschans” *.csv\n",
    "path9 = \"../data/sewer_data_db/data_pump_level/\"\n",
    "#Engelerschans flow + Haarsteeg + Bokhoven, therefore substract for only Engeleschans\n",
    "path10 = \"../data/sewer_data_db/data_pump_flow/1210FIT201_99/\"\n",
    "\n",
    "\n",
    "#Maaspoort level Column: “006 Maaspoort” *.csv \n",
    "path11 = \"../data/sewer_data_db/data_pump_level/\"\n",
    "#Maasport flow + Rompert\n",
    "path12= \"../data/sewer_data_db/data_pump_flow/1210FIT501_99/\"\n",
    "\n",
    "\n",
    "#Oude Engelenseweg level Column: “002 Oude Engelenseweg” *.csv\n",
    "path13 = \"../data/sewer_data_db/data_pump_level/\"\n",
    "#Oude Engelenseweg flow\n",
    "path14 = \"../data/sewer_data_db/data_pump_flow/1210FIT401_94/\"\n",
    "\n",
    "\n",
    "#De Rompert level Column: “005 de Rompert” *.csv\n",
    "path15 = \"../data/sewer_data_db/data_pump_level/\"\n",
    "#De Rompert flow + Maasport\n",
    "path16 = \"../data/sewer_data_db/data_pump_flow/1210FIT501_99/\""
   ]
  },
  {
   "cell_type": "code",
   "execution_count": null,
   "metadata": {},
   "outputs": [],
   "source": [
    "#Reading and rendering (One liner example)\n",
    "#Use for example this flow data and the below rain data for Haarsteeg to experiment with visualizations\n",
    "#Haarsteeg\n",
    "\n",
    "df = pd.concat([pd.read_csv(file) for file in glob.glob(path5)], ignore_index = True)\n",
    "\n",
    "#df.to_csv(path5+\"haarsteeg_l_comb.csv\")"
   ]
  },
  {
   "cell_type": "code",
   "execution_count": 3,
   "metadata": {},
   "outputs": [],
   "source": [
    "path_linkinfo = \"../data/sewer_model_db\"\n",
    "path_rain = \"../data/sewer_data/rain_timeseries\"\n",
    "\n",
    "station_names = [\"Haarsteeg\", \"Bokhoven\", \"Hertogenbosch (Helftheuvelweg)\", \"Hertogenbosch (Rompert)\"]\n",
    "link = pd.read_excel(path_linkinfo+\n",
    "                   \"/20180717_dump riodat rioleringsdeelgebieden_DB.xlsx\",skiprows=[0,1,2,3,4,5,6,7,8]\n",
    "                   )"
   ]
  },
  {
   "cell_type": "code",
   "execution_count": 4,
   "metadata": {},
   "outputs": [],
   "source": [
    "# #Location linkage\n",
    "# path_linkinfo = \"../data/waterschap-aa-en-maas_sewage_2019/sewer_model\"\n",
    "# path_rain = \"../data/waterschap-aa-en-maas_sewage_2019/sewer_data/rain_timeseries\"\n",
    "\n",
    "# #Missing Engelerschans and RWZI Den Bosch linking streets inside the linking document(Someone revisit this please e.g @Roger)\n",
    "# #Another missing thing this time in the rainfall data itself are streets in \"Hertogenbosch (Oude Engelenseweg)\" and in \"Hertogenbosch (Maaspoort)\", if you want to\n",
    "# #see, plug \"Hertogenbosch (Oude Engelenseweg)\" or the other one in station_names to see exactly which streets are not in index\n",
    "# # THIS IS SOMETHING TO REPORT AS MISSING IN OUR DELIVERABLE!!!\n",
    "\n",
    "# station_names = [\"Haarsteeg\", \"Bokhoven\", \"Hertogenbosch (Helftheuvelweg)\", \"Hertogenbosch (Rompert)\"]\n",
    "# link = pd.read_csv(path_linkinfo+\n",
    "#                    \"/20180717_dump riodat rioleringsdeelgebieden_matched_to_rainfall_locations.csv\",\n",
    "#                    header = 9)\n",
    "\n",
    "#Street names by stations\n",
    "streets = [list(link[link[\"Naam kern\"] == name][\"Naam / lokatie\"]) for name in station_names]\n",
    "\n",
    "rain = pd.concat([pd.read_csv(file, header = 2) for file in glob.glob(path_rain+\"/*.*\")], ignore_index = True)\n",
    "\n",
    "#All the rain for the streets for the pump stations in order of station_names and the streets per station\n",
    "#can be found in streets nested list in the same order\n",
    "\n",
    "\n",
    "all_areas = rain[[\"Begin\", \"Eind\"] + [i for sl in streets for i in sl]]\n"
   ]
  },
  {
   "cell_type": "code",
   "execution_count": 5,
   "metadata": {},
   "outputs": [],
   "source": [
    "all_areas2 = pd.DataFrame()\n",
    "\n",
    "for i in range(len(station_names)):\n",
    "    all_areas2[station_names[i]] = rain[streets[i]].sum(1)\n",
    "\n",
    "all_areas2[\"Begin\"] =  all_areas[\"Begin\"]\n",
    "all_areas2[\"End\"] = all_areas[\"Eind\"]"
   ]
  },
  {
   "cell_type": "code",
   "execution_count": 7,
   "metadata": {},
   "outputs": [
    {
     "data": {
      "text/html": [
       "<div>\n",
       "<style scoped>\n",
       "    .dataframe tbody tr th:only-of-type {\n",
       "        vertical-align: middle;\n",
       "    }\n",
       "\n",
       "    .dataframe tbody tr th {\n",
       "        vertical-align: top;\n",
       "    }\n",
       "\n",
       "    .dataframe thead th {\n",
       "        text-align: right;\n",
       "    }\n",
       "</style>\n",
       "<table border=\"1\" class=\"dataframe\">\n",
       "  <thead>\n",
       "    <tr style=\"text-align: right;\">\n",
       "      <th></th>\n",
       "      <th>Haarsteeg</th>\n",
       "      <th>Bokhoven</th>\n",
       "      <th>Hertogenbosch (Helftheuvelweg)</th>\n",
       "      <th>Hertogenbosch (Rompert)</th>\n",
       "      <th>Begin</th>\n",
       "      <th>End</th>\n",
       "    </tr>\n",
       "  </thead>\n",
       "  <tbody>\n",
       "    <tr>\n",
       "      <th>0</th>\n",
       "      <td>0.0</td>\n",
       "      <td>0.0</td>\n",
       "      <td>0.0</td>\n",
       "      <td>0.0</td>\n",
       "      <td>31-05-2018 22:00:00</td>\n",
       "      <td>31-05-2018 22:05:00</td>\n",
       "    </tr>\n",
       "    <tr>\n",
       "      <th>1</th>\n",
       "      <td>0.0</td>\n",
       "      <td>0.0</td>\n",
       "      <td>0.0</td>\n",
       "      <td>0.0</td>\n",
       "      <td>31-05-2018 22:05:00</td>\n",
       "      <td>31-05-2018 22:10:00</td>\n",
       "    </tr>\n",
       "    <tr>\n",
       "      <th>2</th>\n",
       "      <td>0.0</td>\n",
       "      <td>0.0</td>\n",
       "      <td>0.0</td>\n",
       "      <td>0.0</td>\n",
       "      <td>31-05-2018 22:10:00</td>\n",
       "      <td>31-05-2018 22:15:00</td>\n",
       "    </tr>\n",
       "    <tr>\n",
       "      <th>3</th>\n",
       "      <td>0.0</td>\n",
       "      <td>0.0</td>\n",
       "      <td>0.0</td>\n",
       "      <td>0.0</td>\n",
       "      <td>31-05-2018 22:15:00</td>\n",
       "      <td>31-05-2018 22:20:00</td>\n",
       "    </tr>\n",
       "    <tr>\n",
       "      <th>4</th>\n",
       "      <td>0.0</td>\n",
       "      <td>0.0</td>\n",
       "      <td>0.0</td>\n",
       "      <td>0.0</td>\n",
       "      <td>31-05-2018 22:20:00</td>\n",
       "      <td>31-05-2018 22:25:00</td>\n",
       "    </tr>\n",
       "  </tbody>\n",
       "</table>\n",
       "</div>"
      ],
      "text/plain": [
       "   Haarsteeg  Bokhoven  Hertogenbosch (Helftheuvelweg)  \\\n",
       "0        0.0       0.0                             0.0   \n",
       "1        0.0       0.0                             0.0   \n",
       "2        0.0       0.0                             0.0   \n",
       "3        0.0       0.0                             0.0   \n",
       "4        0.0       0.0                             0.0   \n",
       "\n",
       "   Hertogenbosch (Rompert)                Begin                  End  \n",
       "0                      0.0  31-05-2018 22:00:00  31-05-2018 22:05:00  \n",
       "1                      0.0  31-05-2018 22:05:00  31-05-2018 22:10:00  \n",
       "2                      0.0  31-05-2018 22:10:00  31-05-2018 22:15:00  \n",
       "3                      0.0  31-05-2018 22:15:00  31-05-2018 22:20:00  \n",
       "4                      0.0  31-05-2018 22:20:00  31-05-2018 22:25:00  "
      ]
     },
     "execution_count": 7,
     "metadata": {},
     "output_type": "execute_result"
    }
   ],
   "source": [
    "# The sum of the rain at all locations\n",
    "all_areas2.head()"
   ]
  },
  {
   "cell_type": "markdown",
   "metadata": {},
   "source": [
    "# Visualizing Rainfall over time"
   ]
  },
  {
   "cell_type": "code",
   "execution_count": 12,
   "metadata": {},
   "outputs": [
    {
     "name": "stdout",
     "output_type": "stream",
     "text": [
      "1.64 ms ± 91.8 µs per loop (mean ± std. dev. of 7 runs, 1000 loops each)\n",
      "1.76 ms ± 323 µs per loop (mean ± std. dev. of 7 runs, 1 loop each)\n"
     ]
    }
   ],
   "source": [
    "#Transforming strings to datetime objects\n",
    "%timeit all_areas2[\"Begin\"]=pd.to_datetime(all_areas2[\"Begin\"],format='%d-%m-%Y %H:%M:%S')\n",
    "%timeit all_areas2[\"End\"]=pd.to_datetime(all_areas2[\"End\"],format='%d-%m-%Y %H:%M:%S')"
   ]
  },
  {
   "cell_type": "code",
   "execution_count": 17,
   "metadata": {},
   "outputs": [
    {
     "data": {
      "image/png": "[encoded data removed]",
      "text/plain": [
       "<Figure size 1800x720 with 1 Axes>"
      ]
     },
     "metadata": {},
     "output_type": "display_data"
    }
   ],
   "source": [
    "all_areas2.plot(x=\"Begin\",y=\"Haarsteeg\",figsize=(25,10),kind=\"line\",linewidth=0.5, title = 'Rainfall measurements for Haarsteeg');"
   ]
  },
  {
   "cell_type": "code",
   "execution_count": 18,
   "metadata": {},
   "outputs": [
    {
     "data": {
      "text/html": [
       "<div>\n",
       "<style scoped>\n",
       "    .dataframe tbody tr th:only-of-type {\n",
       "        vertical-align: middle;\n",
       "    }\n",
       "\n",
       "    .dataframe tbody tr th {\n",
       "        vertical-align: top;\n",
       "    }\n",
       "\n",
       "    .dataframe thead th {\n",
       "        text-align: right;\n",
       "    }\n",
       "</style>\n",
       "<table border=\"1\" class=\"dataframe\">\n",
       "  <thead>\n",
       "    <tr style=\"text-align: right;\">\n",
       "      <th></th>\n",
       "      <th>Haarsteeg</th>\n",
       "      <th>Bokhoven</th>\n",
       "    </tr>\n",
       "  </thead>\n",
       "  <tbody>\n",
       "    <tr>\n",
       "      <th>count</th>\n",
       "      <td>128102.000000</td>\n",
       "      <td>128102.000000</td>\n",
       "    </tr>\n",
       "    <tr>\n",
       "      <th>mean</th>\n",
       "      <td>0.023556</td>\n",
       "      <td>0.015852</td>\n",
       "    </tr>\n",
       "    <tr>\n",
       "      <th>std</th>\n",
       "      <td>0.272626</td>\n",
       "      <td>0.180707</td>\n",
       "    </tr>\n",
       "    <tr>\n",
       "      <th>min</th>\n",
       "      <td>0.000000</td>\n",
       "      <td>0.000000</td>\n",
       "    </tr>\n",
       "    <tr>\n",
       "      <th>25%</th>\n",
       "      <td>0.000000</td>\n",
       "      <td>0.000000</td>\n",
       "    </tr>\n",
       "    <tr>\n",
       "      <th>50%</th>\n",
       "      <td>0.000000</td>\n",
       "      <td>0.000000</td>\n",
       "    </tr>\n",
       "    <tr>\n",
       "      <th>75%</th>\n",
       "      <td>0.000000</td>\n",
       "      <td>0.000000</td>\n",
       "    </tr>\n",
       "    <tr>\n",
       "      <th>max</th>\n",
       "      <td>25.848700</td>\n",
       "      <td>13.519400</td>\n",
       "    </tr>\n",
       "  </tbody>\n",
       "</table>\n",
       "</div>"
      ],
      "text/plain": [
       "           Haarsteeg       Bokhoven\n",
       "count  128102.000000  128102.000000\n",
       "mean        0.023556       0.015852\n",
       "std         0.272626       0.180707\n",
       "min         0.000000       0.000000\n",
       "25%         0.000000       0.000000\n",
       "50%         0.000000       0.000000\n",
       "75%         0.000000       0.000000\n",
       "max        25.848700      13.519400"
      ]
     },
     "execution_count": 18,
     "metadata": {},
     "output_type": "execute_result"
    }
   ],
   "source": [
    "#Descriptive statistics\n",
    "all_areas2[['Haarsteeg','Bokhoven']].describe()"
   ]
  }
 ],
 "metadata": {
  "kernelspec": {
   "display_name": "Python 3",
   "language": "python",
   "name": "python3"
  },
  "language_info": {
   "codemirror_mode": {
    "name": "ipython",
    "version": 3
   },
   "file_extension": ".py",
   "mimetype": "text/x-python",
   "name": "python",
   "nbconvert_exporter": "python",
   "pygments_lexer": "ipython3",
   "version": "3.6.5"
  }
 },
 "nbformat": 4,
 "nbformat_minor": 2
}
