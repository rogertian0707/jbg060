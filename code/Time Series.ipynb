{
 "cells": [
  {
   "cell_type": "markdown",
   "metadata": {},
   "source": [
    "# Save this Notebook in the data_pump folder or change directory accordingly"
   ]
  },
  {
   "cell_type": "code",
   "execution_count": 1,
   "metadata": {},
   "outputs": [],
   "source": [
    "import pandas as pd\n",
    "import sys\n",
    "import glob\n",
    "import datetime\n",
    "import time"
   ]
  },
  {
   "cell_type": "code",
   "execution_count": 2,
   "metadata": {},
   "outputs": [],
   "source": [
    "comb70 = pd.read_csv(\"./RG8170/combined_csv70.csv\")\n",
    "comb50 = pd.read_csv(\"./RG8150/combined_csv50.csv\")"
   ]
  },
  {
   "cell_type": "markdown",
   "metadata": {},
   "source": [
    "# Transform time strings to datetime objects"
   ]
  },
  {
   "cell_type": "code",
   "execution_count": 7,
   "metadata": {},
   "outputs": [
    {
     "name": "stdout",
     "output_type": "stream",
     "text": [
      "140.67778134346008\n"
     ]
    }
   ],
   "source": [
    "start = time.time()\n",
    "dates70 = list()\n",
    "for date in range(comb70.shape[0]):\n",
    "    dates70.append(datetime.datetime.strptime(comb70['TimeStamp'][date], '%d-%m-%Y %H:%M:%S'))\n",
    "end = time.time()\n",
    "print(end-start)"
   ]
  },
  {
   "cell_type": "code",
   "execution_count": null,
   "metadata": {},
   "outputs": [],
   "source": [
    "start = time.time()\n",
    "dates50 = list()\n",
    "for date in range(comb50.shape[0]):\n",
    "    dates50.append(datetime.datetime.strptime(comb70['TimeStamp'][date], '%d-%m-%Y %H:%M:%S'))\n",
    "end = time.time()\n",
    "print(end-start)"
   ]
  },
  {
   "cell_type": "code",
   "execution_count": 9,
   "metadata": {},
   "outputs": [],
   "source": [
    "comb70['TimeDatetime'] = dates70\n",
    "comb50['TimeDatetime'] = dates50"
   ]
  },
  {
   "cell_type": "code",
   "execution_count": 10,
   "metadata": {},
   "outputs": [
    {
     "data": {
      "text/html": [
       "<div>\n",
       "<style scoped>\n",
       "    .dataframe tbody tr th:only-of-type {\n",
       "        vertical-align: middle;\n",
       "    }\n",
       "\n",
       "    .dataframe tbody tr th {\n",
       "        vertical-align: top;\n",
       "    }\n",
       "\n",
       "    .dataframe thead th {\n",
       "        text-align: right;\n",
       "    }\n",
       "</style>\n",
       "<table border=\"1\" class=\"dataframe\">\n",
       "  <thead>\n",
       "    <tr style=\"text-align: right;\">\n",
       "      <th></th>\n",
       "      <th>Unnamed: 0</th>\n",
       "      <th>Tagname</th>\n",
       "      <th>TimeStamp</th>\n",
       "      <th>Value</th>\n",
       "      <th>DataQuality</th>\n",
       "      <th>PercentGood</th>\n",
       "      <th>Comments</th>\n",
       "      <th>TimeDatetime</th>\n",
       "    </tr>\n",
       "  </thead>\n",
       "  <tbody>\n",
       "    <tr>\n",
       "      <th>0</th>\n",
       "      <td>0</td>\n",
       "      <td>GBS_DB.RG8170/FT510/Debietmeting.Q</td>\n",
       "      <td>1-1-2018 00:00:05</td>\n",
       "      <td>3604,701</td>\n",
       "      <td>Good</td>\n",
       "      <td>100,0</td>\n",
       "      <td>NaN</td>\n",
       "      <td>2018-01-01 00:00:05</td>\n",
       "    </tr>\n",
       "    <tr>\n",
       "      <th>1</th>\n",
       "      <td>1</td>\n",
       "      <td>GBS_DB.RG8170/FT510/Debietmeting.Q</td>\n",
       "      <td>1-1-2018 00:00:10</td>\n",
       "      <td>3577,001</td>\n",
       "      <td>Good</td>\n",
       "      <td>100,0</td>\n",
       "      <td>NaN</td>\n",
       "      <td>2018-01-01 00:00:10</td>\n",
       "    </tr>\n",
       "    <tr>\n",
       "      <th>2</th>\n",
       "      <td>2</td>\n",
       "      <td>GBS_DB.RG8170/FT510/Debietmeting.Q</td>\n",
       "      <td>1-1-2018 00:00:15</td>\n",
       "      <td>3586,489</td>\n",
       "      <td>Good</td>\n",
       "      <td>100,0</td>\n",
       "      <td>NaN</td>\n",
       "      <td>2018-01-01 00:00:15</td>\n",
       "    </tr>\n",
       "    <tr>\n",
       "      <th>3</th>\n",
       "      <td>3</td>\n",
       "      <td>GBS_DB.RG8170/FT510/Debietmeting.Q</td>\n",
       "      <td>1-1-2018 00:00:20</td>\n",
       "      <td>3629,318</td>\n",
       "      <td>Good</td>\n",
       "      <td>100,0</td>\n",
       "      <td>NaN</td>\n",
       "      <td>2018-01-01 00:00:20</td>\n",
       "    </tr>\n",
       "    <tr>\n",
       "      <th>4</th>\n",
       "      <td>4</td>\n",
       "      <td>GBS_DB.RG8170/FT510/Debietmeting.Q</td>\n",
       "      <td>1-1-2018 00:00:25</td>\n",
       "      <td>3650,753</td>\n",
       "      <td>Good</td>\n",
       "      <td>100,0</td>\n",
       "      <td>NaN</td>\n",
       "      <td>2018-01-01 00:00:25</td>\n",
       "    </tr>\n",
       "  </tbody>\n",
       "</table>\n",
       "</div>"
      ],
      "text/plain": [
       "   Unnamed: 0                             Tagname          TimeStamp  \\\n",
       "0           0  GBS_DB.RG8170/FT510/Debietmeting.Q  1-1-2018 00:00:05   \n",
       "1           1  GBS_DB.RG8170/FT510/Debietmeting.Q  1-1-2018 00:00:10   \n",
       "2           2  GBS_DB.RG8170/FT510/Debietmeting.Q  1-1-2018 00:00:15   \n",
       "3           3  GBS_DB.RG8170/FT510/Debietmeting.Q  1-1-2018 00:00:20   \n",
       "4           4  GBS_DB.RG8170/FT510/Debietmeting.Q  1-1-2018 00:00:25   \n",
       "\n",
       "      Value DataQuality PercentGood  Comments        TimeDatetime  \n",
       "0  3604,701        Good       100,0       NaN 2018-01-01 00:00:05  \n",
       "1  3577,001        Good       100,0       NaN 2018-01-01 00:00:10  \n",
       "2  3586,489        Good       100,0       NaN 2018-01-01 00:00:15  \n",
       "3  3629,318        Good       100,0       NaN 2018-01-01 00:00:20  \n",
       "4  3650,753        Good       100,0       NaN 2018-01-01 00:00:25  "
      ]
     },
     "execution_count": 10,
     "metadata": {},
     "output_type": "execute_result"
    }
   ],
   "source": [
    "comb70.head()"
   ]
  },
  {
   "cell_type": "code",
   "execution_count": null,
   "metadata": {},
   "outputs": [],
   "source": [
    "comb50.head()"
   ]
  }
 ],
 "metadata": {
  "kernelspec": {
   "display_name": "Python 3",
   "language": "python",
   "name": "python3"
  },
  "language_info": {
   "codemirror_mode": {
    "name": "ipython",
    "version": 3
   },
   "file_extension": ".py",
   "mimetype": "text/x-python",
   "name": "python",
   "nbconvert_exporter": "python",
   "pygments_lexer": "ipython3",
   "version": "3.6.8"
  }
 },
 "nbformat": 4,
 "nbformat_minor": 2
}
