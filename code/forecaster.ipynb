{
 "cells": [
  {
   "cell_type": "code",
   "execution_count": 1,
   "metadata": {},
   "outputs": [],
   "source": [
    "import pandas as pd\n",
    "import glob\n",
    "import holidays\n",
    "import datetime\n",
    "from sklearn.ensemble import RandomForestRegressor\n",
    "from numpy import mean\n",
    "#Bokhoven level\n",
    "path3 = \"../data/waterschap-aa-en-maas_sewage_2019/sewer_data/data_pump/RG8180_L0/\"\n",
    "#Bokhoven flow\n",
    "path4 = \"../data/waterschap-aa-en-maas_sewage_2019/sewer_data/data_pump/RG8180_Q0/\"\n",
    "path6 = \"../data/waterschap-aa-en-maas_sewage_2019/sewer_data/data_pump/rg8170_99/\""
   ]
  },
  {
   "cell_type": "code",
   "execution_count": null,
   "metadata": {},
   "outputs": [],
   "source": []
  },
  {
   "cell_type": "code",
   "execution_count": 3,
   "metadata": {},
   "outputs": [
    {
     "data": {
      "text/plain": [
       "1034661906.9185008"
      ]
     },
     "execution_count": 3,
     "metadata": {},
     "output_type": "execute_result"
    }
   ],
   "source": [
    "flow_haarsteeg = pd.concat([pd.read_csv(file) for file in glob.glob(path6+\"/*.*\")], ignore_index = True)\n",
    "\n",
    "features = flow_haarsteeg[[\"datumBeginMeting\", \"datumEindeMeting\", \"hstWaarde\"]].sort_values(by='datumBeginMeting')\n",
    "features[\"datumBeginMeting\"] = pd.to_datetime(features[\"datumBeginMeting\"])\n",
    "features[\"datumEindeMeting\"] = pd.to_datetime(features[\"datumEindeMeting\"])\n",
    "features = features.set_index(\"datumBeginMeting\", drop = False).resample(\"60Min\").sum()\n",
    "features = features.reset_index()\n",
    "features[\"day\"] = features[\"datumBeginMeting\"].dt.day\n",
    "features[\"hour\"] = features[\"datumBeginMeting\"].dt.hour\n",
    "features[\"dayofyear\"] = features[\"datumBeginMeting\"].dt.dayofyear\n",
    "features[\"dayofweek\"] =  features[\"datumBeginMeting\"].dt.dayofweek\n",
    "\n",
    "\n",
    "nl_holidays = holidays.CountryHoliday('NL')\n",
    "\n",
    "holiday = []\n",
    "for i in features[\"datumBeginMeting\"]:\n",
    "    if i in nl_holidays:\n",
    "        holiday.append(1)\n",
    "    else:\n",
    "        holiday.append(0)\n",
    "\n",
    "features[\"holiday\"] = holiday\n",
    "            \n",
    "train1 = features[(features[\"datumBeginMeting\"] >= min(features[\"datumBeginMeting\"])) &\n",
    "                 (features[\"datumBeginMeting\"] <= pd.Timestamp(2019, 1, 1))]\n",
    "train = train1[[\"hour\"]]\n",
    "test1 = features[features[\"datumBeginMeting\"] > pd.Timestamp(2019, 1, 1)]\n",
    "test = test1[[\"hour\"]]\n",
    "\n",
    "rf = RandomForestRegressor(n_estimators = 1000)\n",
    "rf.fit(train, train1[\"hstWaarde\"])\n",
    "prediction = rf.predict(test)\n",
    "error = test1[\"hstWaarde\"] - prediction\n",
    "def mse(d):\n",
    "    \"\"\"Mean Squared Error\"\"\"\n",
    "    return mean(d * d)\n",
    "\n",
    "mse(error)"
   ]
  },
  {
   "cell_type": "code",
   "execution_count": 12,
   "metadata": {},
   "outputs": [
    {
     "data": {
      "text/plain": [
       "8761    -20100.389453\n",
       "8762     -2967.323357\n",
       "8763    -13799.428245\n",
       "8764    -11207.535368\n",
       "8765    -15732.980468\n",
       "8766     -6424.735561\n",
       "8767    -18281.235298\n",
       "8768    -19501.482832\n",
       "8769    -23235.096889\n",
       "8770    -28986.131612\n",
       "8771    -16463.047471\n",
       "8772      1647.434489\n",
       "8773      3890.993034\n",
       "8774     13406.853010\n",
       "8775      7510.018138\n",
       "8776      -870.175689\n",
       "8777     -2385.476111\n",
       "8778     -5317.444390\n",
       "8779    -10961.664740\n",
       "8780    -11862.275814\n",
       "8781     -8169.243747\n",
       "8782      -302.765039\n",
       "8783    -17566.609815\n",
       "8784     -4337.660823\n",
       "8785    -20052.189453\n",
       "8786     -6919.423357\n",
       "8787    -12922.028245\n",
       "8788     -6936.235368\n",
       "8789    -26500.780468\n",
       "8790    -16900.935561\n",
       "             ...     \n",
       "14370    -9795.944390\n",
       "14371   -18061.264740\n",
       "14372    -5264.175814\n",
       "14373    -7490.243747\n",
       "14374   -13769.465039\n",
       "14375    -4282.309815\n",
       "14376   -10359.160823\n",
       "14377   -15599.289453\n",
       "14378   -18359.523357\n",
       "14379   -10924.528245\n",
       "14380   -16778.935368\n",
       "14381   -14926.380468\n",
       "14382   -15389.935561\n",
       "14383   -27933.735298\n",
       "14384   -11118.182832\n",
       "14385    -5306.296889\n",
       "14386    -9757.431612\n",
       "14387   -17073.347471\n",
       "14388    -9785.365511\n",
       "14389   -20445.606966\n",
       "14390   -10313.046990\n",
       "14391    -7457.381862\n",
       "14392   -11526.175689\n",
       "14393   -18024.276111\n",
       "14394     -508.444390\n",
       "14395   -21788.764740\n",
       "14396    -2038.975814\n",
       "14397   -22112.043747\n",
       "14398   -13548.565039\n",
       "14399    -7544.909815\n",
       "Name: hstWaarde, Length: 5639, dtype: float64"
      ]
     },
     "execution_count": 12,
     "metadata": {},
     "output_type": "execute_result"
    }
   ],
   "source": [
    "1037152077.6889356"
   ]
  },
  {
   "cell_type": "code",
   "execution_count": 76,
   "metadata": {},
   "outputs": [
    {
     "name": "stderr",
     "output_type": "stream",
     "text": [
      "C:\\Users\\Hermii\\Anaconda3\\anaconda3\\lib\\site-packages\\ipykernel_launcher.py:1: SettingWithCopyWarning: \n",
      "A value is trying to be set on a copy of a slice from a DataFrame.\n",
      "Try using .loc[row_indexer,col_indexer] = value instead\n",
      "\n",
      "See the caveats in the documentation: http://pandas.pydata.org/pandas-docs/stable/indexing.html#indexing-view-versus-copy\n",
      "  \"\"\"Entry point for launching an IPython kernel.\n"
     ]
    }
   ],
   "source": [
    "test1[\"predictions\"] = prediction"
   ]
  },
  {
   "cell_type": "raw",
   "metadata": {},
   "source": [
    "test1"
   ]
  }
 ],
 "metadata": {
  "kernelspec": {
   "display_name": "Python 3",
   "language": "python",
   "name": "python3"
  },
  "language_info": {
   "codemirror_mode": {
    "name": "ipython",
    "version": 3
   },
   "file_extension": ".py",
   "mimetype": "text/x-python",
   "name": "python",
   "nbconvert_exporter": "python",
   "pygments_lexer": "ipython3",
   "version": "3.7.3"
  }
 },
 "nbformat": 4,
 "nbformat_minor": 2
}
