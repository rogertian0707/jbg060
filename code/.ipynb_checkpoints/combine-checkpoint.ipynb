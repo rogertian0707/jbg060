{
 "cells": [
  {
   "cell_type": "code",
   "execution_count": null,
   "metadata": {
    "collapsed": true
   },
   "outputs": [],
   "source": [
    "import pandas as pd\n",
    "import sys\n",
    "import glob"
   ]
  },
  {
   "cell_type": "code",
   "execution_count": null,
   "metadata": {},
   "outputs": [],
   "source": [
    "path = \"../data/sewer_data/data_pump/RG8150\"\n",
    "path2 = \"../data/sewer_data/data_pump/RG8170\"\n",
    "combined_data = \"../combined_data/\""
   ]
  },
  {
   "cell_type": "code",
   "execution_count": null,
   "metadata": {},
   "outputs": [],
   "source": [
    "all_files = glob.glob(path + \"/*.csv\")\n",
    "\n",
    "li = []\n",
    "for filename in all_files:\n",
    "    df = pd.read_csv(filename, index_col=None, header=0, delimiter = \";\")\n",
    "    li.append(df)\n",
    "    \n",
    "comb50 = pd.concat(li, axis=0, ignore_index=True)\n",
    "comb50[\"City.PumpType\"], comb50[\"column_idk\"], comb50[\"measurementType\"] = comb50[\"Tagname\"].str.split(\"/\").str\n",
    "comb50.drop([\"Tagname\"], inplace = True, axis=1)\n",
    "\n",
    "#Saving to a separate csv only the file for pump RG8150\n",
    "comb50.to_csv(combined_data+\"combined_csv50.csv\")"
   ]
  },
  {
   "cell_type": "code",
   "execution_count": null,
   "metadata": {},
   "outputs": [],
   "source": [
    "all_files2 = glob.glob(path2 + \"/*.csv\")\n",
    "\n",
    "li2 = []\n",
    "for filename in all_files2:\n",
    "    df = pd.read_csv(filename, index_col=None, header=0, delimiter = \";\")\n",
    "    li2.append(df)\n",
    "    \n",
    "comb70 = pd.concat(li2, axis=0, ignore_index=True)\n",
    "comb70[\"City.PumpType\"], comb70[\"column_idk\"], comb70[\"measurementType\"] = comb70[\"Tagname\"].str.split(\"/\").str\n",
    "comb70.drop([\"Tagname\"], inplace = True, axis=1)\n",
    "\n",
    "\n",
    "comb70.to_csv(combined_data+\"combined_csv70.csv\")"
   ]
  },
  {
   "cell_type": "code",
   "execution_count": null,
   "metadata": {},
   "outputs": [],
   "source": [
    "# save both to one csv file\n",
    "both_pumps = pd.concat([comb50, comb70], axis=0, ignore_index=True)\n",
    "both_pumps.to_csv(combined_data+\"both_pumps.csv\")"
   ]
  }
 ],
 "metadata": {
  "kernelspec": {
   "display_name": "Python 3",
   "language": "python",
   "name": "python3"
  },
  "language_info": {
   "codemirror_mode": {
    "name": "ipython",
    "version": 3
   },
   "file_extension": ".py",
   "mimetype": "text/x-python",
   "name": "python",
   "nbconvert_exporter": "python",
   "pygments_lexer": "ipython3",
   "version": "3.6.8"
  }
 },
 "nbformat": 4,
 "nbformat_minor": 2
}
